{
 "cells": [
  {
   "cell_type": "markdown",
   "metadata": {},
   "source": [
    "# Pipeline to remove Odontomachus ruginodis (Orug) contamination from Camponotus planatus (Cpla) transcriptome\n",
    "This takes single gene phylogenies as input, along with the transcriptomes and other stuff"
   ]
  },
  {
   "cell_type": "markdown",
   "metadata": {},
   "source": [
    "## Table of Contents\n",
    "\n",
    "1. For ~3500 candidate genes that have >90% similarity to a gene in Orug, find their peptide sequences (MAGOT), find their best hit in 11 other Apoidea (BLASTP), align (MAFFT), and build ML phylogenies (RAxML)\n",
    "2. Read in trees and analyse\n",
    "3. Construct dataframe with sequence and phylogenetic features\n",
    "4. Plots showing that these features indicate contamination\n",
    "5. Identify and remove contaminants from the transcriptome"
   ]
  },
  {
   "cell_type": "code",
   "execution_count": 1,
   "metadata": {},
   "outputs": [],
   "source": [
    "import itertools\n",
    "import os"
   ]
  },
  {
   "cell_type": "code",
   "execution_count": 2,
   "metadata": {},
   "outputs": [],
   "source": [
    "from Bio import SeqIO\n",
    "from ete3 import Tree"
   ]
  },
  {
   "cell_type": "code",
   "execution_count": 3,
   "metadata": {},
   "outputs": [],
   "source": [
    "import numpy as np\n",
    "import pandas as pd"
   ]
  },
  {
   "cell_type": "code",
   "execution_count": 4,
   "metadata": {},
   "outputs": [],
   "source": [
    "%matplotlib inline\n",
    "import matplotlib.pyplot as plt\n",
    "import seaborn as sns"
   ]
  },
  {
   "cell_type": "code",
   "execution_count": null,
   "metadata": {},
   "outputs": [],
   "source": []
  },
  {
   "cell_type": "markdown",
   "metadata": {},
   "source": [
    "## 1. For ~3500 candidate genes that have >90% similarity to a gene in Orug, find their peptide sequences (MAGOT), find their best hit in 11 other Apoidea (BLASTP), align (MAFFT), and build ML phylogenies (RAxML)\n",
    "\n",
    "The best BLAST result for each of these resultant Cpla candidate genes from a range of Hymenoptera was determined."
   ]
  },
  {
   "cell_type": "code",
   "execution_count": 5,
   "metadata": {},
   "outputs": [
    {
     "name": "stdout",
     "output_type": "stream",
     "text": [
      "3510\n"
     ]
    },
    {
     "data": {
      "text/html": [
       "<div>\n",
       "<style scoped>\n",
       "    .dataframe tbody tr th:only-of-type {\n",
       "        vertical-align: middle;\n",
       "    }\n",
       "\n",
       "    .dataframe tbody tr th {\n",
       "        vertical-align: top;\n",
       "    }\n",
       "\n",
       "    .dataframe thead th {\n",
       "        text-align: right;\n",
       "    }\n",
       "</style>\n",
       "<table border=\"1\" class=\"dataframe\">\n",
       "  <thead>\n",
       "    <tr style=\"text-align: right;\">\n",
       "      <th></th>\n",
       "      <th>0</th>\n",
       "    </tr>\n",
       "  </thead>\n",
       "  <tbody>\n",
       "    <tr>\n",
       "      <th>0</th>\n",
       "      <td>Cpla|SGF52724</td>\n",
       "    </tr>\n",
       "    <tr>\n",
       "      <th>1</th>\n",
       "      <td>Cpla|SGF48080</td>\n",
       "    </tr>\n",
       "    <tr>\n",
       "      <th>2</th>\n",
       "      <td>Cpla|SGF52907</td>\n",
       "    </tr>\n",
       "    <tr>\n",
       "      <th>3</th>\n",
       "      <td>Cpla|SGF52908</td>\n",
       "    </tr>\n",
       "    <tr>\n",
       "      <th>4</th>\n",
       "      <td>Cpla|SGF55108</td>\n",
       "    </tr>\n",
       "  </tbody>\n",
       "</table>\n",
       "</div>"
      ],
      "text/plain": [
       "               0\n",
       "0  Cpla|SGF52724\n",
       "1  Cpla|SGF48080\n",
       "2  Cpla|SGF52907\n",
       "3  Cpla|SGF52908\n",
       "4  Cpla|SGF55108"
      ]
     },
     "execution_count": 5,
     "metadata": {},
     "output_type": "execute_result"
    }
   ],
   "source": [
    "#Feed in list of candidate Cpla sequences from which to identify contaminated genes. \n",
    "#This list contains 3510 genes that have >90% identity to their best blastp hit in Orug\n",
    "s_Cpla_candidates = pd.read_table('Cpla_candidates.txt', header = None)\n",
    "print(len(s_Cpla_candidates))\n",
    "s_Cpla_candidates.head()"
   ]
  },
  {
   "cell_type": "code",
   "execution_count": 6,
   "metadata": {
    "collapsed": true
   },
   "outputs": [],
   "source": [
    "# create dictionary of blast results\n",
    "blast_cols  = ['qseqid', 'sseqid', 'pident', 'length', 'mismatch', 'gapopen', 'qstart', 'qend', 'sstart', 'send', 'evalue', 'bitscore']\n",
    "sp_list = ['Aech', 'Amel', 'Bimp', 'Cflo', 'Dqua', 'Hsal', 'Lnig', 'Mrot', 'Obir', 'Orug', 'Sinv']\n",
    "fp_list = [\"contam_Cpla_vs_{}.bx\".format(x) for x in sp_list ]\n",
    "           \n",
    "sp_blast = { sp:pd.read_csv(os.path.join(\"contamination_assessment\",fp), \n",
    "                            header=None, \n",
    "                            names=blast_cols,\n",
    "                            sep='\\t',\n",
    "                           ) for sp,fp in zip(sp_list, fp_list)}"
   ]
  },
  {
   "cell_type": "code",
   "execution_count": 7,
   "metadata": {},
   "outputs": [
    {
     "data": {
      "text/html": [
       "<div>\n",
       "<style scoped>\n",
       "    .dataframe tbody tr th:only-of-type {\n",
       "        vertical-align: middle;\n",
       "    }\n",
       "\n",
       "    .dataframe tbody tr th {\n",
       "        vertical-align: top;\n",
       "    }\n",
       "\n",
       "    .dataframe thead th {\n",
       "        text-align: right;\n",
       "    }\n",
       "</style>\n",
       "<table border=\"1\" class=\"dataframe\">\n",
       "  <thead>\n",
       "    <tr style=\"text-align: right;\">\n",
       "      <th></th>\n",
       "      <th>qseqid</th>\n",
       "      <th>sseqid</th>\n",
       "      <th>pident</th>\n",
       "      <th>length</th>\n",
       "      <th>mismatch</th>\n",
       "      <th>gapopen</th>\n",
       "      <th>qstart</th>\n",
       "      <th>qend</th>\n",
       "      <th>sstart</th>\n",
       "      <th>send</th>\n",
       "      <th>evalue</th>\n",
       "      <th>bitscore</th>\n",
       "    </tr>\n",
       "  </thead>\n",
       "  <tbody>\n",
       "    <tr>\n",
       "      <th>0</th>\n",
       "      <td>Cpla|SGF46838</td>\n",
       "      <td>Amel|LOC726178</td>\n",
       "      <td>89.89</td>\n",
       "      <td>89</td>\n",
       "      <td>7</td>\n",
       "      <td>1</td>\n",
       "      <td>15</td>\n",
       "      <td>103</td>\n",
       "      <td>110</td>\n",
       "      <td>196</td>\n",
       "      <td>6.000000e-49</td>\n",
       "      <td>164.0</td>\n",
       "    </tr>\n",
       "    <tr>\n",
       "      <th>1</th>\n",
       "      <td>Cpla|SGF46839</td>\n",
       "      <td>Amel|STXBP5</td>\n",
       "      <td>90.71</td>\n",
       "      <td>140</td>\n",
       "      <td>10</td>\n",
       "      <td>1</td>\n",
       "      <td>2</td>\n",
       "      <td>138</td>\n",
       "      <td>1232</td>\n",
       "      <td>1371</td>\n",
       "      <td>4.000000e-83</td>\n",
       "      <td>266.0</td>\n",
       "    </tr>\n",
       "    <tr>\n",
       "      <th>2</th>\n",
       "      <td>Cpla|SGF46841</td>\n",
       "      <td>Amel|LOC552637</td>\n",
       "      <td>95.42</td>\n",
       "      <td>306</td>\n",
       "      <td>14</td>\n",
       "      <td>0</td>\n",
       "      <td>1</td>\n",
       "      <td>306</td>\n",
       "      <td>1</td>\n",
       "      <td>306</td>\n",
       "      <td>0.000000e+00</td>\n",
       "      <td>617.0</td>\n",
       "    </tr>\n",
       "    <tr>\n",
       "      <th>3</th>\n",
       "      <td>Cpla|SGF46844</td>\n",
       "      <td>Amel|LOC725680</td>\n",
       "      <td>88.78</td>\n",
       "      <td>740</td>\n",
       "      <td>82</td>\n",
       "      <td>1</td>\n",
       "      <td>2</td>\n",
       "      <td>740</td>\n",
       "      <td>4</td>\n",
       "      <td>743</td>\n",
       "      <td>0.000000e+00</td>\n",
       "      <td>1358.0</td>\n",
       "    </tr>\n",
       "    <tr>\n",
       "      <th>4</th>\n",
       "      <td>Cpla|SGF46848</td>\n",
       "      <td>Amel|LOC409711</td>\n",
       "      <td>82.40</td>\n",
       "      <td>125</td>\n",
       "      <td>9</td>\n",
       "      <td>3</td>\n",
       "      <td>1</td>\n",
       "      <td>116</td>\n",
       "      <td>1006</td>\n",
       "      <td>1126</td>\n",
       "      <td>1.000000e-43</td>\n",
       "      <td>153.0</td>\n",
       "    </tr>\n",
       "  </tbody>\n",
       "</table>\n",
       "</div>"
      ],
      "text/plain": [
       "          qseqid          sseqid  pident  length  mismatch  gapopen  qstart  \\\n",
       "0  Cpla|SGF46838  Amel|LOC726178   89.89      89         7        1      15   \n",
       "1  Cpla|SGF46839     Amel|STXBP5   90.71     140        10        1       2   \n",
       "2  Cpla|SGF46841  Amel|LOC552637   95.42     306        14        0       1   \n",
       "3  Cpla|SGF46844  Amel|LOC725680   88.78     740        82        1       2   \n",
       "4  Cpla|SGF46848  Amel|LOC409711   82.40     125         9        3       1   \n",
       "\n",
       "   qend  sstart  send        evalue  bitscore  \n",
       "0   103     110   196  6.000000e-49     164.0  \n",
       "1   138    1232  1371  4.000000e-83     266.0  \n",
       "2   306       1   306  0.000000e+00     617.0  \n",
       "3   740       4   743  0.000000e+00    1358.0  \n",
       "4   116    1006  1126  1.000000e-43     153.0  "
      ]
     },
     "execution_count": 7,
     "metadata": {},
     "output_type": "execute_result"
    }
   ],
   "source": [
    "sp_blast['Amel'].head()"
   ]
  },
  {
   "cell_type": "code",
   "execution_count": 8,
   "metadata": {},
   "outputs": [],
   "source": [
    "# get all genes with an evalue match < 0.01\n",
    "df_concat1 = pd.concat([sp_blast[sp][sp_blast[sp]['evalue'] < 0.01] for sp in sp_list], axis=0)"
   ]
  },
  {
   "cell_type": "code",
   "execution_count": 9,
   "metadata": {},
   "outputs": [],
   "source": [
    "df_cpla_hits = df_concat1.pivot_table(values='sseqid', \n",
    "                                       index='qseqid', \n",
    "                                       aggfunc=lambda x: list(x)\n",
    "                                      )"
   ]
  },
  {
   "cell_type": "code",
   "execution_count": 10,
   "metadata": {},
   "outputs": [
    {
     "name": "stderr",
     "output_type": "stream",
     "text": [
      "/Users/vchandra/anaconda/envs/ilp/lib/python3.6/site-packages/matplotlib/axes/_axes.py:6462: UserWarning: The 'normed' kwarg is deprecated, and has been replaced by the 'density' kwarg.\n",
      "  warnings.warn(\"The 'normed' kwarg is deprecated, and has been \"\n"
     ]
    },
    {
     "data": {
      "image/png": "[encoded data removed]",
      "text/plain": [
       "<Figure size 432x288 with 1 Axes>"
      ]
     },
     "metadata": {},
     "output_type": "display_data"
    }
   ],
   "source": [
    "sns.distplot(df_cpla_hits.sseqid.apply(lambda s: len(s)+1), kde=False, bins=13)\n",
    "plt.title(\"Number of good matches for {} Cpla genes\".format(len(df_cpla_hits)))\n",
    "plt.show()"
   ]
  },
  {
   "cell_type": "markdown",
   "metadata": {},
   "source": [
    "The above figure shows that most of the candidate contaminant genes have a good match from all of the reference genomes."
   ]
  },
  {
   "cell_type": "code",
   "execution_count": 12,
   "metadata": {
    "collapsed": true
   },
   "outputs": [],
   "source": [
    "#save lists of Cpla orthologue groups; one group per file\n",
    "for ogene in df_cpla_hits.index:\n",
    "    handle = open('Cpla_gene_lists/{}.out'.format(ogene), 'w')\n",
    "    handle.write('\\n'.join(df_cpla_hits.loc[ogene][0]))"
   ]
  },
  {
   "cell_type": "code",
   "execution_count": null,
   "metadata": {},
   "outputs": [],
   "source": []
  },
  {
   "cell_type": "markdown",
   "metadata": {},
   "source": [
    "## Used mafft and raxml on the server to construct phylogenies for each of these orthologue groups (scripts attached below)"
   ]
  },
  {
   "cell_type": "markdown",
   "metadata": {},
   "source": [
    "### MAGOT Script\n",
    "This script takes each species' gene name, searches the corresponding peptidome and returns the peptide sequence for each gene. \n",
    "\n",
    "```\n",
    "#!/usr/bin/bash\n",
    "\n",
    "for SPECIES in Aech Bimp Amel Cflo Cpla Dqua Hsal Lnig Obir Orug Mrot Sinv; \n",
    "do \n",
    "    for i in $(cat ${SPECIES}_candidate_seqs.txt); \n",
    "    do \n",
    "\n",
    "        MAGOT get_seq_from_fasta '${SPECIES}.pep' $i True >> ${i}_seqs.fasta \n",
    "\n",
    "    done\n",
    "done\n",
    "```"
   ]
  },
  {
   "cell_type": "markdown",
   "metadata": {},
   "source": [
    "### MAFFT Script\n",
    "\n",
    "As input, this takes lists of sequences (one sequence from each of roughly 12 species' peptidomes), and performs a multiple sequence alignment. \n",
    "\n",
    "```\n",
    "#!/usr/bin/bash\n",
    "\n",
    "for i in $(ls 'Cpla_candidates/Cpla_sequences/'); do\n",
    "\n",
    "   mafft --localpair --thread 30 --maxiterate 1000 Cpla_candidates/Cpla_sequences/$i > $i.aligned\n",
    "\n",
    "done\n",
    "```"
   ]
  },
  {
   "cell_type": "markdown",
   "metadata": {},
   "source": [
    "### RAxML Script\n",
    "\n",
    "This takes multiple sequence alignments as input and generates maximum likelihood phylogenies for each alignment. \n",
    "\n",
    "```\n",
    "#!/usr/bin/bash\n",
    "\n",
    "for i in $(ls 'Cpla_candidates/alignments/'); do\n",
    "\n",
    "    raxml -s Cpla_candidates/alignments/$i -m PROTGAMMAJTT -p 6666 -T 30 -n $i.out \n",
    "\n",
    "done\n",
    "```"
   ]
  },
  {
   "cell_type": "markdown",
   "metadata": {},
   "source": [
    "## 2. Read in trees and analyse"
   ]
  },
  {
   "cell_type": "code",
   "execution_count": 13,
   "metadata": {},
   "outputs": [
    {
     "name": "stdout",
     "output_type": "stream",
     "text": [
      "3463\n"
     ]
    }
   ],
   "source": [
    "#list all phylogenies for Orug candidate genes in treelist\n",
    "treelist = []\n",
    "for file in os.listdir('contamination_assessment/Cpla_trees/'):\n",
    "    if 'bestTree' in file:\n",
    "        treelist.append('contamination_assessment/Cpla_trees/' + file)\n",
    "\n",
    "print(len(treelist))"
   ]
  },
  {
   "cell_type": "code",
   "execution_count": 14,
   "metadata": {
    "scrolled": true
   },
   "outputs": [
    {
     "name": "stdout",
     "output_type": "stream",
     "text": [
      "\n",
      "      /-Cflo|XP_011267623.1\n",
      "   /-|\n",
      "  |  |   /-Cbir|LOC105287556\n",
      "  |   \\-|\n",
      "  |      \\-Dqua|LOC106750675\n",
      "  |\n",
      "  |         /-Sinv|XP_011174656.1\n",
      "  |      /-|\n",
      "  |     |  |   /-KMQ82389.1\n",
      "  |     |   \\-|\n",
      "  |     |     |   /-Mrot|XP_003705009.1\n",
      "--|     |      \\-|\n",
      "  |   /-|        |   /-Bimp|XP_003485579.1\n",
      "  |  |  |         \\-|\n",
      "  |  |  |            \\-Amel|mamo\n",
      "  |  |  |\n",
      "  |--|  |   /-Orug|SGF61798\n",
      "  |  |   \\-|\n",
      "  |  |      \\-Hsal|LOC105180637\n",
      "  |  |\n",
      "  |   \\-Aech|XP_011060921.1\n",
      "  |\n",
      "   \\-Cpla|SGF48905\n",
      "\n",
      "      /-Cbir|LOC105281692\n",
      "     |\n",
      "     |            /-Dqua|LOC106747065\n",
      "     |         /-|\n",
      "   /-|      /-|   \\-Hsal|LOC105192301\n",
      "  |  |     |  |\n",
      "  |  |   /-|   \\-Orug|SGF80530\n",
      "  |  |  |  |\n",
      "  |  |  |  |   /-Bimp|XP_003493701.1\n",
      "  |   \\-|   \\-|\n",
      "  |     |      \\-Amel|LOC100576908\n",
      "--|     |\n",
      "  |     |   /-Sinv|XP_011159071.1\n",
      "  |      \\-|\n",
      "  |         \\-Aech|XP_011059894.1\n",
      "  |\n",
      "  |--Cflo|XP_011264024.1\n",
      "  |\n",
      "   \\-Cpla|SGF62474\n"
     ]
    }
   ],
   "source": [
    "#print examples of these phylogenies\n",
    "\n",
    "#note that genes beginning with 'KM' are from Lasius niger. All other species are \n",
    "#named following the four letter nomenclature: \n",
    "#first letter from the first letter of the genus, and the next three letters from the start of the species name\n",
    "\n",
    "for i in range(0, 2):\n",
    "    x = Tree(treelist[i])\n",
    "    print(x)"
   ]
  },
  {
   "cell_type": "code",
   "execution_count": 15,
   "metadata": {
    "collapsed": true,
    "scrolled": true
   },
   "outputs": [],
   "source": [
    "# for each tree in the list, ask whether Cpla is sister to Orug. \n",
    "# store names of possible contaminant sequences\n",
    "# store distances between Orug and Cpla in separate files; one for good trees and one for possible contaminants\n",
    "# plot distributions of these distances\n",
    "\n",
    "contaminants = {}\n",
    "good_genes = {}\n",
    "s_clade = {}\n",
    "bee_tree_errors = []\n",
    "no_bees = []\n",
    "weird_bees = []\n",
    "s_clade_errors = []\n",
    "bee_seq_errors = []\n",
    "scl1 = 0\n",
    "nobiroi = []\n",
    "fail = []\n",
    "sis_clade_fail = []\n",
    "\n",
    "\n",
    "for tree in treelist:\n",
    "    Cpla = ''\n",
    "    Orug = ''\n",
    "    Cflo = ''\n",
    "    Lnig = ''\n",
    "    Hsal = ''\n",
    "    Dqua = ''\n",
    "    Mrot = ''\n",
    "    Amel = ''\n",
    "    Bimp = ''\n",
    "    x = ''\n",
    "    sis_clade = ''\n",
    "    bee_ancestor = []\n",
    "    bad = False\n",
    "\n",
    "    intree = Tree(tree)\n",
    "    for leaf in intree: \n",
    "        if 'Mrot' in leaf.name:\n",
    "            Mrot = leaf.name\n",
    "        elif 'Amel' in leaf.name:\n",
    "            Amel = leaf.name\n",
    "        elif 'Bimp' in leaf.name:\n",
    "            Bimp = leaf.name\n",
    "        elif 'Cbir' in leaf.name:\n",
    "            Obir = leaf.name\n",
    "    \n",
    "    #find bees\n",
    "    nbees = []\n",
    "    for i in [Mrot, Amel, Bimp]:\n",
    "        if i != '':\n",
    "            nbees.append(i)\n",
    "    \n",
    "    #find ancestor of all bees\n",
    "    try:\n",
    "        if len(nbees) > 1:\n",
    "            bee_ancestor = intree.get_common_ancestor(nbees)\n",
    "        elif len(nbees) == 1:\n",
    "            bee_ancestor = [nbees[0]]\n",
    "        else:\n",
    "            no_bees.append(tree)\n",
    "    except:\n",
    "        bee_seq_errors.append(tree)\n",
    "        continue\n",
    "    \n",
    "    #reroot tree on ancestral bee (allow bee clade to contain up to one non-bee and if not, try rooting on any one bee)\n",
    "    if len(bee_ancestor) <= 4 and len(bee_ancestor) > 1:\n",
    "        intree.set_outgroup(bee_ancestor)\n",
    "    elif len(bee_ancestor) > 4 or len(bee_ancestor) == 1:\n",
    "        intree.set_outgroup(nbees[0])\n",
    "        weird_bees.append(tree)\n",
    "    elif len(bee_ancestor) == 0:\n",
    "        try:\n",
    "            intree.set_outgroup(Obir)\n",
    "        except:\n",
    "            nobiroi.append(tree)\n",
    "            bad = True\n",
    "    \n",
    "    if not bad:\n",
    "        for leaf in intree:\n",
    "            if 'Cpla' in leaf.name:\n",
    "                Cpla = leaf.name\n",
    "            elif 'Orug' in leaf.name:\n",
    "                Orug = leaf.name\n",
    "            elif 'Hsal' in leaf.name:\n",
    "                Hsal = leaf.name\n",
    "            elif 'KM' in leaf.name:\n",
    "                Lnig = leaf.name\n",
    "            elif 'Dqua' in leaf.name:\n",
    "                Dqua = leaf.name\n",
    "            elif 'Cflo' in leaf.name:\n",
    "                Cflo = leaf.name\n",
    "                \n",
    "                \n",
    "\n",
    "        if len(Orug) > 0: \n",
    "            x = str(tree)\n",
    "            x = x.split('.')\n",
    "            x = x[1]\n",
    "            cont_check = intree.get_common_ancestor(Cpla, Orug)\n",
    "            if len(cont_check) == 2:\n",
    "                contaminants[x] = intree.get_distance(Cpla, Orug)\n",
    "            elif len(cont_check) > 2:\n",
    "                good_genes[x] = intree.get_distance(Cpla, Orug)\n",
    "            sis_clade = cont_check.get_sisters()\n",
    "            \n",
    "            if sis_clade != '':\n",
    "                if Lnig != '' and Cflo != '' and Dqua != '' and Hsal != '':\n",
    "                    Hmrca = intree.get_common_ancestor(cont_check, Hsal)\n",
    "                    Dmrca = intree.get_common_ancestor(cont_check, Dqua)\n",
    "                    Cmrca = intree.get_common_ancestor(cont_check, Cflo)\n",
    "                    Lmrca = intree.get_common_ancestor(cont_check, Lnig)\n",
    "                    Pav = min(len(Hmrca), len(Dmrca))\n",
    "                    Fav = min(len(Cmrca), len(Lmrca))\n",
    "                \n",
    "                    if len(sis_clade) == 1:\n",
    "                        if Pav > Fav:\n",
    "                            s_clade[x] = 'F'\n",
    "                        elif Pav < Fav:\n",
    "                            s_clade[x] = 'P'\n",
    "                        else:\n",
    "                            if len(cont_check) == 2:\n",
    "                                s_clade[x] = 'both'\n",
    "                                sis_clade_fail.append(tree)\n",
    "                        scl1 += 1\n",
    "                else: \n",
    "                    s_clade_errors.append(x)    \n",
    "                \n",
    "            \n",
    "    else: \n",
    "        fail.append(tree)\n",
    "    \n"
   ]
  },
  {
   "cell_type": "code",
   "execution_count": 16,
   "metadata": {},
   "outputs": [
    {
     "name": "stdout",
     "output_type": "stream",
     "text": [
      "3188\n",
      "25\n"
     ]
    },
    {
     "data": {
      "text/plain": [
       "Trees with no bees and no O. biroi sequences:        7\n",
       "failures:                                            7\n",
       "Trees with no bees:                                 36\n",
       "Possible contaminants:                             800\n",
       "Good genes:                                       2653\n",
       "Successful classification of clade:                934\n",
       "Bee sequence errors:                                 0\n",
       "Bee tree errors:                                     0\n",
       "Weird bees:                                        289\n",
       "Clade classification errors:                       257\n",
       "dtype: object"
      ]
     },
     "execution_count": 16,
     "metadata": {},
     "output_type": "execute_result"
    }
   ],
   "source": [
    "df_results = pd.Series({'Trees with no bees and no O. biroi sequences: ' : str(len(nobiroi)),\n",
    "                        'failures: ' : str(len(fail)),\n",
    "                        'Trees with no bees: ' : str(len(no_bees)),\n",
    "                        'Possible contaminants: ' : str(len(contaminants)),\n",
    "                        'Good genes: ' : str(len(good_genes)),\n",
    "                        'Successful classification of clade: ' : str(len(s_clade)),\n",
    "                        'Bee sequence errors: ' : str(len(bee_seq_errors)),\n",
    "                        'Bee tree errors: ' : str(len(bee_tree_errors)),\n",
    "                        'Weird bees: ' : str(len(weird_bees)),\n",
    "                        'Clade classification errors: ' : str(len(s_clade_errors)),\n",
    "                       })\n",
    "\n",
    "print(scl1)\n",
    "print(len(sis_clade_fail))\n",
    "df_results"
   ]
  },
  {
   "cell_type": "code",
   "execution_count": 17,
   "metadata": {
    "collapsed": true
   },
   "outputs": [],
   "source": [
    "#define true species tree\n",
    "truetree = Tree(\"(((Dqua,(Orug, Hsal)),(Obir,((Lnig,(Cflo, Cpla)),(Aech, Sinv)))),(Mrot, (Amel, Bimp)));\")\n"
   ]
  },
  {
   "cell_type": "code",
   "execution_count": 18,
   "metadata": {
    "collapsed": true
   },
   "outputs": [],
   "source": [
    "#make dictionary with Robinson-Foulds distances between each tree and the true species tree\n",
    "\n",
    "rfs = {}\n",
    "bee_tree_errors2 = []\n",
    "bee_seq_errors2 = []\n",
    "\n",
    "for tree in treelist:\n",
    "    Cpla = []\n",
    "    Orug = []\n",
    "    Cflo = []\n",
    "    Lnig = []\n",
    "    Hsal = []\n",
    "    Dqua = []\n",
    "    Obir = []\n",
    "    Amel = []\n",
    "    Mrot = []\n",
    "    Bimp = []\n",
    "    Sinv = []\n",
    "    Aech = []\n",
    "\n",
    "    intree = Tree(tree)\n",
    "    for leaf in intree: \n",
    "        if 'Mrot' in leaf.name:\n",
    "            Mrot = leaf.name\n",
    "        elif 'Amel' in leaf.name:\n",
    "            Amel = leaf.name\n",
    "        elif 'Bimp' in leaf.name:\n",
    "            Bimp = leaf.name\n",
    "        elif 'Cpla' in leaf.name:\n",
    "            Cpla = leaf.name\n",
    "   \n",
    "    nbees = []\n",
    "    for i in [Mrot, Amel, Bimp]:\n",
    "        if i != '':\n",
    "            nbees.append(i)\n",
    "    \n",
    "    try:\n",
    "        bee_ancestor = intree.get_common_ancestor(nbees)\n",
    "    except:\n",
    "        bee_seq_errors2.append(tree)\n",
    "        continue\n",
    "        \n",
    "    if len(bee_ancestor) <= 4 and len(bee_ancestor) > 0:\n",
    "        intree.set_outgroup(bee_ancestor)\n",
    "    else:\n",
    "        bee_tree_errors2.append(tree)\n",
    "    \n",
    "    if len(bee_ancestor) <= 4 and len(bee_ancestor) > 0:\n",
    "        for leaf in intree:\n",
    "            if 'Cpla' in leaf.name:\n",
    "                leaf.name = 'Cpla'\n",
    "            elif 'Orug' in leaf.name:\n",
    "                leaf.name = 'Orug'\n",
    "            elif 'Hsal' in leaf.name:\n",
    "                leaf.name = 'Hsal'\n",
    "            elif 'KM' in leaf.name:\n",
    "                leaf.name = 'Lnig'\n",
    "            elif 'Dqua' in leaf.name:\n",
    "                leaf.name = 'Dqua'\n",
    "            elif 'Cflo' in leaf.name:\n",
    "                leaf.name = 'Cflo'\n",
    "            elif 'Cbir' in leaf.name:\n",
    "                leaf.name = 'Obir'\n",
    "            elif 'Aech' in leaf.name:\n",
    "                leaf.name = 'Aech'\n",
    "            elif 'Sinv' in leaf.name:\n",
    "                leaf.name = 'Sinv'\n",
    "            elif 'Amel' in leaf.name:\n",
    "                leaf.name = 'Amel'\n",
    "            elif 'Bimp' in leaf.name:\n",
    "                leaf.name = 'Bimp'\n",
    "            elif 'Mrot' in leaf.name:\n",
    "                leaf.name = 'Mrot'\n",
    "        \n",
    "        a = truetree.robinson_foulds(intree)\n",
    "        normrf = float(a[0])/float(a[1])\n",
    "        rfs[Cpla] = float(normrf)"
   ]
  },
  {
   "cell_type": "code",
   "execution_count": 19,
   "metadata": {},
   "outputs": [
    {
     "data": {
      "image/png": "[encoded data removed]",
      "text/plain": [
       "<Figure size 432x288 with 1 Axes>"
      ]
     },
     "metadata": {},
     "output_type": "display_data"
    }
   ],
   "source": [
    "#plot tree distance for good sequences and potential contaminants (i.e. dodgy sequences)\n",
    "sns.set_style('ticks')\n",
    "\n",
    "lgd = [np.log2(x) for x in good_genes.values()]    \n",
    "lbd = [np.log2(x) for x in contaminants.values()]    \n",
    "\n",
    "aa = sns.violinplot(data=[lgd, lbd], scale='area', inner='point')\n",
    "aa.set(ylabel = 'log10 Cpla-Orug genetic distance')\n",
    "aa.set_xticklabels(['Good sequences', 'Dodgy sequences'])\n",
    "\n",
    "plt.show()"
   ]
  },
  {
   "cell_type": "markdown",
   "metadata": {},
   "source": [
    "## 3. Construct dataframe with sequence and phylogenetic features"
   ]
  },
  {
   "cell_type": "code",
   "execution_count": 20,
   "metadata": {
    "collapsed": true
   },
   "outputs": [],
   "source": [
    "#read in outputs for blastp of Cpla against Orug and two ponerines\n",
    "Cpla_vs_Orug = pd.read_csv(\"contamination_assessment/Cpla_vs_Orug\", header = None, sep='\\t', names=blast_cols)\n",
    "Cpla_vs_Hsal = pd.read_table(\"contamination_assessment/Cpla_vs_Hsal.bx\", header = None, sep='\\t', names=blast_cols)\n",
    "Cpla_vs_Dqua = pd.read_table(\"contamination_assessment/Cpla_vs_Dqua.bx\", header = None, sep='\\t', names=blast_cols)"
   ]
  },
  {
   "cell_type": "code",
   "execution_count": 21,
   "metadata": {},
   "outputs": [
    {
     "data": {
      "text/html": [
       "<div>\n",
       "<style scoped>\n",
       "    .dataframe tbody tr th:only-of-type {\n",
       "        vertical-align: middle;\n",
       "    }\n",
       "\n",
       "    .dataframe tbody tr th {\n",
       "        vertical-align: top;\n",
       "    }\n",
       "\n",
       "    .dataframe thead th {\n",
       "        text-align: right;\n",
       "    }\n",
       "</style>\n",
       "<table border=\"1\" class=\"dataframe\">\n",
       "  <thead>\n",
       "    <tr style=\"text-align: right;\">\n",
       "      <th></th>\n",
       "      <th>qseqid</th>\n",
       "      <th>sseqid</th>\n",
       "      <th>pident</th>\n",
       "      <th>length</th>\n",
       "      <th>mismatch</th>\n",
       "      <th>gapopen</th>\n",
       "      <th>qstart</th>\n",
       "      <th>qend</th>\n",
       "      <th>sstart</th>\n",
       "      <th>send</th>\n",
       "      <th>evalue</th>\n",
       "      <th>bitscore</th>\n",
       "    </tr>\n",
       "  </thead>\n",
       "  <tbody>\n",
       "    <tr>\n",
       "      <th>0</th>\n",
       "      <td>Cpla|SGF53585</td>\n",
       "      <td>Orug|SGF85362</td>\n",
       "      <td>66.42</td>\n",
       "      <td>1069</td>\n",
       "      <td>336</td>\n",
       "      <td>2</td>\n",
       "      <td>1</td>\n",
       "      <td>1046</td>\n",
       "      <td>1</td>\n",
       "      <td>1069</td>\n",
       "      <td>0.000000e+00</td>\n",
       "      <td>1466.0</td>\n",
       "    </tr>\n",
       "    <tr>\n",
       "      <th>1</th>\n",
       "      <td>Cpla|SGF47365</td>\n",
       "      <td>Orug|SGF74196</td>\n",
       "      <td>83.22</td>\n",
       "      <td>602</td>\n",
       "      <td>96</td>\n",
       "      <td>3</td>\n",
       "      <td>1</td>\n",
       "      <td>597</td>\n",
       "      <td>1</td>\n",
       "      <td>602</td>\n",
       "      <td>0.000000e+00</td>\n",
       "      <td>1026.0</td>\n",
       "    </tr>\n",
       "    <tr>\n",
       "      <th>2</th>\n",
       "      <td>Cpla|SGF52903</td>\n",
       "      <td>Orug|SGF82220</td>\n",
       "      <td>88.89</td>\n",
       "      <td>36</td>\n",
       "      <td>3</td>\n",
       "      <td>1</td>\n",
       "      <td>1</td>\n",
       "      <td>36</td>\n",
       "      <td>739</td>\n",
       "      <td>773</td>\n",
       "      <td>4.000000e-13</td>\n",
       "      <td>65.5</td>\n",
       "    </tr>\n",
       "    <tr>\n",
       "      <th>3</th>\n",
       "      <td>Cpla|SGF52724</td>\n",
       "      <td>Orug|SGF81012</td>\n",
       "      <td>91.58</td>\n",
       "      <td>558</td>\n",
       "      <td>42</td>\n",
       "      <td>4</td>\n",
       "      <td>14</td>\n",
       "      <td>569</td>\n",
       "      <td>575</td>\n",
       "      <td>1129</td>\n",
       "      <td>0.000000e+00</td>\n",
       "      <td>1001.0</td>\n",
       "    </tr>\n",
       "    <tr>\n",
       "      <th>4</th>\n",
       "      <td>Cpla|SGF52904</td>\n",
       "      <td>Orug|SGF71773</td>\n",
       "      <td>31.58</td>\n",
       "      <td>38</td>\n",
       "      <td>26</td>\n",
       "      <td>0</td>\n",
       "      <td>46</td>\n",
       "      <td>83</td>\n",
       "      <td>1926</td>\n",
       "      <td>1963</td>\n",
       "      <td>6.900000e-01</td>\n",
       "      <td>28.1</td>\n",
       "    </tr>\n",
       "  </tbody>\n",
       "</table>\n",
       "</div>"
      ],
      "text/plain": [
       "          qseqid         sseqid  pident  length  mismatch  gapopen  qstart  \\\n",
       "0  Cpla|SGF53585  Orug|SGF85362   66.42    1069       336        2       1   \n",
       "1  Cpla|SGF47365  Orug|SGF74196   83.22     602        96        3       1   \n",
       "2  Cpla|SGF52903  Orug|SGF82220   88.89      36         3        1       1   \n",
       "3  Cpla|SGF52724  Orug|SGF81012   91.58     558        42        4      14   \n",
       "4  Cpla|SGF52904  Orug|SGF71773   31.58      38        26        0      46   \n",
       "\n",
       "   qend  sstart  send        evalue  bitscore  \n",
       "0  1046       1  1069  0.000000e+00    1466.0  \n",
       "1   597       1   602  0.000000e+00    1026.0  \n",
       "2    36     739   773  4.000000e-13      65.5  \n",
       "3   569     575  1129  0.000000e+00    1001.0  \n",
       "4    83    1926  1963  6.900000e-01      28.1  "
      ]
     },
     "execution_count": 21,
     "metadata": {},
     "output_type": "execute_result"
    }
   ],
   "source": [
    "Cpla_vs_Orug.head()"
   ]
  },
  {
   "cell_type": "code",
   "execution_count": 22,
   "metadata": {},
   "outputs": [
    {
     "data": {
      "text/html": [
       "<div>\n",
       "<style scoped>\n",
       "    .dataframe tbody tr th:only-of-type {\n",
       "        vertical-align: middle;\n",
       "    }\n",
       "\n",
       "    .dataframe tbody tr th {\n",
       "        vertical-align: top;\n",
       "    }\n",
       "\n",
       "    .dataframe thead th {\n",
       "        text-align: right;\n",
       "    }\n",
       "</style>\n",
       "<table border=\"1\" class=\"dataframe\">\n",
       "  <thead>\n",
       "    <tr style=\"text-align: right;\">\n",
       "      <th></th>\n",
       "      <th>baseMean</th>\n",
       "      <th>log2FoldChange</th>\n",
       "      <th>lfcSE</th>\n",
       "      <th>stat</th>\n",
       "      <th>pvalue</th>\n",
       "      <th>padj</th>\n",
       "    </tr>\n",
       "  </thead>\n",
       "  <tbody>\n",
       "    <tr>\n",
       "      <th>Cpla|SGF53853</th>\n",
       "      <td>448.442547</td>\n",
       "      <td>4.807533</td>\n",
       "      <td>0.239711</td>\n",
       "      <td>20.055534</td>\n",
       "      <td>1.805928e-89</td>\n",
       "      <td>2.329106e-85</td>\n",
       "    </tr>\n",
       "    <tr>\n",
       "      <th>Cpla|SGF65151</th>\n",
       "      <td>325.278589</td>\n",
       "      <td>-6.878632</td>\n",
       "      <td>0.441929</td>\n",
       "      <td>-15.565010</td>\n",
       "      <td>1.258510e-54</td>\n",
       "      <td>8.115505e-51</td>\n",
       "    </tr>\n",
       "    <tr>\n",
       "      <th>Cpla|SGF47263</th>\n",
       "      <td>18334.582825</td>\n",
       "      <td>1.033610</td>\n",
       "      <td>0.078275</td>\n",
       "      <td>13.204818</td>\n",
       "      <td>8.229800e-40</td>\n",
       "      <td>3.537991e-36</td>\n",
       "    </tr>\n",
       "    <tr>\n",
       "      <th>Cpla|SGF53725</th>\n",
       "      <td>68.061743</td>\n",
       "      <td>-6.547125</td>\n",
       "      <td>0.541867</td>\n",
       "      <td>-12.082533</td>\n",
       "      <td>1.306324e-33</td>\n",
       "      <td>4.211914e-30</td>\n",
       "    </tr>\n",
       "    <tr>\n",
       "      <th>Cpla|SGF50282</th>\n",
       "      <td>60.901632</td>\n",
       "      <td>-6.238108</td>\n",
       "      <td>0.528536</td>\n",
       "      <td>-11.802606</td>\n",
       "      <td>3.784082e-32</td>\n",
       "      <td>9.760661e-29</td>\n",
       "    </tr>\n",
       "  </tbody>\n",
       "</table>\n",
       "</div>"
      ],
      "text/plain": [
       "                   baseMean  log2FoldChange     lfcSE       stat  \\\n",
       "Cpla|SGF53853    448.442547        4.807533  0.239711  20.055534   \n",
       "Cpla|SGF65151    325.278589       -6.878632  0.441929 -15.565010   \n",
       "Cpla|SGF47263  18334.582825        1.033610  0.078275  13.204818   \n",
       "Cpla|SGF53725     68.061743       -6.547125  0.541867 -12.082533   \n",
       "Cpla|SGF50282     60.901632       -6.238108  0.528536 -11.802606   \n",
       "\n",
       "                     pvalue          padj  \n",
       "Cpla|SGF53853  1.805928e-89  2.329106e-85  \n",
       "Cpla|SGF65151  1.258510e-54  8.115505e-51  \n",
       "Cpla|SGF47263  8.229800e-40  3.537991e-36  \n",
       "Cpla|SGF53725  1.306324e-33  4.211914e-30  \n",
       "Cpla|SGF50282  3.784082e-32  9.760661e-29  "
      ]
     },
     "execution_count": 22,
     "metadata": {},
     "output_type": "execute_result"
    }
   ],
   "source": [
    "colnames = ['baseMean', 'log2FoldChange', 'lfcSE', 'stat', 'pvalue', 'padj']\n",
    "Cpla_deseq = pd.read_csv(\"contamination_assessment/Camp_planatus.genes.QW.pvalues.nohed.out\", \n",
    "                         sep = ' ', header=None,\n",
    "                         names=colnames,\n",
    "                        )\n",
    "\n",
    "Orug_deseq = pd.read_csv(\"contamination_assessment/Odontomachus.genes.QW.pvalues.nohed.out\", \n",
    "                         sep = ' ', header=None,\n",
    "                         names=colnames,\n",
    "                        )\n",
    "Cpla_deseq.head()"
   ]
  },
  {
   "cell_type": "markdown",
   "metadata": {},
   "source": [
    "### Create new table"
   ]
  },
  {
   "cell_type": "code",
   "execution_count": 53,
   "metadata": {},
   "outputs": [
    {
     "data": {
      "text/html": [
       "<div>\n",
       "<style scoped>\n",
       "    .dataframe tbody tr th:only-of-type {\n",
       "        vertical-align: middle;\n",
       "    }\n",
       "\n",
       "    .dataframe tbody tr th {\n",
       "        vertical-align: top;\n",
       "    }\n",
       "\n",
       "    .dataframe thead th {\n",
       "        text-align: right;\n",
       "    }\n",
       "</style>\n",
       "<table border=\"1\" class=\"dataframe\">\n",
       "  <thead>\n",
       "    <tr style=\"text-align: right;\">\n",
       "      <th></th>\n",
       "      <th>Cpla_genes</th>\n",
       "    </tr>\n",
       "  </thead>\n",
       "  <tbody>\n",
       "    <tr>\n",
       "      <th>0</th>\n",
       "      <td>Cpla|SGF52724</td>\n",
       "    </tr>\n",
       "    <tr>\n",
       "      <th>1</th>\n",
       "      <td>Cpla|SGF48080</td>\n",
       "    </tr>\n",
       "    <tr>\n",
       "      <th>2</th>\n",
       "      <td>Cpla|SGF52907</td>\n",
       "    </tr>\n",
       "    <tr>\n",
       "      <th>3</th>\n",
       "      <td>Cpla|SGF52908</td>\n",
       "    </tr>\n",
       "    <tr>\n",
       "      <th>4</th>\n",
       "      <td>Cpla|SGF55108</td>\n",
       "    </tr>\n",
       "  </tbody>\n",
       "</table>\n",
       "</div>"
      ],
      "text/plain": [
       "      Cpla_genes\n",
       "0  Cpla|SGF52724\n",
       "1  Cpla|SGF48080\n",
       "2  Cpla|SGF52907\n",
       "3  Cpla|SGF52908\n",
       "4  Cpla|SGF55108"
      ]
     },
     "execution_count": 53,
     "metadata": {},
     "output_type": "execute_result"
    }
   ],
   "source": [
    "df_genes = pd.read_table('/Users/vchandra/Desktop/alignm/biopython_test/Cpla_candidates.txt', header = None)\n",
    "df_genes.columns = ['Cpla_genes']\n",
    "df_genes.head()"
   ]
  },
  {
   "cell_type": "code",
   "execution_count": 54,
   "metadata": {},
   "outputs": [],
   "source": [
    "# join the Cpla blast values to the dataframe\n",
    "df_genes = pd.merge(left=df_genes, right=Cpla_vs_Orug[['qseqid', 'sseqid','pident']], \n",
    "                     left_on='Cpla_genes', right_on='qseqid', \n",
    "                     how='left'\n",
    "                   )"
   ]
  },
  {
   "cell_type": "code",
   "execution_count": 55,
   "metadata": {
    "collapsed": true
   },
   "outputs": [],
   "source": [
    "# find lengths of each peptide sequence in the Orug and Cpla transcriptomes; save in dictionaries\n",
    "Cpla_records = list(SeqIO.parse('contamination_assessment/Cpla_trinity.pep', 'fasta'))\n",
    "Orug_records = list(SeqIO.parse('contamination_assessment/Orug_trinity.pep', 'fasta'))\n",
    "\n",
    "s_Cpla_txome = pd.Series({str(record.name):str(record.seq) for record in Cpla_records}, name='Cpla_length')\n",
    "s_Orug_txome = pd.Series({str(record.name):str(record.seq) for record in Orug_records}, name='Orug_length')"
   ]
  },
  {
   "cell_type": "code",
   "execution_count": 56,
   "metadata": {},
   "outputs": [],
   "source": [
    "# append gene lengths\n",
    "df_genes = df_genes.join(s_Cpla_txome.apply(len), on=\"qseqid\")\n",
    "df_genes = df_genes.join(s_Orug_txome.apply(len), on=\"sseqid\")"
   ]
  },
  {
   "cell_type": "code",
   "execution_count": 57,
   "metadata": {},
   "outputs": [],
   "source": [
    "# join the Hsal, Dqua blast values to the dataframe\n",
    "df = Cpla_vs_Hsal[['qseqid','pident']].rename({'pident':'pident_vs_Hsal'},axis=1)\n",
    "df_genes = pd.merge(left=df_genes, right=df, \n",
    "                     left_on='qseqid', right_on='qseqid', \n",
    "                     how='left'\n",
    "                   )\n",
    "\n",
    "df = Cpla_vs_Dqua[['qseqid','pident']].rename({'pident':'pident_vs_Dqua'},axis=1)\n",
    "df_genes = pd.merge(left=df_genes, right=df, \n",
    "                     left_on='qseqid', right_on='qseqid', \n",
    "                     how='left'\n",
    "                   )\n"
   ]
  },
  {
   "cell_type": "code",
   "execution_count": 58,
   "metadata": {},
   "outputs": [],
   "source": [
    "# add mean expression of Cpla and Orug\n",
    "for df,sp,col in zip([Orug_deseq, Cpla_deseq], [\"Orug\", \"Cpla\"], ['sseqid', 'qseqid']):\n",
    "    df_genes = pd.merge(left=df_genes, right=df[['baseMean']], \n",
    "                         left_on=col, right_index=True, \n",
    "                         how='left'\n",
    "                       ).rename({\"baseMean\":'{}_expressionlevel'.format(sp)}, axis=1)"
   ]
  },
  {
   "cell_type": "code",
   "execution_count": 59,
   "metadata": {},
   "outputs": [
    {
     "name": "stdout",
     "output_type": "stream",
     "text": [
      "0 overlap in contaminant and good gene lists.\n"
     ]
    },
    {
     "name": "stderr",
     "output_type": "stream",
     "text": [
      "/Users/vchandra/anaconda/envs/ilp/lib/python3.6/site-packages/ipykernel_launcher.py:14: FutureWarning: Sorting because non-concatenation axis is not aligned. A future version\n",
      "of pandas will change to not sort by default.\n",
      "\n",
      "To accept the future behavior, pass 'sort=True'.\n",
      "\n",
      "To retain the current behavior and silence the warning, pass sort=False\n",
      "\n",
      "  \n"
     ]
    },
    {
     "data": {
      "text/html": [
       "<div>\n",
       "<style scoped>\n",
       "    .dataframe tbody tr th:only-of-type {\n",
       "        vertical-align: middle;\n",
       "    }\n",
       "\n",
       "    .dataframe tbody tr th {\n",
       "        vertical-align: top;\n",
       "    }\n",
       "\n",
       "    .dataframe thead th {\n",
       "        text-align: right;\n",
       "    }\n",
       "</style>\n",
       "<table border=\"1\" class=\"dataframe\">\n",
       "  <thead>\n",
       "    <tr style=\"text-align: right;\">\n",
       "      <th></th>\n",
       "      <th>class</th>\n",
       "      <th>contaminated</th>\n",
       "      <th>genetic_distance</th>\n",
       "    </tr>\n",
       "  </thead>\n",
       "  <tbody>\n",
       "    <tr>\n",
       "      <th>Cpla|SGF48072</th>\n",
       "      <td>NaN</td>\n",
       "      <td>1</td>\n",
       "      <td>0.000002</td>\n",
       "    </tr>\n",
       "    <tr>\n",
       "      <th>Cpla|SGF53093</th>\n",
       "      <td>NaN</td>\n",
       "      <td>1</td>\n",
       "      <td>0.116890</td>\n",
       "    </tr>\n",
       "    <tr>\n",
       "      <th>Cpla|SGF51269</th>\n",
       "      <td>NaN</td>\n",
       "      <td>1</td>\n",
       "      <td>0.000002</td>\n",
       "    </tr>\n",
       "  </tbody>\n",
       "</table>\n",
       "</div>"
      ],
      "text/plain": [
       "              class  contaminated  genetic_distance\n",
       "Cpla|SGF48072   NaN             1          0.000002\n",
       "Cpla|SGF53093   NaN             1          0.116890\n",
       "Cpla|SGF51269   NaN             1          0.000002"
      ]
     },
     "execution_count": 59,
     "metadata": {},
     "output_type": "execute_result"
    }
   ],
   "source": [
    "# label contaminants and class fields\n",
    "df_contaminants = pd.DataFrame({\"genetic_distance\":pd.Series(contaminants,),\n",
    "                               \"contaminated\":1,\n",
    "                              })\n",
    "\n",
    "df_goodgenes = pd.DataFrame({\"genetic_distance\":pd.Series(good_genes),\n",
    "                               \"contaminated\":0,\n",
    "                               \"class\":\"good\",\n",
    "                              })\n",
    "\n",
    "# check there is no overlap in goodgene and contaminants lists:\n",
    "print(len(df_contaminants.index.intersection(df_goodgenes.index)), \"overlap in contaminant and good gene lists.\")\n",
    "\n",
    "df_concat = pd.concat([df_contaminants, df_goodgenes], axis=0)\n",
    "df_concat.head(3)"
   ]
  },
  {
   "cell_type": "code",
   "execution_count": 60,
   "metadata": {},
   "outputs": [],
   "source": [
    "df_genes = pd.merge(left=df_genes, right=df_concat, \n",
    "                     left_on='Cpla_genes', right_index=True, \n",
    "                     how='left'\n",
    "                   )"
   ]
  },
  {
   "cell_type": "code",
   "execution_count": 61,
   "metadata": {},
   "outputs": [],
   "source": [
    "# add RF distance\n",
    "df_genes = df_genes.join(on='Cpla_genes', other=pd.Series(rfs, name=\"rfdistance\"), how='left')"
   ]
  },
  {
   "cell_type": "code",
   "execution_count": 62,
   "metadata": {},
   "outputs": [],
   "source": [
    "# add distance classification for genes ... ### add details here ###\n",
    "def get_dist_class(x):\n",
    "    if np.log10(x) >= -4:\n",
    "        return 0\n",
    "    elif np.log10(x) < -4:\n",
    "        return 1\n",
    "    else:\n",
    "        return np.nan\n",
    "\n",
    "df_genes['dist_classification'] = df_genes.genetic_distance.apply(get_dist_class)"
   ]
  },
  {
   "cell_type": "code",
   "execution_count": 63,
   "metadata": {},
   "outputs": [],
   "source": [
    "# set Cpla expression of 0 to nan: ### WHY? ### \n",
    "df_genes.loc[df_genes.Cpla_expressionlevel == 0,'Cpla_expressionlevel'] = np.nan"
   ]
  },
  {
   "cell_type": "code",
   "execution_count": 64,
   "metadata": {},
   "outputs": [],
   "source": [
    "# add the coefficient of variance for length and expression\n",
    "def get_coef_vars(s):\n",
    "    if s[['Cpla_length','Orug_length']].count() == 2:\n",
    "        len_cfv = (s['Cpla_length'] - s['Orug_length']) / (s['Cpla_length'] + s['Orug_length'])\n",
    "    else:\n",
    "        len_cfv = np.nan\n",
    "    if s[['Orug_expressionlevel', 'Cpla_expressionlevel']].count() == 2:\n",
    "        exp_cfv = (s['Cpla_expressionlevel'] - s['Orug_expressionlevel']) / (s['Cpla_expressionlevel'] + s['Orug_expressionlevel'])\n",
    "    else:\n",
    "        exp_cfv = np.nan\n",
    "    return pd.Series([len_cfv, exp_cfv])\n",
    "\n",
    "df_genes[['len_coeff','exp_coeff']] = df_genes.apply(get_coef_vars, axis=1)"
   ]
  },
  {
   "cell_type": "code",
   "execution_count": 65,
   "metadata": {},
   "outputs": [
    {
     "data": {
      "text/html": [
       "<div>\n",
       "<style scoped>\n",
       "    .dataframe tbody tr th:only-of-type {\n",
       "        vertical-align: middle;\n",
       "    }\n",
       "\n",
       "    .dataframe tbody tr th {\n",
       "        vertical-align: top;\n",
       "    }\n",
       "\n",
       "    .dataframe thead th {\n",
       "        text-align: right;\n",
       "    }\n",
       "</style>\n",
       "<table border=\"1\" class=\"dataframe\">\n",
       "  <thead>\n",
       "    <tr style=\"text-align: right;\">\n",
       "      <th></th>\n",
       "      <th>Cpla_genes</th>\n",
       "      <th>qseqid</th>\n",
       "      <th>sseqid</th>\n",
       "      <th>pident</th>\n",
       "      <th>Cpla_length</th>\n",
       "      <th>Orug_length</th>\n",
       "      <th>pident_vs_Hsal</th>\n",
       "      <th>pident_vs_Dqua</th>\n",
       "      <th>Orug_expressionlevel</th>\n",
       "      <th>Cpla_expressionlevel</th>\n",
       "      <th>class</th>\n",
       "      <th>contaminated</th>\n",
       "      <th>genetic_distance</th>\n",
       "      <th>rfdistance</th>\n",
       "      <th>dist_classification</th>\n",
       "      <th>len_coeff</th>\n",
       "      <th>exp_coeff</th>\n",
       "    </tr>\n",
       "  </thead>\n",
       "  <tbody>\n",
       "    <tr>\n",
       "      <th>0</th>\n",
       "      <td>Cpla|SGF52724</td>\n",
       "      <td>Cpla|SGF52724</td>\n",
       "      <td>Orug|SGF81012</td>\n",
       "      <td>91.58</td>\n",
       "      <td>569</td>\n",
       "      <td>1129</td>\n",
       "      <td>92.10</td>\n",
       "      <td>92.46</td>\n",
       "      <td>119.900093</td>\n",
       "      <td>965.813161</td>\n",
       "      <td>good</td>\n",
       "      <td>0.0</td>\n",
       "      <td>0.453249</td>\n",
       "      <td>0.1</td>\n",
       "      <td>0.0</td>\n",
       "      <td>-0.329800</td>\n",
       "      <td>0.779131</td>\n",
       "    </tr>\n",
       "    <tr>\n",
       "      <th>1</th>\n",
       "      <td>Cpla|SGF48080</td>\n",
       "      <td>Cpla|SGF48080</td>\n",
       "      <td>Orug|SGF77038</td>\n",
       "      <td>100.00</td>\n",
       "      <td>153</td>\n",
       "      <td>239</td>\n",
       "      <td>94.74</td>\n",
       "      <td>94.74</td>\n",
       "      <td>0.789648</td>\n",
       "      <td>1.318511</td>\n",
       "      <td>good</td>\n",
       "      <td>0.0</td>\n",
       "      <td>0.084874</td>\n",
       "      <td>0.5</td>\n",
       "      <td>0.0</td>\n",
       "      <td>-0.219388</td>\n",
       "      <td>0.250865</td>\n",
       "    </tr>\n",
       "    <tr>\n",
       "      <th>2</th>\n",
       "      <td>Cpla|SGF52907</td>\n",
       "      <td>Cpla|SGF52907</td>\n",
       "      <td>Orug|SGF82220</td>\n",
       "      <td>94.34</td>\n",
       "      <td>145</td>\n",
       "      <td>776</td>\n",
       "      <td>92.39</td>\n",
       "      <td>94.48</td>\n",
       "      <td>3594.198125</td>\n",
       "      <td>0.709656</td>\n",
       "      <td>good</td>\n",
       "      <td>0.0</td>\n",
       "      <td>0.130460</td>\n",
       "      <td>0.1</td>\n",
       "      <td>0.0</td>\n",
       "      <td>-0.685125</td>\n",
       "      <td>-0.999605</td>\n",
       "    </tr>\n",
       "    <tr>\n",
       "      <th>3</th>\n",
       "      <td>Cpla|SGF52908</td>\n",
       "      <td>Cpla|SGF52908</td>\n",
       "      <td>Orug|SGF71332</td>\n",
       "      <td>90.55</td>\n",
       "      <td>130</td>\n",
       "      <td>314</td>\n",
       "      <td>90.55</td>\n",
       "      <td>91.34</td>\n",
       "      <td>848.116987</td>\n",
       "      <td>1.484462</td>\n",
       "      <td>good</td>\n",
       "      <td>0.0</td>\n",
       "      <td>0.145891</td>\n",
       "      <td>0.3</td>\n",
       "      <td>0.0</td>\n",
       "      <td>-0.414414</td>\n",
       "      <td>-0.996506</td>\n",
       "    </tr>\n",
       "    <tr>\n",
       "      <th>4</th>\n",
       "      <td>Cpla|SGF55108</td>\n",
       "      <td>Cpla|SGF55108</td>\n",
       "      <td>Orug|SGF77881</td>\n",
       "      <td>99.34</td>\n",
       "      <td>152</td>\n",
       "      <td>239</td>\n",
       "      <td>99.34</td>\n",
       "      <td>99.34</td>\n",
       "      <td>2628.202306</td>\n",
       "      <td>2636.150630</td>\n",
       "      <td>good</td>\n",
       "      <td>0.0</td>\n",
       "      <td>0.004257</td>\n",
       "      <td>0.6</td>\n",
       "      <td>0.0</td>\n",
       "      <td>-0.222506</td>\n",
       "      <td>0.001510</td>\n",
       "    </tr>\n",
       "  </tbody>\n",
       "</table>\n",
       "</div>"
      ],
      "text/plain": [
       "      Cpla_genes         qseqid         sseqid  pident  Cpla_length  \\\n",
       "0  Cpla|SGF52724  Cpla|SGF52724  Orug|SGF81012   91.58          569   \n",
       "1  Cpla|SGF48080  Cpla|SGF48080  Orug|SGF77038  100.00          153   \n",
       "2  Cpla|SGF52907  Cpla|SGF52907  Orug|SGF82220   94.34          145   \n",
       "3  Cpla|SGF52908  Cpla|SGF52908  Orug|SGF71332   90.55          130   \n",
       "4  Cpla|SGF55108  Cpla|SGF55108  Orug|SGF77881   99.34          152   \n",
       "\n",
       "   Orug_length  pident_vs_Hsal  pident_vs_Dqua  Orug_expressionlevel  \\\n",
       "0         1129           92.10           92.46            119.900093   \n",
       "1          239           94.74           94.74              0.789648   \n",
       "2          776           92.39           94.48           3594.198125   \n",
       "3          314           90.55           91.34            848.116987   \n",
       "4          239           99.34           99.34           2628.202306   \n",
       "\n",
       "   Cpla_expressionlevel class  contaminated  genetic_distance  rfdistance  \\\n",
       "0            965.813161  good           0.0          0.453249         0.1   \n",
       "1              1.318511  good           0.0          0.084874         0.5   \n",
       "2              0.709656  good           0.0          0.130460         0.1   \n",
       "3              1.484462  good           0.0          0.145891         0.3   \n",
       "4           2636.150630  good           0.0          0.004257         0.6   \n",
       "\n",
       "   dist_classification  len_coeff  exp_coeff  \n",
       "0                  0.0  -0.329800   0.779131  \n",
       "1                  0.0  -0.219388   0.250865  \n",
       "2                  0.0  -0.685125  -0.999605  \n",
       "3                  0.0  -0.414414  -0.996506  \n",
       "4                  0.0  -0.222506   0.001510  "
      ]
     },
     "execution_count": 65,
     "metadata": {},
     "output_type": "execute_result"
    }
   ],
   "source": [
    "df_genes.head()"
   ]
  },
  {
   "cell_type": "code",
   "execution_count": 66,
   "metadata": {},
   "outputs": [],
   "source": [
    "# add the sister taxa if given:\n",
    "df_genes = df_genes.join(pd.Series(s_clade, name='ctd_sis_taxon'), on='Cpla_genes', how='left')"
   ]
  },
  {
   "cell_type": "code",
   "execution_count": 67,
   "metadata": {},
   "outputs": [],
   "source": [
    "def refine_verdict(s):\n",
    "    if (s['contaminated'] == 1) and (s['ctd_sis_taxon'] == 'F'):\n",
    "        clss = 'guilty'\n",
    "    elif (s['contaminated'] == 1) and (s['ctd_sis_taxon'] == 'P' or s['ctd_sis_taxon'] == 'both'):\n",
    "        clss = 'bad'\n",
    "    else:\n",
    "        clss = s['class']\n",
    "    \n",
    "    return clss\n",
    "        \n",
    "df_genes['class'] = df_genes.apply(refine_verdict, axis=1)"
   ]
  },
  {
   "cell_type": "code",
   "execution_count": 68,
   "metadata": {},
   "outputs": [],
   "source": [
    "# adjust column names for clarity\n",
    "df_genes = df_genes.rename({'pident':'pident_vs_Orug',\n",
    "                             'sseqid':'Orug_genes',\n",
    "                            },\n",
    "                            axis=1,\n",
    "                           )"
   ]
  },
  {
   "cell_type": "code",
   "execution_count": 69,
   "metadata": {},
   "outputs": [
    {
     "data": {
      "text/html": [
       "<div>\n",
       "<style scoped>\n",
       "    .dataframe tbody tr th:only-of-type {\n",
       "        vertical-align: middle;\n",
       "    }\n",
       "\n",
       "    .dataframe tbody tr th {\n",
       "        vertical-align: top;\n",
       "    }\n",
       "\n",
       "    .dataframe thead th {\n",
       "        text-align: right;\n",
       "    }\n",
       "</style>\n",
       "<table border=\"1\" class=\"dataframe\">\n",
       "  <thead>\n",
       "    <tr style=\"text-align: right;\">\n",
       "      <th></th>\n",
       "      <th>Cpla_genes</th>\n",
       "      <th>qseqid</th>\n",
       "      <th>Orug_genes</th>\n",
       "      <th>pident_vs_Orug</th>\n",
       "      <th>Cpla_length</th>\n",
       "      <th>Orug_length</th>\n",
       "      <th>pident_vs_Hsal</th>\n",
       "      <th>pident_vs_Dqua</th>\n",
       "      <th>Orug_expressionlevel</th>\n",
       "      <th>Cpla_expressionlevel</th>\n",
       "      <th>class</th>\n",
       "      <th>contaminated</th>\n",
       "      <th>genetic_distance</th>\n",
       "      <th>rfdistance</th>\n",
       "      <th>dist_classification</th>\n",
       "      <th>len_coeff</th>\n",
       "      <th>exp_coeff</th>\n",
       "      <th>ctd_sis_taxon</th>\n",
       "    </tr>\n",
       "  </thead>\n",
       "  <tbody>\n",
       "    <tr>\n",
       "      <th>0</th>\n",
       "      <td>Cpla|SGF52724</td>\n",
       "      <td>Cpla|SGF52724</td>\n",
       "      <td>Orug|SGF81012</td>\n",
       "      <td>91.58</td>\n",
       "      <td>569</td>\n",
       "      <td>1129</td>\n",
       "      <td>92.10</td>\n",
       "      <td>92.46</td>\n",
       "      <td>119.900093</td>\n",
       "      <td>965.813161</td>\n",
       "      <td>good</td>\n",
       "      <td>0.0</td>\n",
       "      <td>0.453249</td>\n",
       "      <td>0.1</td>\n",
       "      <td>0.0</td>\n",
       "      <td>-0.329800</td>\n",
       "      <td>0.779131</td>\n",
       "      <td>NaN</td>\n",
       "    </tr>\n",
       "    <tr>\n",
       "      <th>1</th>\n",
       "      <td>Cpla|SGF48080</td>\n",
       "      <td>Cpla|SGF48080</td>\n",
       "      <td>Orug|SGF77038</td>\n",
       "      <td>100.00</td>\n",
       "      <td>153</td>\n",
       "      <td>239</td>\n",
       "      <td>94.74</td>\n",
       "      <td>94.74</td>\n",
       "      <td>0.789648</td>\n",
       "      <td>1.318511</td>\n",
       "      <td>good</td>\n",
       "      <td>0.0</td>\n",
       "      <td>0.084874</td>\n",
       "      <td>0.5</td>\n",
       "      <td>0.0</td>\n",
       "      <td>-0.219388</td>\n",
       "      <td>0.250865</td>\n",
       "      <td>NaN</td>\n",
       "    </tr>\n",
       "    <tr>\n",
       "      <th>2</th>\n",
       "      <td>Cpla|SGF52907</td>\n",
       "      <td>Cpla|SGF52907</td>\n",
       "      <td>Orug|SGF82220</td>\n",
       "      <td>94.34</td>\n",
       "      <td>145</td>\n",
       "      <td>776</td>\n",
       "      <td>92.39</td>\n",
       "      <td>94.48</td>\n",
       "      <td>3594.198125</td>\n",
       "      <td>0.709656</td>\n",
       "      <td>good</td>\n",
       "      <td>0.0</td>\n",
       "      <td>0.130460</td>\n",
       "      <td>0.1</td>\n",
       "      <td>0.0</td>\n",
       "      <td>-0.685125</td>\n",
       "      <td>-0.999605</td>\n",
       "      <td>NaN</td>\n",
       "    </tr>\n",
       "    <tr>\n",
       "      <th>3</th>\n",
       "      <td>Cpla|SGF52908</td>\n",
       "      <td>Cpla|SGF52908</td>\n",
       "      <td>Orug|SGF71332</td>\n",
       "      <td>90.55</td>\n",
       "      <td>130</td>\n",
       "      <td>314</td>\n",
       "      <td>90.55</td>\n",
       "      <td>91.34</td>\n",
       "      <td>848.116987</td>\n",
       "      <td>1.484462</td>\n",
       "      <td>good</td>\n",
       "      <td>0.0</td>\n",
       "      <td>0.145891</td>\n",
       "      <td>0.3</td>\n",
       "      <td>0.0</td>\n",
       "      <td>-0.414414</td>\n",
       "      <td>-0.996506</td>\n",
       "      <td>NaN</td>\n",
       "    </tr>\n",
       "    <tr>\n",
       "      <th>4</th>\n",
       "      <td>Cpla|SGF55108</td>\n",
       "      <td>Cpla|SGF55108</td>\n",
       "      <td>Orug|SGF77881</td>\n",
       "      <td>99.34</td>\n",
       "      <td>152</td>\n",
       "      <td>239</td>\n",
       "      <td>99.34</td>\n",
       "      <td>99.34</td>\n",
       "      <td>2628.202306</td>\n",
       "      <td>2636.150630</td>\n",
       "      <td>good</td>\n",
       "      <td>0.0</td>\n",
       "      <td>0.004257</td>\n",
       "      <td>0.6</td>\n",
       "      <td>0.0</td>\n",
       "      <td>-0.222506</td>\n",
       "      <td>0.001510</td>\n",
       "      <td>NaN</td>\n",
       "    </tr>\n",
       "  </tbody>\n",
       "</table>\n",
       "</div>"
      ],
      "text/plain": [
       "      Cpla_genes         qseqid     Orug_genes  pident_vs_Orug  Cpla_length  \\\n",
       "0  Cpla|SGF52724  Cpla|SGF52724  Orug|SGF81012           91.58          569   \n",
       "1  Cpla|SGF48080  Cpla|SGF48080  Orug|SGF77038          100.00          153   \n",
       "2  Cpla|SGF52907  Cpla|SGF52907  Orug|SGF82220           94.34          145   \n",
       "3  Cpla|SGF52908  Cpla|SGF52908  Orug|SGF71332           90.55          130   \n",
       "4  Cpla|SGF55108  Cpla|SGF55108  Orug|SGF77881           99.34          152   \n",
       "\n",
       "   Orug_length  pident_vs_Hsal  pident_vs_Dqua  Orug_expressionlevel  \\\n",
       "0         1129           92.10           92.46            119.900093   \n",
       "1          239           94.74           94.74              0.789648   \n",
       "2          776           92.39           94.48           3594.198125   \n",
       "3          314           90.55           91.34            848.116987   \n",
       "4          239           99.34           99.34           2628.202306   \n",
       "\n",
       "   Cpla_expressionlevel class  contaminated  genetic_distance  rfdistance  \\\n",
       "0            965.813161  good           0.0          0.453249         0.1   \n",
       "1              1.318511  good           0.0          0.084874         0.5   \n",
       "2              0.709656  good           0.0          0.130460         0.1   \n",
       "3              1.484462  good           0.0          0.145891         0.3   \n",
       "4           2636.150630  good           0.0          0.004257         0.6   \n",
       "\n",
       "   dist_classification  len_coeff  exp_coeff ctd_sis_taxon  \n",
       "0                  0.0  -0.329800   0.779131           NaN  \n",
       "1                  0.0  -0.219388   0.250865           NaN  \n",
       "2                  0.0  -0.685125  -0.999605           NaN  \n",
       "3                  0.0  -0.414414  -0.996506           NaN  \n",
       "4                  0.0  -0.222506   0.001510           NaN  "
      ]
     },
     "execution_count": 69,
     "metadata": {},
     "output_type": "execute_result"
    }
   ],
   "source": [
    "df_genes.head()"
   ]
  },
  {
   "cell_type": "code",
   "execution_count": 70,
   "metadata": {},
   "outputs": [
    {
     "data": {
      "text/plain": [
       "3510"
      ]
     },
     "execution_count": 70,
     "metadata": {},
     "output_type": "execute_result"
    }
   ],
   "source": [
    "len(df_genes)"
   ]
  },
  {
   "cell_type": "markdown",
   "metadata": {},
   "source": [
    "## 4. Plots showing that these features indicate contamination\n",
    "The plots below show clearly that the phylogenetic classification identifies genes in Cpla that have low expression, are very short, and have very low genetic distance to their best hit in Orug. \n",
    "Moreover, the phylogenetic classification of the parent/sister clade of these likely contaminants adds confidence to this classification. "
   ]
  },
  {
   "cell_type": "code",
   "execution_count": 75,
   "metadata": {},
   "outputs": [
    {
     "data": {
      "text/plain": [
       "0  Cpla_expressionlevel    9.915600\n",
       "   Orug_expressionlevel    6.905689\n",
       "1  Cpla_expressionlevel    0.398910\n",
       "   Orug_expressionlevel   -0.340719\n",
       "2  Cpla_expressionlevel   -0.494809\n",
       "dtype: float64"
      ]
     },
     "execution_count": 75,
     "metadata": {},
     "output_type": "execute_result"
    }
   ],
   "source": [
    "df_genes[['Cpla_expressionlevel','Orug_expressionlevel',]].stack().apply(np.log2).replace([np.inf, -np.inf], np.nan).dropna().head()"
   ]
  },
  {
   "cell_type": "code",
   "execution_count": 79,
   "metadata": {},
   "outputs": [
    {
     "data": {
      "image/png": "[encoded data removed]",
      "text/plain": [
       "<Figure size 432x288 with 1 Axes>"
      ]
     },
     "metadata": {},
     "output_type": "display_data"
    }
   ],
   "source": [
    "g = sns.violinplot(data=pd.DataFrame(df_genes[['Cpla_expressionlevel',\n",
    "                                           'Orug_expressionlevel',]].stack().apply(np.log2).replace([np.inf, -np.inf], np.nan).dropna()\n",
    "                                ).reset_index(1\n",
    "                                ).join(df_genes[['contaminated']]\n",
    "                                ),\n",
    "               y=0,\n",
    "               x='level_1',\n",
    "               hue='contaminated',\n",
    "               scale='area'\n",
    "              )\n",
    "plt.xlabel(\"\")\n",
    "plt.ylabel(\"log2(mean expression)\")\n",
    "plt.show()"
   ]
  },
  {
   "cell_type": "code",
   "execution_count": 80,
   "metadata": {},
   "outputs": [
    {
     "data": {
      "image/png": "[encoded data removed]",
      "text/plain": [
       "<Figure size 432x288 with 1 Axes>"
      ]
     },
     "metadata": {},
     "output_type": "display_data"
    }
   ],
   "source": [
    "g = sns.violinplot(data=pd.DataFrame(df_genes[[ 'pident_vs_Orug',\n",
    "                                           'contaminated',]]\n",
    "                                ),\n",
    "                   y='pident_vs_Orug',\n",
    "                   x='contaminated',\n",
    "                   scale='area' \n",
    "                  )\n",
    "plt.xlabel(\"\")\n",
    "plt.ylabel(\"% identity cf O.ruginodis\")\n",
    "plt.xticks([0,1],['\"Good\" sequences', '\"Dodgy\" sequences'])\n",
    "plt.show()"
   ]
  },
  {
   "cell_type": "code",
   "execution_count": 81,
   "metadata": {},
   "outputs": [
    {
     "data": {
      "image/png": "[encoded data removed]",
      "text/plain": [
       "<Figure size 432x288 with 1 Axes>"
      ]
     },
     "metadata": {},
     "output_type": "display_data"
    }
   ],
   "source": [
    "g = sns.violinplot(data=pd.DataFrame(df_genes[[ 'len_coeff',\n",
    "                                           'contaminated',]]\n",
    "                                ),\n",
    "                   y='len_coeff',\n",
    "                   x='contaminated',\n",
    "                   scale='area' \n",
    "                  )\n",
    "plt.xlabel(\"\")\n",
    "plt.ylabel(\"Cpla - Orug length coefficient of variance\")\n",
    "plt.xticks([0,1],['\"Good\" sequences', '\"Dodgy\" sequences'])\n",
    "plt.show()"
   ]
  },
  {
   "cell_type": "code",
   "execution_count": 82,
   "metadata": {},
   "outputs": [
    {
     "data": {
      "image/png": "[encoded data removed]",
      "text/plain": [
       "<Figure size 432x288 with 1 Axes>"
      ]
     },
     "metadata": {},
     "output_type": "display_data"
    }
   ],
   "source": [
    "g = sns.violinplot(data=pd.DataFrame(df_genes[[ 'exp_coeff',\n",
    "                                           'contaminated',]]\n",
    "                                ),\n",
    "                   y='exp_coeff',\n",
    "                   x='contaminated',\n",
    "                   scale='area' \n",
    "                  )\n",
    "plt.xlabel(\"\")\n",
    "plt.ylabel(\"Cpla - Orug expression coefficient of variance\")\n",
    "plt.xticks([0,1],['\"Good\" sequences', '\"Dodgy\" sequences'])\n",
    "plt.show()"
   ]
  },
  {
   "cell_type": "code",
   "execution_count": 83,
   "metadata": {
    "collapsed": true
   },
   "outputs": [],
   "source": [
    "#which gene is contaminated?\n",
    "O_con_ldiff = []\n",
    "O_con_ediff = []\n",
    "C_con_ldiff = []\n",
    "C_con_ediff = []\n",
    "\n",
    "for ind, row in df_genes.iterrows():\n",
    "    if row['ctd_sis_taxon'] == 'P':\n",
    "        O_con_ldiff.append(row['len_coeff'])\n",
    "        O_con_ediff.append(row['exp_coeff'])\n",
    "    elif row['ctd_sis_taxon'] == 'F':\n",
    "        C_con_ldiff.append(row['len_coeff'])\n",
    "        C_con_ediff.append(row['exp_coeff'])"
   ]
  },
  {
   "cell_type": "code",
   "execution_count": 84,
   "metadata": {},
   "outputs": [
    {
     "data": {
      "image/png": "[encoded data removed]",
      "text/plain": [
       "<Figure size 432x288 with 1 Axes>"
      ]
     },
     "metadata": {},
     "output_type": "display_data"
    }
   ],
   "source": [
    "ax9 = sns.violinplot(data = [O_con_ldiff, C_con_ldiff], scale = 'count', inner = 'point')\n",
    "ax9.set(ylabel = 'Cpla - Orug normalised length diff')\n",
    "ax9.set_xticklabels(['Ponerine', 'Formicine'])\n",
    "ax9.set_xlabel('Sister taxon to Orug-Cpla clade')\n",
    "ax9 = sns.set_style('ticks')"
   ]
  },
  {
   "cell_type": "code",
   "execution_count": 85,
   "metadata": {},
   "outputs": [
    {
     "data": {
      "image/png": "[encoded data removed]",
      "text/plain": [
       "<Figure size 432x288 with 1 Axes>"
      ]
     },
     "metadata": {},
     "output_type": "display_data"
    }
   ],
   "source": [
    "ax10 = sns.violinplot(data = [O_con_ediff, C_con_ediff], scale = 'count', inner = 'point')\n",
    "ax10.set(ylabel = 'Cpla - Orug expression')\n",
    "ax10.set_xticklabels(['Ponerine', 'Formicine'])\n",
    "ax10.set_xlabel('Sister taxon to Cpla-Orug clade')\n",
    "ax10 = sns.set_style('ticks')"
   ]
  },
  {
   "cell_type": "markdown",
   "metadata": {},
   "source": [
    "## 5. Identify and remove contaminants from the transcriptome"
   ]
  },
  {
   "cell_type": "code",
   "execution_count": 86,
   "metadata": {},
   "outputs": [
    {
     "name": "stdout",
     "output_type": "stream",
     "text": [
      "810 231 0\n"
     ]
    }
   ],
   "source": [
    "#make list of contaminant genes that should be removed from the Orug transcriptome\n",
    "#include genes if contaminated says 1 and if rfdist >= 0.6\n",
    "genes_for_removal = []\n",
    "count = 0\n",
    "c2 = []\n",
    "\n",
    "for ind, row in df_genes.iterrows():\n",
    "    if row['class'] == 'bad':\n",
    "        genes_for_removal.append(row['Cpla_genes'])\n",
    "    elif row['ctd_sis_taxon'] != 'F' \\\n",
    "        and (row['rfdistance'] >= 0.6 or \n",
    "              pd.isnull(row['rfdistance'])\n",
    "             ) \\\n",
    "        and (row['dist_classification'] == 1 or \n",
    "             (row['exp_coeff'] < -0.2 and \n",
    "              row['len_coeff'] < -0.2)\n",
    "             ):\n",
    "        genes_for_removal.append(row['Cpla_genes'])\n",
    "        count += 1\n",
    "    elif row['ctd_sis_taxon'] == 'P' and row['contaminated'] == 1:\n",
    "        genes_for_removal.append(row['Cpla_genes'])\n",
    "        c2.append(row['Cpla_genes'])\n",
    "print(len(genes_for_removal), count, len(c2))"
   ]
  },
  {
   "cell_type": "code",
   "execution_count": null,
   "metadata": {},
   "outputs": [],
   "source": []
  },
  {
   "cell_type": "code",
   "execution_count": 52,
   "metadata": {},
   "outputs": [],
   "source": [
    "# filter Orug txome to remove contaminants:\n",
    "s_clean_Cpla_txome = s_Cpla_txome[~s_Cpla_txome.index.isin(genes_for_removal)]"
   ]
  },
  {
   "cell_type": "code",
   "execution_count": 53,
   "metadata": {},
   "outputs": [
    {
     "name": "stdout",
     "output_type": "stream",
     "text": [
      "26161\n",
      "25458\n"
     ]
    }
   ],
   "source": [
    "print(len(s_Cpla_txome))\n",
    "print(len(s_clean_Cpla_txome))"
   ]
  },
  {
   "cell_type": "code",
   "execution_count": 54,
   "metadata": {
    "collapsed": true
   },
   "outputs": [],
   "source": [
    "#WRITE NEW ORUG TRANSCRIPTOME\n",
    "with open('clean_Orug_txome.fasta', 'a') as f:\n",
    "    for geneid in s_clean_Orug_txome.index:\n",
    "        f.write('>{}\\n{}\\n'.format(geneid, s_clean_Orug_txome.loc[geneid]))\n",
    "    f.close()"
   ]
  },
  {
   "cell_type": "code",
   "execution_count": null,
   "metadata": {},
   "outputs": [],
   "source": []
  },
  {
   "cell_type": "code",
   "execution_count": null,
   "metadata": {},
   "outputs": [],
   "source": []
  },
  {
   "cell_type": "code",
   "execution_count": null,
   "metadata": {},
   "outputs": [],
   "source": []
  }
 ],
 "metadata": {
  "kernelspec": {
   "display_name": "Python 3",
   "language": "python",
   "name": "python3"
  },
  "language_info": {
   "codemirror_mode": {
    "name": "ipython",
    "version": 3
   },
   "file_extension": ".py",
   "mimetype": "text/x-python",
   "name": "python",
   "nbconvert_exporter": "python",
   "pygments_lexer": "ipython3",
   "version": "3.6.5"
  }
 },
 "nbformat": 4,
 "nbformat_minor": 2
}
