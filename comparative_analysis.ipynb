{
 "cells": [
  {
   "cell_type": "markdown",
   "metadata": {},
   "source": [
    "# COMPARATIVE ANALYSIS\n",
    "This notebook takes the DESeq2 outputs for each of the seven focal ant species in our screen, as well as the table of ortholog groups from OrthoMCL. It calculates the observed number of concordant differentially expressed genes across all combinations of species. It also identifies the genes that are concordantly differentially expressed in any subset of five species. "
   ]
  },
  {
   "cell_type": "markdown",
   "metadata": {},
   "source": [
    "## Table of Contents\n",
    "1.  Create data frames of p_values for all species\n",
    "2.  Create table of orthologs\n",
    "3.  Create new columns to allow filtering to single copy orthologs\n",
    "4.  Join the p-value files together\n",
    "5.  Check table for all significant genes\n",
    "6.  Check number of orthologous DEGs per species\n",
    "7.  Find number of concordant DEGs\n",
    "8.  Calculate average concordance\n",
    "9.  Concordance simulations\n",
    "10.  combine both datasets"
   ]
  },
  {
   "cell_type": "code",
   "execution_count": 1,
   "metadata": {
    "collapsed": true
   },
   "outputs": [],
   "source": [
    "from itertools import combinations\n",
    "import os"
   ]
  },
  {
   "cell_type": "code",
   "execution_count": 2,
   "metadata": {
    "collapsed": true
   },
   "outputs": [],
   "source": [
    "%matplotlib inline\n",
    "import matplotlib.pyplot as plt\n",
    "import seaborn as sns"
   ]
  },
  {
   "cell_type": "code",
   "execution_count": 3,
   "metadata": {
    "collapsed": true
   },
   "outputs": [],
   "source": [
    "import numpy as np\n",
    "import pandas as pd"
   ]
  },
  {
   "cell_type": "markdown",
   "metadata": {},
   "source": [
    "## Create table of single copy ant orthologs and their differential expression"
   ]
  },
  {
   "cell_type": "markdown",
   "metadata": {},
   "source": [
    "### Create data frames of p_values for all species"
   ]
  },
  {
   "cell_type": "code",
   "execution_count": 4,
   "metadata": {
    "collapsed": true
   },
   "outputs": [],
   "source": [
    "# create name lists for readability of tables:\n",
    "species =   ['Acromyrmex',\n",
    "             'Camponotus',\n",
    "             'Dinoponera',\n",
    "             'Harpegnathos',\n",
    "             'Odontomachus',\n",
    "             'Ooceraea',\n",
    "             'Solenopsis'\n",
    "            ]\n",
    "sp_short = ['Aech', 'Cpla', 'Dqua', 'Hsal', 'Orug', 'Obir', 'Sinv']\n",
    "\n",
    "# define the file names of all DESeq2 output files:\n",
    "all_pvalues =   ['Acromyrmex_echinatior_deseq.txt',\n",
    "                 'Camponotus_planatus_deseq.txt',\n",
    "                 'Dinoponera_quadriceps_deseq.txt',\n",
    "                 'Harpegnathos_saltator_deseq.txt',\n",
    "                 'Odontomachus_ruginodis_deseq.txt',\n",
    "                 'Ooceraea_biroi_deseq.txt',\n",
    "                 'Solenopsis_invicta_deseq.txt'\n",
    "                ]\n",
    "\n",
    "# specify the orthomcl output file:\n",
    "orthologs = os.path.join('orthomcl_output', 'mclGroups.txt')"
   ]
  },
  {
   "cell_type": "code",
   "execution_count": 5,
   "metadata": {
    "collapsed": true
   },
   "outputs": [],
   "source": [
    "# create a dictionary of dataframes, with key being the genus.\n",
    "df_pval_dic = { sp:pd.read_csv(os.path.join('DESeq2_output',fp), \n",
    "                               sep=' ', \n",
    "                               index_col=0\n",
    "                              ) for sp, fp in zip(species,all_pvalues) \n",
    "              }"
   ]
  },
  {
   "cell_type": "code",
   "execution_count": 6,
   "metadata": {},
   "outputs": [
    {
     "name": "stdout",
     "output_type": "stream",
     "text": [
      "Acromyrmex   :12176 genes, 6 columns\n",
      "Camponotus   :17993 genes, 6 columns\n",
      "Dinoponera   :11544 genes, 6 columns\n",
      "Harpegnathos :12302 genes, 6 columns\n",
      "Odontomachus :25458 genes, 6 columns\n",
      "Ooceraea     :13640 genes, 6 columns\n",
      "Solenopsis   :15103 genes, 6 columns\n"
     ]
    }
   ],
   "source": [
    "for sp in species:\n",
    "    print(\"{:<13s}:{:5} genes, {} columns\".format(sp, df_pval_dic[sp].shape[0], df_pval_dic[sp].shape[1]))"
   ]
  },
  {
   "cell_type": "code",
   "execution_count": 7,
   "metadata": {},
   "outputs": [
    {
     "data": {
      "text/html": [
       "<div>\n",
       "<style scoped>\n",
       "    .dataframe tbody tr th:only-of-type {\n",
       "        vertical-align: middle;\n",
       "    }\n",
       "\n",
       "    .dataframe tbody tr th {\n",
       "        vertical-align: top;\n",
       "    }\n",
       "\n",
       "    .dataframe thead th {\n",
       "        text-align: right;\n",
       "    }\n",
       "</style>\n",
       "<table border=\"1\" class=\"dataframe\">\n",
       "  <thead>\n",
       "    <tr style=\"text-align: right;\">\n",
       "      <th></th>\n",
       "      <th>baseMean</th>\n",
       "      <th>log2FoldChange</th>\n",
       "      <th>lfcSE</th>\n",
       "      <th>stat</th>\n",
       "      <th>pvalue</th>\n",
       "      <th>padj</th>\n",
       "    </tr>\n",
       "  </thead>\n",
       "  <tbody>\n",
       "    <tr>\n",
       "      <th>Aech|LOC105144162</th>\n",
       "      <td>5933.902081</td>\n",
       "      <td>4.016824</td>\n",
       "      <td>0.181735</td>\n",
       "      <td>-22.102647</td>\n",
       "      <td>2.980722e-108</td>\n",
       "      <td>3.172383e-104</td>\n",
       "    </tr>\n",
       "    <tr>\n",
       "      <th>Aech|LOC105148307</th>\n",
       "      <td>351.575222</td>\n",
       "      <td>3.927635</td>\n",
       "      <td>0.217894</td>\n",
       "      <td>-18.025465</td>\n",
       "      <td>1.229748e-72</td>\n",
       "      <td>6.544105e-69</td>\n",
       "    </tr>\n",
       "    <tr>\n",
       "      <th>Aech|LOC105149897</th>\n",
       "      <td>84.006564</td>\n",
       "      <td>6.540987</td>\n",
       "      <td>0.414533</td>\n",
       "      <td>-15.779186</td>\n",
       "      <td>4.327312e-56</td>\n",
       "      <td>1.535186e-52</td>\n",
       "    </tr>\n",
       "    <tr>\n",
       "      <th>Aech|LOC105152929</th>\n",
       "      <td>85.273274</td>\n",
       "      <td>5.542425</td>\n",
       "      <td>0.364529</td>\n",
       "      <td>-15.204351</td>\n",
       "      <td>3.308932e-52</td>\n",
       "      <td>8.804242e-49</td>\n",
       "    </tr>\n",
       "    <tr>\n",
       "      <th>Aech|LOC105151872</th>\n",
       "      <td>1400.529397</td>\n",
       "      <td>4.216169</td>\n",
       "      <td>0.317197</td>\n",
       "      <td>-13.291948</td>\n",
       "      <td>2.577796e-40</td>\n",
       "      <td>5.487098e-37</td>\n",
       "    </tr>\n",
       "  </tbody>\n",
       "</table>\n",
       "</div>"
      ],
      "text/plain": [
       "                      baseMean  log2FoldChange     lfcSE       stat  \\\n",
       "Aech|LOC105144162  5933.902081        4.016824  0.181735 -22.102647   \n",
       "Aech|LOC105148307   351.575222        3.927635  0.217894 -18.025465   \n",
       "Aech|LOC105149897    84.006564        6.540987  0.414533 -15.779186   \n",
       "Aech|LOC105152929    85.273274        5.542425  0.364529 -15.204351   \n",
       "Aech|LOC105151872  1400.529397        4.216169  0.317197 -13.291948   \n",
       "\n",
       "                          pvalue           padj  \n",
       "Aech|LOC105144162  2.980722e-108  3.172383e-104  \n",
       "Aech|LOC105148307   1.229748e-72   6.544105e-69  \n",
       "Aech|LOC105149897   4.327312e-56   1.535186e-52  \n",
       "Aech|LOC105152929   3.308932e-52   8.804242e-49  \n",
       "Aech|LOC105151872   2.577796e-40   5.487098e-37  "
      ]
     },
     "execution_count": 7,
     "metadata": {},
     "output_type": "execute_result"
    }
   ],
   "source": [
    "# display first 5 rows of dataframe to check content\n",
    "df_pval_dic['Acromyrmex'].head()"
   ]
  },
  {
   "cell_type": "markdown",
   "metadata": {},
   "source": [
    "### Identify single copy orthologs"
   ]
  },
  {
   "cell_type": "code",
   "execution_count": 8,
   "metadata": {},
   "outputs": [
    {
     "data": {
      "text/html": [
       "<div>\n",
       "<style scoped>\n",
       "    .dataframe tbody tr th:only-of-type {\n",
       "        vertical-align: middle;\n",
       "    }\n",
       "\n",
       "    .dataframe tbody tr th {\n",
       "        vertical-align: top;\n",
       "    }\n",
       "\n",
       "    .dataframe thead th {\n",
       "        text-align: right;\n",
       "    }\n",
       "</style>\n",
       "<table border=\"1\" class=\"dataframe\">\n",
       "  <thead>\n",
       "    <tr style=\"text-align: right;\">\n",
       "      <th></th>\n",
       "      <th>group</th>\n",
       "      <th>orthologs</th>\n",
       "    </tr>\n",
       "  </thead>\n",
       "  <tbody>\n",
       "    <tr>\n",
       "      <th>0</th>\n",
       "      <td>ILPpaperGroups1000</td>\n",
       "      <td>Aech|LOC105155080 Obir|LOC105287483 Sinv|LOC1...</td>\n",
       "    </tr>\n",
       "    <tr>\n",
       "      <th>1</th>\n",
       "      <td>ILPpaperGroups1001</td>\n",
       "      <td>Acep|LOC105617370 Acep|LOC105617724 Acep|LOC1...</td>\n",
       "    </tr>\n",
       "    <tr>\n",
       "      <th>2</th>\n",
       "      <td>ILPpaperGroups1002</td>\n",
       "      <td>Acep|LOC105617602 Acep|LOC105621803 Acep|LOC1...</td>\n",
       "    </tr>\n",
       "    <tr>\n",
       "      <th>3</th>\n",
       "      <td>ILPpaperGroups1003</td>\n",
       "      <td>Acep|LOC105619009 Acep|LOC105619010 Acep|LOC1...</td>\n",
       "    </tr>\n",
       "    <tr>\n",
       "      <th>4</th>\n",
       "      <td>ILPpaperGroups1004</td>\n",
       "      <td>Acep|LOC105619475 Dqua|LOC106746452 Lhum|LOC1...</td>\n",
       "    </tr>\n",
       "  </tbody>\n",
       "</table>\n",
       "</div>"
      ],
      "text/plain": [
       "                group                                          orthologs\n",
       "0  ILPpaperGroups1000   Aech|LOC105155080 Obir|LOC105287483 Sinv|LOC1...\n",
       "1  ILPpaperGroups1001   Acep|LOC105617370 Acep|LOC105617724 Acep|LOC1...\n",
       "2  ILPpaperGroups1002   Acep|LOC105617602 Acep|LOC105621803 Acep|LOC1...\n",
       "3  ILPpaperGroups1003   Acep|LOC105619009 Acep|LOC105619010 Acep|LOC1...\n",
       "4  ILPpaperGroups1004   Acep|LOC105619475 Dqua|LOC106746452 Lhum|LOC1..."
      ]
     },
     "execution_count": 8,
     "metadata": {},
     "output_type": "execute_result"
    }
   ],
   "source": [
    "# create dataframe of orthologs from orthomcl output\n",
    "df_orthologs = pd.read_csv(orthologs, \n",
    "                           sep=':', \n",
    "                           header=None, \n",
    "                           names=[\"group\",\"orthologs\"])\n",
    "df_orthologs.head()"
   ]
  },
  {
   "cell_type": "markdown",
   "metadata": {},
   "source": [
    "Create new columns to allow filtering to single copy orthologs"
   ]
  },
  {
   "cell_type": "code",
   "execution_count": 9,
   "metadata": {
    "collapsed": true
   },
   "outputs": [],
   "source": [
    "# create column with number of orthologs in group:\n",
    "df_orthologs[\"group_size\"] = df_orthologs.apply(lambda s: len(s[\"orthologs\"].split()), axis=1)\n",
    "\n",
    "# group size only counting the 7 ant species of interest:\n",
    "df_orthologs[\"group_size_7\"] = df_orthologs.apply(lambda s: len([o for o in s[\"orthologs\"].split() if o[:4] in sp_short]), axis=1)\n",
    "\n",
    "# create column with number of unique species present:\n",
    "df_orthologs[\"group_size_unique\"] = df_orthologs.apply(lambda s: len(set([g[:4] for g in s['orthologs'].split()])), axis=1)\n",
    "\n",
    "# unique set of 7 ant species:\n",
    "df_orthologs[\"group_size_7_unique\"] = df_orthologs.apply(lambda s: len(set([g[:4] for g in s['orthologs'].split() if g[:4] in sp_short])), axis=1)"
   ]
  },
  {
   "cell_type": "code",
   "execution_count": 10,
   "metadata": {},
   "outputs": [
    {
     "data": {
      "text/html": [
       "<div>\n",
       "<style scoped>\n",
       "    .dataframe tbody tr th:only-of-type {\n",
       "        vertical-align: middle;\n",
       "    }\n",
       "\n",
       "    .dataframe tbody tr th {\n",
       "        vertical-align: top;\n",
       "    }\n",
       "\n",
       "    .dataframe thead th {\n",
       "        text-align: right;\n",
       "    }\n",
       "</style>\n",
       "<table border=\"1\" class=\"dataframe\">\n",
       "  <thead>\n",
       "    <tr style=\"text-align: right;\">\n",
       "      <th></th>\n",
       "      <th>group</th>\n",
       "      <th>orthologs</th>\n",
       "      <th>group_size</th>\n",
       "      <th>group_size_7</th>\n",
       "      <th>group_size_unique</th>\n",
       "      <th>group_size_7_unique</th>\n",
       "    </tr>\n",
       "  </thead>\n",
       "  <tbody>\n",
       "    <tr>\n",
       "      <th>0</th>\n",
       "      <td>ILPpaperGroups1000</td>\n",
       "      <td>Aech|LOC105155080 Obir|LOC105287483 Sinv|LOC1...</td>\n",
       "      <td>1084</td>\n",
       "      <td>295</td>\n",
       "      <td>16</td>\n",
       "      <td>7</td>\n",
       "    </tr>\n",
       "    <tr>\n",
       "      <th>1</th>\n",
       "      <td>ILPpaperGroups1001</td>\n",
       "      <td>Acep|LOC105617370 Acep|LOC105617724 Acep|LOC1...</td>\n",
       "      <td>277</td>\n",
       "      <td>112</td>\n",
       "      <td>18</td>\n",
       "      <td>7</td>\n",
       "    </tr>\n",
       "    <tr>\n",
       "      <th>2</th>\n",
       "      <td>ILPpaperGroups1002</td>\n",
       "      <td>Acep|LOC105617602 Acep|LOC105621803 Acep|LOC1...</td>\n",
       "      <td>260</td>\n",
       "      <td>99</td>\n",
       "      <td>18</td>\n",
       "      <td>7</td>\n",
       "    </tr>\n",
       "    <tr>\n",
       "      <th>3</th>\n",
       "      <td>ILPpaperGroups1003</td>\n",
       "      <td>Acep|LOC105619009 Acep|LOC105619010 Acep|LOC1...</td>\n",
       "      <td>241</td>\n",
       "      <td>106</td>\n",
       "      <td>18</td>\n",
       "      <td>7</td>\n",
       "    </tr>\n",
       "    <tr>\n",
       "      <th>4</th>\n",
       "      <td>ILPpaperGroups1004</td>\n",
       "      <td>Acep|LOC105619475 Dqua|LOC106746452 Lhum|LOC1...</td>\n",
       "      <td>215</td>\n",
       "      <td>76</td>\n",
       "      <td>15</td>\n",
       "      <td>7</td>\n",
       "    </tr>\n",
       "  </tbody>\n",
       "</table>\n",
       "</div>"
      ],
      "text/plain": [
       "                group                                          orthologs  \\\n",
       "0  ILPpaperGroups1000   Aech|LOC105155080 Obir|LOC105287483 Sinv|LOC1...   \n",
       "1  ILPpaperGroups1001   Acep|LOC105617370 Acep|LOC105617724 Acep|LOC1...   \n",
       "2  ILPpaperGroups1002   Acep|LOC105617602 Acep|LOC105621803 Acep|LOC1...   \n",
       "3  ILPpaperGroups1003   Acep|LOC105619009 Acep|LOC105619010 Acep|LOC1...   \n",
       "4  ILPpaperGroups1004   Acep|LOC105619475 Dqua|LOC106746452 Lhum|LOC1...   \n",
       "\n",
       "   group_size  group_size_7  group_size_unique  group_size_7_unique  \n",
       "0        1084           295                 16                    7  \n",
       "1         277           112                 18                    7  \n",
       "2         260            99                 18                    7  \n",
       "3         241           106                 18                    7  \n",
       "4         215            76                 15                    7  "
      ]
     },
     "execution_count": 10,
     "metadata": {},
     "output_type": "execute_result"
    }
   ],
   "source": [
    "df_orthologs.head()"
   ]
  },
  {
   "cell_type": "markdown",
   "metadata": {},
   "source": [
    "Create a subset of the table above, which includes only single copy orthologs across the seven ant species being analyzed. (SCAOs = \"Single Copy Ant Orthologs\"). Orthologs were determined by orthomcl analysis of the following Insect genomes:\n",
    "\n",
    "**Ants**\n",
    "* Acromyrmex echinatior    \n",
    "* Atta cephalotes\n",
    "* Camponotus floridanus  \n",
    "* Camponotus planatus  \n",
    "* Dinoponera quadriceps  \n",
    "* Harpegnathos saltator  \n",
    "* Linepithema humile  \n",
    "* Monomorium pharaonis  \n",
    "* Odonotomachus ruginodis  \n",
    "* Ooceraea biroi  \n",
    "* Pogonomyrmex barbatum  \n",
    "* Solenopsis invicta  \n",
    "* Vollenhovia emeryii\n",
    "* Wasmannia auropunctata\n",
    "\n",
    "**Bees**\n",
    "* Apis mellifera\n",
    "\n",
    "**Wasps**\n",
    "* Nasonia vitripennis  \n",
    "* Polistes canadensis  \n",
    "\n",
    "**Diptera**\n",
    "* Drosophila melanogaster  \n"
   ]
  },
  {
   "cell_type": "code",
   "execution_count": 11,
   "metadata": {
    "collapsed": true
   },
   "outputs": [],
   "source": [
    "scaos = df_orthologs[(df_orthologs.group_size_7 == 7) & (df_orthologs.group_size_7_unique == 7)]"
   ]
  },
  {
   "cell_type": "code",
   "execution_count": 12,
   "metadata": {},
   "outputs": [
    {
     "data": {
      "text/plain": [
       "(5581, 6)"
      ]
     },
     "execution_count": 12,
     "metadata": {},
     "output_type": "execute_result"
    }
   ],
   "source": [
    "scaos.shape"
   ]
  },
  {
   "cell_type": "markdown",
   "metadata": {},
   "source": [
    "### Join the p-value files together\n",
    "All files will be indexed by ortholog group. First, we separate the single copy ant orthologs into columns for each of their respective species"
   ]
  },
  {
   "cell_type": "code",
   "execution_count": 13,
   "metadata": {
    "collapsed": true
   },
   "outputs": [],
   "source": [
    "df_combined = scaos.apply(lambda s: pd.Series(sorted([o for o in s[\"orthologs\"].split() if o[:4] in sp_short])), axis=1)\n",
    "df_combined.columns = sorted(sp_short)"
   ]
  },
  {
   "cell_type": "code",
   "execution_count": 14,
   "metadata": {},
   "outputs": [
    {
     "data": {
      "text/html": [
       "<div>\n",
       "<style scoped>\n",
       "    .dataframe tbody tr th:only-of-type {\n",
       "        vertical-align: middle;\n",
       "    }\n",
       "\n",
       "    .dataframe tbody tr th {\n",
       "        vertical-align: top;\n",
       "    }\n",
       "\n",
       "    .dataframe thead th {\n",
       "        text-align: right;\n",
       "    }\n",
       "</style>\n",
       "<table border=\"1\" class=\"dataframe\">\n",
       "  <thead>\n",
       "    <tr style=\"text-align: right;\">\n",
       "      <th></th>\n",
       "      <th>Aech</th>\n",
       "      <th>Cpla</th>\n",
       "      <th>Dqua</th>\n",
       "      <th>Hsal</th>\n",
       "      <th>Obir</th>\n",
       "      <th>Orug</th>\n",
       "      <th>Sinv</th>\n",
       "    </tr>\n",
       "  </thead>\n",
       "  <tbody>\n",
       "    <tr>\n",
       "      <th>305</th>\n",
       "      <td>Aech|LOC105153097</td>\n",
       "      <td>Cpla|SGF61405</td>\n",
       "      <td>Dqua|LOC106749891</td>\n",
       "      <td>Hsal|LOC105181067</td>\n",
       "      <td>Obir|LOC105281216</td>\n",
       "      <td>Orug|SGF68562</td>\n",
       "      <td>Sinv|LOC105201217</td>\n",
       "    </tr>\n",
       "    <tr>\n",
       "      <th>331</th>\n",
       "      <td>Aech|LOC105144379</td>\n",
       "      <td>Cpla|SGF47786</td>\n",
       "      <td>Dqua|LOC106743402</td>\n",
       "      <td>Hsal|LOC105181117</td>\n",
       "      <td>Obir|LOC105282301</td>\n",
       "      <td>Orug|SGF65534</td>\n",
       "      <td>Sinv|LOC105194815</td>\n",
       "    </tr>\n",
       "    <tr>\n",
       "      <th>367</th>\n",
       "      <td>Aech|LOC105154742</td>\n",
       "      <td>Cpla|SGF57622</td>\n",
       "      <td>Dqua|LOC106742675</td>\n",
       "      <td>Hsal|LOC105184475</td>\n",
       "      <td>Obir|LOC105281047</td>\n",
       "      <td>Orug|SGF78634</td>\n",
       "      <td>Sinv|LOC105203057</td>\n",
       "    </tr>\n",
       "    <tr>\n",
       "      <th>413</th>\n",
       "      <td>Aech|LOC105151083</td>\n",
       "      <td>Cpla|SGF65369</td>\n",
       "      <td>Dqua|LOC106742289</td>\n",
       "      <td>Hsal|LOC105180743</td>\n",
       "      <td>Obir|LOC105287676</td>\n",
       "      <td>Orug|SGF86030</td>\n",
       "      <td>Sinv|LOC105198509</td>\n",
       "    </tr>\n",
       "    <tr>\n",
       "      <th>423</th>\n",
       "      <td>Aech|LOC105149040</td>\n",
       "      <td>Cpla|SGF52740</td>\n",
       "      <td>Dqua|LOC106748414</td>\n",
       "      <td>Hsal|LOC105185999</td>\n",
       "      <td>Obir|LOC105277964</td>\n",
       "      <td>Orug|SGF81562</td>\n",
       "      <td>Sinv|LOC105200782</td>\n",
       "    </tr>\n",
       "  </tbody>\n",
       "</table>\n",
       "</div>"
      ],
      "text/plain": [
       "                  Aech           Cpla               Dqua               Hsal  \\\n",
       "305  Aech|LOC105153097  Cpla|SGF61405  Dqua|LOC106749891  Hsal|LOC105181067   \n",
       "331  Aech|LOC105144379  Cpla|SGF47786  Dqua|LOC106743402  Hsal|LOC105181117   \n",
       "367  Aech|LOC105154742  Cpla|SGF57622  Dqua|LOC106742675  Hsal|LOC105184475   \n",
       "413  Aech|LOC105151083  Cpla|SGF65369  Dqua|LOC106742289  Hsal|LOC105180743   \n",
       "423  Aech|LOC105149040  Cpla|SGF52740  Dqua|LOC106748414  Hsal|LOC105185999   \n",
       "\n",
       "                  Obir           Orug               Sinv  \n",
       "305  Obir|LOC105281216  Orug|SGF68562  Sinv|LOC105201217  \n",
       "331  Obir|LOC105282301  Orug|SGF65534  Sinv|LOC105194815  \n",
       "367  Obir|LOC105281047  Orug|SGF78634  Sinv|LOC105203057  \n",
       "413  Obir|LOC105287676  Orug|SGF86030  Sinv|LOC105198509  \n",
       "423  Obir|LOC105277964  Orug|SGF81562  Sinv|LOC105200782  "
      ]
     },
     "execution_count": 14,
     "metadata": {},
     "output_type": "execute_result"
    }
   ],
   "source": [
    "df_combined.head()"
   ]
  },
  {
   "cell_type": "markdown",
   "metadata": {},
   "source": [
    "Now we append the mean expression, the log2 fold-change between reproductive and non-reproductive castes, the p-value and FDR-corrected p-values from the DESeq2 analyses."
   ]
  },
  {
   "cell_type": "code",
   "execution_count": 15,
   "metadata": {
    "collapsed": true
   },
   "outputs": [],
   "source": [
    "cols_to_join = [\"baseMean\",\"log2FoldChange\",\"pvalue\",\"padj\"]   #note that pvalue is the unadjusted pval, and padj is p after fdr correction\n",
    "for sp,gen in zip(sp_short,species):\n",
    "    p_to_join = df_pval_dic[gen][cols_to_join]\n",
    "    p_to_join.columns = [ \"{}_{}\".format(sp,c) for c in cols_to_join]\n",
    "    df_combined = df_combined.join(p_to_join, how='left', on=sp)"
   ]
  },
  {
   "cell_type": "code",
   "execution_count": 16,
   "metadata": {},
   "outputs": [
    {
     "data": {
      "text/html": [
       "<div>\n",
       "<style scoped>\n",
       "    .dataframe tbody tr th:only-of-type {\n",
       "        vertical-align: middle;\n",
       "    }\n",
       "\n",
       "    .dataframe tbody tr th {\n",
       "        vertical-align: top;\n",
       "    }\n",
       "\n",
       "    .dataframe thead th {\n",
       "        text-align: right;\n",
       "    }\n",
       "</style>\n",
       "<table border=\"1\" class=\"dataframe\">\n",
       "  <thead>\n",
       "    <tr style=\"text-align: right;\">\n",
       "      <th></th>\n",
       "      <th>Aech</th>\n",
       "      <th>Cpla</th>\n",
       "      <th>Dqua</th>\n",
       "      <th>Hsal</th>\n",
       "      <th>Obir</th>\n",
       "      <th>Orug</th>\n",
       "      <th>Sinv</th>\n",
       "      <th>Aech_baseMean</th>\n",
       "      <th>Aech_log2FoldChange</th>\n",
       "      <th>Aech_pvalue</th>\n",
       "      <th>...</th>\n",
       "      <th>Orug_pvalue</th>\n",
       "      <th>Orug_padj</th>\n",
       "      <th>Obir_baseMean</th>\n",
       "      <th>Obir_log2FoldChange</th>\n",
       "      <th>Obir_pvalue</th>\n",
       "      <th>Obir_padj</th>\n",
       "      <th>Sinv_baseMean</th>\n",
       "      <th>Sinv_log2FoldChange</th>\n",
       "      <th>Sinv_pvalue</th>\n",
       "      <th>Sinv_padj</th>\n",
       "    </tr>\n",
       "  </thead>\n",
       "  <tbody>\n",
       "    <tr>\n",
       "      <th>305</th>\n",
       "      <td>Aech|LOC105153097</td>\n",
       "      <td>Cpla|SGF61405</td>\n",
       "      <td>Dqua|LOC106749891</td>\n",
       "      <td>Hsal|LOC105181067</td>\n",
       "      <td>Obir|LOC105281216</td>\n",
       "      <td>Orug|SGF68562</td>\n",
       "      <td>Sinv|LOC105201217</td>\n",
       "      <td>839.829550</td>\n",
       "      <td>-0.005591</td>\n",
       "      <td>9.749647e-01</td>\n",
       "      <td>...</td>\n",
       "      <td>0.323920</td>\n",
       "      <td>0.471735</td>\n",
       "      <td>2227.754133</td>\n",
       "      <td>0.432653</td>\n",
       "      <td>0.002878</td>\n",
       "      <td>0.041655</td>\n",
       "      <td>391.232256</td>\n",
       "      <td>-0.051518</td>\n",
       "      <td>0.421668</td>\n",
       "      <td>0.585876</td>\n",
       "    </tr>\n",
       "    <tr>\n",
       "      <th>331</th>\n",
       "      <td>Aech|LOC105144379</td>\n",
       "      <td>Cpla|SGF47786</td>\n",
       "      <td>Dqua|LOC106743402</td>\n",
       "      <td>Hsal|LOC105181117</td>\n",
       "      <td>Obir|LOC105282301</td>\n",
       "      <td>Orug|SGF65534</td>\n",
       "      <td>Sinv|LOC105194815</td>\n",
       "      <td>244.784487</td>\n",
       "      <td>1.460857</td>\n",
       "      <td>2.037000e-08</td>\n",
       "      <td>...</td>\n",
       "      <td>0.836298</td>\n",
       "      <td>0.891570</td>\n",
       "      <td>793.978290</td>\n",
       "      <td>-0.007736</td>\n",
       "      <td>0.963926</td>\n",
       "      <td>0.992221</td>\n",
       "      <td>226.248598</td>\n",
       "      <td>0.423662</td>\n",
       "      <td>0.000122</td>\n",
       "      <td>0.000781</td>\n",
       "    </tr>\n",
       "    <tr>\n",
       "      <th>367</th>\n",
       "      <td>Aech|LOC105154742</td>\n",
       "      <td>Cpla|SGF57622</td>\n",
       "      <td>Dqua|LOC106742675</td>\n",
       "      <td>Hsal|LOC105184475</td>\n",
       "      <td>Obir|LOC105281047</td>\n",
       "      <td>Orug|SGF78634</td>\n",
       "      <td>Sinv|LOC105203057</td>\n",
       "      <td>306.311466</td>\n",
       "      <td>-0.077285</td>\n",
       "      <td>6.244275e-01</td>\n",
       "      <td>...</td>\n",
       "      <td>0.000001</td>\n",
       "      <td>0.000016</td>\n",
       "      <td>2189.024661</td>\n",
       "      <td>-0.103909</td>\n",
       "      <td>0.607203</td>\n",
       "      <td>0.871456</td>\n",
       "      <td>407.541439</td>\n",
       "      <td>0.260069</td>\n",
       "      <td>0.005161</td>\n",
       "      <td>0.019039</td>\n",
       "    </tr>\n",
       "    <tr>\n",
       "      <th>413</th>\n",
       "      <td>Aech|LOC105151083</td>\n",
       "      <td>Cpla|SGF65369</td>\n",
       "      <td>Dqua|LOC106742289</td>\n",
       "      <td>Hsal|LOC105180743</td>\n",
       "      <td>Obir|LOC105287676</td>\n",
       "      <td>Orug|SGF86030</td>\n",
       "      <td>Sinv|LOC105198509</td>\n",
       "      <td>92.576057</td>\n",
       "      <td>0.841557</td>\n",
       "      <td>8.401890e-03</td>\n",
       "      <td>...</td>\n",
       "      <td>0.463778</td>\n",
       "      <td>0.605464</td>\n",
       "      <td>83.684642</td>\n",
       "      <td>-0.166003</td>\n",
       "      <td>0.461690</td>\n",
       "      <td>0.789415</td>\n",
       "      <td>45.880269</td>\n",
       "      <td>0.219733</td>\n",
       "      <td>0.386031</td>\n",
       "      <td>0.551058</td>\n",
       "    </tr>\n",
       "    <tr>\n",
       "      <th>423</th>\n",
       "      <td>Aech|LOC105149040</td>\n",
       "      <td>Cpla|SGF52740</td>\n",
       "      <td>Dqua|LOC106748414</td>\n",
       "      <td>Hsal|LOC105185999</td>\n",
       "      <td>Obir|LOC105277964</td>\n",
       "      <td>Orug|SGF81562</td>\n",
       "      <td>Sinv|LOC105200782</td>\n",
       "      <td>102.323539</td>\n",
       "      <td>1.464132</td>\n",
       "      <td>3.364315e-10</td>\n",
       "      <td>...</td>\n",
       "      <td>0.471751</td>\n",
       "      <td>0.612367</td>\n",
       "      <td>1136.701183</td>\n",
       "      <td>0.179205</td>\n",
       "      <td>0.234553</td>\n",
       "      <td>0.608615</td>\n",
       "      <td>867.414114</td>\n",
       "      <td>0.762431</td>\n",
       "      <td>0.000251</td>\n",
       "      <td>0.001467</td>\n",
       "    </tr>\n",
       "  </tbody>\n",
       "</table>\n",
       "<p>5 rows × 35 columns</p>\n",
       "</div>"
      ],
      "text/plain": [
       "                  Aech           Cpla               Dqua               Hsal  \\\n",
       "305  Aech|LOC105153097  Cpla|SGF61405  Dqua|LOC106749891  Hsal|LOC105181067   \n",
       "331  Aech|LOC105144379  Cpla|SGF47786  Dqua|LOC106743402  Hsal|LOC105181117   \n",
       "367  Aech|LOC105154742  Cpla|SGF57622  Dqua|LOC106742675  Hsal|LOC105184475   \n",
       "413  Aech|LOC105151083  Cpla|SGF65369  Dqua|LOC106742289  Hsal|LOC105180743   \n",
       "423  Aech|LOC105149040  Cpla|SGF52740  Dqua|LOC106748414  Hsal|LOC105185999   \n",
       "\n",
       "                  Obir           Orug               Sinv  Aech_baseMean  \\\n",
       "305  Obir|LOC105281216  Orug|SGF68562  Sinv|LOC105201217     839.829550   \n",
       "331  Obir|LOC105282301  Orug|SGF65534  Sinv|LOC105194815     244.784487   \n",
       "367  Obir|LOC105281047  Orug|SGF78634  Sinv|LOC105203057     306.311466   \n",
       "413  Obir|LOC105287676  Orug|SGF86030  Sinv|LOC105198509      92.576057   \n",
       "423  Obir|LOC105277964  Orug|SGF81562  Sinv|LOC105200782     102.323539   \n",
       "\n",
       "     Aech_log2FoldChange   Aech_pvalue    ...      Orug_pvalue  Orug_padj  \\\n",
       "305            -0.005591  9.749647e-01    ...         0.323920   0.471735   \n",
       "331             1.460857  2.037000e-08    ...         0.836298   0.891570   \n",
       "367            -0.077285  6.244275e-01    ...         0.000001   0.000016   \n",
       "413             0.841557  8.401890e-03    ...         0.463778   0.605464   \n",
       "423             1.464132  3.364315e-10    ...         0.471751   0.612367   \n",
       "\n",
       "     Obir_baseMean  Obir_log2FoldChange  Obir_pvalue  Obir_padj  \\\n",
       "305    2227.754133             0.432653     0.002878   0.041655   \n",
       "331     793.978290            -0.007736     0.963926   0.992221   \n",
       "367    2189.024661            -0.103909     0.607203   0.871456   \n",
       "413      83.684642            -0.166003     0.461690   0.789415   \n",
       "423    1136.701183             0.179205     0.234553   0.608615   \n",
       "\n",
       "     Sinv_baseMean  Sinv_log2FoldChange  Sinv_pvalue  Sinv_padj  \n",
       "305     391.232256            -0.051518     0.421668   0.585876  \n",
       "331     226.248598             0.423662     0.000122   0.000781  \n",
       "367     407.541439             0.260069     0.005161   0.019039  \n",
       "413      45.880269             0.219733     0.386031   0.551058  \n",
       "423     867.414114             0.762431     0.000251   0.001467  \n",
       "\n",
       "[5 rows x 35 columns]"
      ]
     },
     "execution_count": 16,
     "metadata": {},
     "output_type": "execute_result"
    }
   ],
   "source": [
    "df_combined.head()"
   ]
  },
  {
   "cell_type": "code",
   "execution_count": 17,
   "metadata": {
    "collapsed": true
   },
   "outputs": [],
   "source": [
    "# save to file. This table constitutes Supplementary Table X\n",
    "df_combined.to_csv(\"ortholog_pvalue_table.csv\", index=False)"
   ]
  },
  {
   "cell_type": "markdown",
   "metadata": {},
   "source": [
    "## Identify all concordant differentially expressed genes"
   ]
  },
  {
   "cell_type": "code",
   "execution_count": 18,
   "metadata": {},
   "outputs": [
    {
     "name": "stdout",
     "output_type": "stream",
     "text": [
      "1 orthologs found with all p-values (adjusted) <= 0.05\n"
     ]
    },
    {
     "data": {
      "text/html": [
       "<div>\n",
       "<style scoped>\n",
       "    .dataframe tbody tr th:only-of-type {\n",
       "        vertical-align: middle;\n",
       "    }\n",
       "\n",
       "    .dataframe tbody tr th {\n",
       "        vertical-align: top;\n",
       "    }\n",
       "\n",
       "    .dataframe thead th {\n",
       "        text-align: right;\n",
       "    }\n",
       "</style>\n",
       "<table border=\"1\" class=\"dataframe\">\n",
       "  <thead>\n",
       "    <tr style=\"text-align: right;\">\n",
       "      <th></th>\n",
       "      <th>Aech</th>\n",
       "      <th>Cpla</th>\n",
       "      <th>Dqua</th>\n",
       "      <th>Hsal</th>\n",
       "      <th>Obir</th>\n",
       "      <th>Orug</th>\n",
       "      <th>Sinv</th>\n",
       "      <th>Aech_baseMean</th>\n",
       "      <th>Aech_log2FoldChange</th>\n",
       "      <th>Aech_pvalue</th>\n",
       "      <th>...</th>\n",
       "      <th>Orug_pvalue</th>\n",
       "      <th>Orug_padj</th>\n",
       "      <th>Obir_baseMean</th>\n",
       "      <th>Obir_log2FoldChange</th>\n",
       "      <th>Obir_pvalue</th>\n",
       "      <th>Obir_padj</th>\n",
       "      <th>Sinv_baseMean</th>\n",
       "      <th>Sinv_log2FoldChange</th>\n",
       "      <th>Sinv_pvalue</th>\n",
       "      <th>Sinv_padj</th>\n",
       "    </tr>\n",
       "  </thead>\n",
       "  <tbody>\n",
       "    <tr>\n",
       "      <th>2059</th>\n",
       "      <td>Aech|LOC105147653</td>\n",
       "      <td>Cpla|SGF53173</td>\n",
       "      <td>Dqua|LOC106750697</td>\n",
       "      <td>Hsal|LOC105188195</td>\n",
       "      <td>Obir|LOC105278524</td>\n",
       "      <td>Orug|SGF66168</td>\n",
       "      <td>Sinv|LOC105200753</td>\n",
       "      <td>68.272121</td>\n",
       "      <td>2.711926</td>\n",
       "      <td>6.766716e-12</td>\n",
       "      <td>...</td>\n",
       "      <td>0.000927</td>\n",
       "      <td>0.004607</td>\n",
       "      <td>1228.728806</td>\n",
       "      <td>1.381716</td>\n",
       "      <td>4.212394e-18</td>\n",
       "      <td>2.963560e-15</td>\n",
       "      <td>626.264624</td>\n",
       "      <td>2.441594</td>\n",
       "      <td>4.785615e-18</td>\n",
       "      <td>3.473843e-16</td>\n",
       "    </tr>\n",
       "  </tbody>\n",
       "</table>\n",
       "<p>1 rows × 35 columns</p>\n",
       "</div>"
      ],
      "text/plain": [
       "                   Aech           Cpla               Dqua               Hsal  \\\n",
       "2059  Aech|LOC105147653  Cpla|SGF53173  Dqua|LOC106750697  Hsal|LOC105188195   \n",
       "\n",
       "                   Obir           Orug               Sinv  Aech_baseMean  \\\n",
       "2059  Obir|LOC105278524  Orug|SGF66168  Sinv|LOC105200753      68.272121   \n",
       "\n",
       "      Aech_log2FoldChange   Aech_pvalue      ...       Orug_pvalue  Orug_padj  \\\n",
       "2059             2.711926  6.766716e-12      ...          0.000927   0.004607   \n",
       "\n",
       "      Obir_baseMean  Obir_log2FoldChange   Obir_pvalue     Obir_padj  \\\n",
       "2059    1228.728806             1.381716  4.212394e-18  2.963560e-15   \n",
       "\n",
       "      Sinv_baseMean  Sinv_log2FoldChange   Sinv_pvalue     Sinv_padj  \n",
       "2059     626.264624             2.441594  4.785615e-18  3.473843e-16  \n",
       "\n",
       "[1 rows x 35 columns]"
      ]
     },
     "execution_count": 18,
     "metadata": {},
     "output_type": "execute_result"
    }
   ],
   "source": [
    "pcols = [\"{}_{}\".format(sp,\"padj\") for sp in sp_short] # a list of all the pvalue columns\n",
    "lfc_cols = [ \"{}_log2FoldChange\".format(s) for s in sp_short ] # a list of all the LFC columns\n",
    "\n",
    "mask = (df_combined[pcols] <= 0.05).all(axis=1)\n",
    "\n",
    "print(\"{} orthologs found with all p-values (adjusted) <= 0.05\".format(mask.sum()))\n",
    "df_combined[mask]\n"
   ]
  },
  {
   "cell_type": "markdown",
   "metadata": {},
   "source": [
    "This last cell shows that there is only one gene that has a p-value (FDR adjusted) ≤ 0.05 in all seven species. This gene is also over-expressed in reproductives in all seven species (ie, it is concordantly expressed in all seven species)."
   ]
  },
  {
   "cell_type": "markdown",
   "metadata": {},
   "source": [
    "### Interactively check table for all significant genes\n",
    "This section allows you to interactively view the effect of different significance thresholds and their effect on the number of genes significant in all species. You will need to have enabled ipywidgets in your notebook to use this section (see [here](http://ipywidgets.readthedocs.io/en/latest/user_install.html) for details)"
   ]
  },
  {
   "cell_type": "code",
   "execution_count": 19,
   "metadata": {},
   "outputs": [],
   "source": [
    "from ipywidgets import interact, interact_manual\n",
    "import ipywidgets as widgets"
   ]
  },
  {
   "cell_type": "code",
   "execution_count": 20,
   "metadata": {},
   "outputs": [],
   "source": [
    "pcols = [\"{}_{}\".format(sp,\"padj\") for sp in sp_short]         # a list of all the pvalue columns\n",
    "lfc_cols = [ \"{}_log2FoldChange\".format(s) for s in sp_short ] # a list of all the LFC columns"
   ]
  },
  {
   "cell_type": "code",
   "execution_count": 21,
   "metadata": {},
   "outputs": [],
   "source": [
    "def set_pvalue(thresh=0.05):\n",
    "    mask = (df_combined[pcols] <= thresh).all(axis=1)\n",
    "    print(\"{} ortholog(s) found with all p-values (adjusted) <= {}\".format(mask.sum(), thresh))\n",
    "    return df_combined[mask]"
   ]
  },
  {
   "cell_type": "code",
   "execution_count": 22,
   "metadata": {},
   "outputs": [
    {
     "data": {
      "application/vnd.jupyter.widget-view+json": {
       "model_id": "39ccd1c9b9e042119f747926b268c698",
       "version_major": 2,
       "version_minor": 0
      },
      "text/html": [
       "<p>Failed to display Jupyter Widget of type <code>interactive</code>.</p>\n",
       "<p>\n",
       "  If you're reading this message in Jupyter Notebook or JupyterLab, it may mean\n",
       "  that the widgets JavaScript is still loading. If this message persists, it\n",
       "  likely means that the widgets JavaScript library is either not installed or\n",
       "  not enabled. See the <a href=\"https://ipywidgets.readthedocs.io/en/stable/user_install.html\">Jupyter\n",
       "  Widgets Documentation</a> for setup instructions.\n",
       "</p>\n",
       "<p>\n",
       "  If you're reading this message in another notebook frontend (for example, a static\n",
       "  rendering on GitHub or <a href=\"https://nbviewer.jupyter.org/\">NBViewer</a>),\n",
       "  it may mean that your frontend doesn't currently support widgets.\n",
       "</p>\n"
      ],
      "text/plain": [
       "interactive(children=(FloatSlider(value=0.05, description='thresh', max=1.0, step=0.01), Output()), _dom_classes=('widget-interact',))"
      ]
     },
     "metadata": {},
     "output_type": "display_data"
    }
   ],
   "source": [
    "interact(set_pvalue, thresh=(0.0,1.0,0.01) );  # widgets.FloatSlider(min=0.,max=0.5,step=0.01,value=0.05));"
   ]
  },
  {
   "cell_type": "markdown",
   "metadata": {},
   "source": [
    "### Check number of orthologous DEGs per species\n",
    "The number of orthologous DEGs will be smaller than the total number of DEGs for each individual species, since only the single-copy orthologs are represented."
   ]
  },
  {
   "cell_type": "code",
   "execution_count": 23,
   "metadata": {},
   "outputs": [
    {
     "name": "stdout",
     "output_type": "stream",
     "text": [
      "SPECIES       DEGs   ODEGs (%) \n",
      "Acromyrmex     2262  1050  46.4\n",
      "Camponotus     5304  2579  48.6\n",
      "Dinoponera      408   171  41.9\n",
      "Harpegnathos     35    16  45.7\n",
      "Odontomachus   4987  2270  45.5\n",
      "Ooceraea        784   363  46.3\n",
      "Solenopsis     4116  1925  46.8\n"
     ]
    }
   ],
   "source": [
    "pvs = [ sp + \"_padj\" for sp in sp_short]\n",
    "species_specific_deg_num = []  # this variable is used later for the simulations\n",
    "print(\"{0:<13s} {2:<6s} {1:<4s} {3:<4s}\".format(\"SPECIES\", \"ODEGs\", \"DEGs\", \"(%)\"))\n",
    "for p,sp in zip(pvs, species):\n",
    "    species_specific_deg_num.append((df_combined[p] <= 0.05).sum())\n",
    "    print(\"{0:<13s} {2:-5d} {1:-5d}  {3:.1f}\".format(sp, \n",
    "                                         (df_combined[p] <= 0.05).sum(), \n",
    "                                         (df_pval_dic[sp][\"padj\"] <= 0.05).sum(),\n",
    "                                         100*(df_combined[p] <= 0.05).sum() / (df_pval_dic[sp][\"padj\"] <= 0.05).sum()\n",
    "                                        )\n",
    "         )"
   ]
  },
  {
   "cell_type": "markdown",
   "metadata": {},
   "source": [
    "### Display fold-change and p values"
   ]
  },
  {
   "cell_type": "markdown",
   "metadata": {},
   "source": [
    "show values for Insulin-like peptides 1 and 2:"
   ]
  },
  {
   "cell_type": "code",
   "execution_count": 24,
   "metadata": {},
   "outputs": [
    {
     "data": {
      "text/html": [
       "<div>\n",
       "<style scoped>\n",
       "    .dataframe tbody tr th:only-of-type {\n",
       "        vertical-align: middle;\n",
       "    }\n",
       "\n",
       "    .dataframe tbody tr th {\n",
       "        vertical-align: top;\n",
       "    }\n",
       "\n",
       "    .dataframe thead th {\n",
       "        text-align: right;\n",
       "    }\n",
       "</style>\n",
       "<table border=\"1\" class=\"dataframe\">\n",
       "  <thead>\n",
       "    <tr style=\"text-align: right;\">\n",
       "      <th></th>\n",
       "      <th>Aech_padj</th>\n",
       "      <th>Cpla_padj</th>\n",
       "      <th>Dqua_padj</th>\n",
       "      <th>Hsal_padj</th>\n",
       "      <th>Orug_padj</th>\n",
       "      <th>Obir_padj</th>\n",
       "      <th>Sinv_padj</th>\n",
       "      <th>Aech_log2FoldChange</th>\n",
       "      <th>Cpla_log2FoldChange</th>\n",
       "      <th>Dqua_log2FoldChange</th>\n",
       "      <th>Hsal_log2FoldChange</th>\n",
       "      <th>Orug_log2FoldChange</th>\n",
       "      <th>Obir_log2FoldChange</th>\n",
       "      <th>Sinv_log2FoldChange</th>\n",
       "    </tr>\n",
       "  </thead>\n",
       "  <tbody>\n",
       "    <tr>\n",
       "      <th>8648</th>\n",
       "      <td>0.022555</td>\n",
       "      <td>0.006219</td>\n",
       "      <td>0.58577</td>\n",
       "      <td>0.000114</td>\n",
       "      <td>0.120454</td>\n",
       "      <td>0.02609</td>\n",
       "      <td>0.000009</td>\n",
       "      <td>-1.193374</td>\n",
       "      <td>-0.758144</td>\n",
       "      <td>-0.483432</td>\n",
       "      <td>-1.719643</td>\n",
       "      <td>-0.750206</td>\n",
       "      <td>-0.759376</td>\n",
       "      <td>-1.308077</td>\n",
       "    </tr>\n",
       "  </tbody>\n",
       "</table>\n",
       "</div>"
      ],
      "text/plain": [
       "      Aech_padj  Cpla_padj  Dqua_padj  Hsal_padj  Orug_padj  Obir_padj  \\\n",
       "8648   0.022555   0.006219    0.58577   0.000114   0.120454    0.02609   \n",
       "\n",
       "      Sinv_padj  Aech_log2FoldChange  Cpla_log2FoldChange  \\\n",
       "8648   0.000009            -1.193374            -0.758144   \n",
       "\n",
       "      Dqua_log2FoldChange  Hsal_log2FoldChange  Orug_log2FoldChange  \\\n",
       "8648            -0.483432            -1.719643            -0.750206   \n",
       "\n",
       "      Obir_log2FoldChange  Sinv_log2FoldChange  \n",
       "8648            -0.759376            -1.308077  "
      ]
     },
     "execution_count": 24,
     "metadata": {},
     "output_type": "execute_result"
    }
   ],
   "source": [
    "df_combined[df_combined.Obir == \"Obir|LOC105283606\"][pvs + lfc_cols]  # ILP1 "
   ]
  },
  {
   "cell_type": "code",
   "execution_count": 25,
   "metadata": {},
   "outputs": [
    {
     "data": {
      "text/html": [
       "<div>\n",
       "<style scoped>\n",
       "    .dataframe tbody tr th:only-of-type {\n",
       "        vertical-align: middle;\n",
       "    }\n",
       "\n",
       "    .dataframe tbody tr th {\n",
       "        vertical-align: top;\n",
       "    }\n",
       "\n",
       "    .dataframe thead th {\n",
       "        text-align: right;\n",
       "    }\n",
       "</style>\n",
       "<table border=\"1\" class=\"dataframe\">\n",
       "  <thead>\n",
       "    <tr style=\"text-align: right;\">\n",
       "      <th></th>\n",
       "      <th>Aech_padj</th>\n",
       "      <th>Cpla_padj</th>\n",
       "      <th>Dqua_padj</th>\n",
       "      <th>Hsal_padj</th>\n",
       "      <th>Orug_padj</th>\n",
       "      <th>Obir_padj</th>\n",
       "      <th>Sinv_padj</th>\n",
       "      <th>Aech_log2FoldChange</th>\n",
       "      <th>Cpla_log2FoldChange</th>\n",
       "      <th>Dqua_log2FoldChange</th>\n",
       "      <th>Hsal_log2FoldChange</th>\n",
       "      <th>Orug_log2FoldChange</th>\n",
       "      <th>Obir_log2FoldChange</th>\n",
       "      <th>Sinv_log2FoldChange</th>\n",
       "    </tr>\n",
       "  </thead>\n",
       "  <tbody>\n",
       "    <tr>\n",
       "      <th>2059</th>\n",
       "      <td>4.391351e-10</td>\n",
       "      <td>0.019167</td>\n",
       "      <td>0.037204</td>\n",
       "      <td>0.013436</td>\n",
       "      <td>0.004607</td>\n",
       "      <td>2.963560e-15</td>\n",
       "      <td>3.473843e-16</td>\n",
       "      <td>2.711926</td>\n",
       "      <td>1.081158</td>\n",
       "      <td>1.086033</td>\n",
       "      <td>0.898978</td>\n",
       "      <td>1.123209</td>\n",
       "      <td>1.381716</td>\n",
       "      <td>2.441594</td>\n",
       "    </tr>\n",
       "  </tbody>\n",
       "</table>\n",
       "</div>"
      ],
      "text/plain": [
       "         Aech_padj  Cpla_padj  Dqua_padj  Hsal_padj  Orug_padj     Obir_padj  \\\n",
       "2059  4.391351e-10   0.019167   0.037204   0.013436   0.004607  2.963560e-15   \n",
       "\n",
       "         Sinv_padj  Aech_log2FoldChange  Cpla_log2FoldChange  \\\n",
       "2059  3.473843e-16             2.711926             1.081158   \n",
       "\n",
       "      Dqua_log2FoldChange  Hsal_log2FoldChange  Orug_log2FoldChange  \\\n",
       "2059             1.086033             0.898978             1.123209   \n",
       "\n",
       "      Obir_log2FoldChange  Sinv_log2FoldChange  \n",
       "2059             1.381716             2.441594  "
      ]
     },
     "execution_count": 25,
     "metadata": {},
     "output_type": "execute_result"
    }
   ],
   "source": [
    "df_combined[df_combined.Obir == \"Obir|LOC105278524\"][pvs + lfc_cols]  # ILP2"
   ]
  },
  {
   "cell_type": "code",
   "execution_count": 26,
   "metadata": {},
   "outputs": [],
   "source": [
    "def view_gene(choice=\"Obir|LOC105278524\"):   # default is ILP2\n",
    "    # plot the log2FoldChange of all genes of interest\n",
    "    df = df_combined[df_combined.Obir == choice]\n",
    "    if len(df) == 0:\n",
    "        return \"No gene found\"\n",
    "    \n",
    "    ax = df[[\"Obir\"] + lfc_cols].set_index(\"Obir\").plot.bar(figsize=(10,5))\n",
    "\n",
    "    # get the pvalues of these genes:\n",
    "    df_cpvals = df[[\"Obir\"] + pvs].set_index(\"Obir\")\n",
    "\n",
    "    # annotate the signicantly differentially expressed genes with an asterisk\n",
    "    x_pos = [rect.get_x() + rect.get_width()/2. for rect in ax.patches]\n",
    "    y_pos = [rect.get_y() + rect.get_height() -0.35 + 0.2*(rect.get_height())/abs(rect.get_height()) for rect in ax.patches]\n",
    "    scores = [{1:\"*\",0:\"\"}[p<=0.05] for p in df_cpvals.values.flatten(\"F\")]\n",
    "    for rect, x, y, s in zip(ax.patches, x_pos, y_pos, scores):\n",
    "            ax.text(x, \n",
    "                    y,\n",
    "                    s,\n",
    "                    ha='center', va='bottom',\n",
    "                    size=32,\n",
    "                    color='r'\n",
    "                   )\n",
    "\n",
    "    # add axes labels\n",
    "    plt.ylabel(\"log2(fold-change)\", size=16)\n",
    "    plt.yticks(size=14)\n",
    "    plt.xlabel(ax.get_xticklabels()[0].get_text(), size=16)\n",
    "    plt.xticks([], [])\n",
    "    \n",
    "    plt.legend(bbox_to_anchor=(1.05, 1), loc=2, borderaxespad=0.0, prop={'size': 16});"
   ]
  },
  {
   "cell_type": "markdown",
   "metadata": {},
   "source": [
    "### interactively view results for a single ortholog group\n",
    "In the text box below, enter the 4-letter species code plus gene ID for any gene in the single-copy ortholog table, and it will display the log-fold changes and indicate whether the gene is significantly differentially expressed."
   ]
  },
  {
   "cell_type": "code",
   "execution_count": 27,
   "metadata": {},
   "outputs": [
    {
     "data": {
      "application/vnd.jupyter.widget-view+json": {
       "model_id": "08e0cf67a04c40b6bee5151171f9676e",
       "version_major": 2,
       "version_minor": 0
      },
      "text/html": [
       "<p>Failed to display Jupyter Widget of type <code>interactive</code>.</p>\n",
       "<p>\n",
       "  If you're reading this message in Jupyter Notebook or JupyterLab, it may mean\n",
       "  that the widgets JavaScript is still loading. If this message persists, it\n",
       "  likely means that the widgets JavaScript library is either not installed or\n",
       "  not enabled. See the <a href=\"https://ipywidgets.readthedocs.io/en/stable/user_install.html\">Jupyter\n",
       "  Widgets Documentation</a> for setup instructions.\n",
       "</p>\n",
       "<p>\n",
       "  If you're reading this message in another notebook frontend (for example, a static\n",
       "  rendering on GitHub or <a href=\"https://nbviewer.jupyter.org/\">NBViewer</a>),\n",
       "  it may mean that your frontend doesn't currently support widgets.\n",
       "</p>\n"
      ],
      "text/plain": [
       "interactive(children=(Text(value='Obir|LOC105278524', description='choice'), Button(description='Run Interact', style=ButtonStyle()), Output()), _dom_classes=('widget-interact',))"
      ]
     },
     "metadata": {},
     "output_type": "display_data"
    }
   ],
   "source": [
    "interact_manual(view_gene, choice=\"Obir|LOC105278524\");"
   ]
  },
  {
   "cell_type": "markdown",
   "metadata": {},
   "source": [
    "## Concordant DEGs analysis\n",
    "While there is only a single gene differentially expressed across all seven species, there are varied numbers of genes significant and concordant among all the combinations of those seven species. Attempting to draw a Venn diagram would be of little use, as it becomes difficult to evaluate each comparison and see trends among so many sets.\n",
    "Thus, here we will identify the number of genes that are signficant and concordant for each possible combination of the seven species, and plot the values against the number of species compared."
   ]
  },
  {
   "cell_type": "code",
   "execution_count": 28,
   "metadata": {
    "collapsed": true
   },
   "outputs": [],
   "source": [
    "c = {i:[] for i in np.arange(len(species)) + 1}\n",
    "for n in np.arange(len(species)) + 1:\n",
    "    for combo in combinations(zip(pcols,lfc_cols), n):\n",
    "        ps,ls = list(zip(*combo))\n",
    "        ps = list(ps)\n",
    "        ls = list(ls)\n",
    "        concordant_degs = ((\n",
    "                            df_combined[ps] <= 0.05\n",
    "                             ).all(axis=1) & (\n",
    "                            abs((df_combined[ls] / abs(df_combined[ls])).sum(axis=1)) == len(ls)\n",
    "                                        ) \n",
    "                            )\n",
    "        #print(\"# sp = {0} # cdegs = {1}\".format(len(ls), concordant_degs.sum()))\n",
    "        c[n].append(concordant_degs.sum())\n",
    "df_cdegs = pd.DataFrame({ k:pd.Series(v) for k,v in c.items()})"
   ]
  },
  {
   "cell_type": "code",
   "execution_count": 29,
   "metadata": {
    "scrolled": true
   },
   "outputs": [
    {
     "data": {
      "text/html": [
       "<div>\n",
       "<style scoped>\n",
       "    .dataframe tbody tr th:only-of-type {\n",
       "        vertical-align: middle;\n",
       "    }\n",
       "\n",
       "    .dataframe tbody tr th {\n",
       "        vertical-align: top;\n",
       "    }\n",
       "\n",
       "    .dataframe thead th {\n",
       "        text-align: right;\n",
       "    }\n",
       "</style>\n",
       "<table border=\"1\" class=\"dataframe\">\n",
       "  <thead>\n",
       "    <tr style=\"text-align: right;\">\n",
       "      <th></th>\n",
       "      <th>1</th>\n",
       "      <th>2</th>\n",
       "      <th>3</th>\n",
       "      <th>4</th>\n",
       "      <th>5</th>\n",
       "      <th>6</th>\n",
       "      <th>7</th>\n",
       "    </tr>\n",
       "  </thead>\n",
       "  <tbody>\n",
       "    <tr>\n",
       "      <th>0</th>\n",
       "      <td>1050.0</td>\n",
       "      <td>386.0</td>\n",
       "      <td>11</td>\n",
       "      <td>2</td>\n",
       "      <td>2.0</td>\n",
       "      <td>1.0</td>\n",
       "      <td>1.0</td>\n",
       "    </tr>\n",
       "    <tr>\n",
       "      <th>1</th>\n",
       "      <td>2579.0</td>\n",
       "      <td>31.0</td>\n",
       "      <td>5</td>\n",
       "      <td>5</td>\n",
       "      <td>1.0</td>\n",
       "      <td>2.0</td>\n",
       "      <td>NaN</td>\n",
       "    </tr>\n",
       "    <tr>\n",
       "      <th>2</th>\n",
       "      <td>171.0</td>\n",
       "      <td>7.0</td>\n",
       "      <td>197</td>\n",
       "      <td>3</td>\n",
       "      <td>2.0</td>\n",
       "      <td>1.0</td>\n",
       "      <td>NaN</td>\n",
       "    </tr>\n",
       "    <tr>\n",
       "      <th>3</th>\n",
       "      <td>16.0</td>\n",
       "      <td>276.0</td>\n",
       "      <td>41</td>\n",
       "      <td>7</td>\n",
       "      <td>2.0</td>\n",
       "      <td>2.0</td>\n",
       "      <td>NaN</td>\n",
       "    </tr>\n",
       "    <tr>\n",
       "      <th>4</th>\n",
       "      <td>2270.0</td>\n",
       "      <td>88.0</td>\n",
       "      <td>249</td>\n",
       "      <td>2</td>\n",
       "      <td>4.0</td>\n",
       "      <td>1.0</td>\n",
       "      <td>NaN</td>\n",
       "    </tr>\n",
       "    <tr>\n",
       "      <th>5</th>\n",
       "      <td>363.0</td>\n",
       "      <td>542.0</td>\n",
       "      <td>2</td>\n",
       "      <td>2</td>\n",
       "      <td>2.0</td>\n",
       "      <td>1.0</td>\n",
       "      <td>NaN</td>\n",
       "    </tr>\n",
       "    <tr>\n",
       "      <th>6</th>\n",
       "      <td>1925.0</td>\n",
       "      <td>57.0</td>\n",
       "      <td>13</td>\n",
       "      <td>5</td>\n",
       "      <td>1.0</td>\n",
       "      <td>1.0</td>\n",
       "      <td>NaN</td>\n",
       "    </tr>\n",
       "    <tr>\n",
       "      <th>7</th>\n",
       "      <td>NaN</td>\n",
       "      <td>7.0</td>\n",
       "      <td>3</td>\n",
       "      <td>23</td>\n",
       "      <td>2.0</td>\n",
       "      <td>NaN</td>\n",
       "      <td>NaN</td>\n",
       "    </tr>\n",
       "    <tr>\n",
       "      <th>8</th>\n",
       "      <td>NaN</td>\n",
       "      <td>1346.0</td>\n",
       "      <td>18</td>\n",
       "      <td>130</td>\n",
       "      <td>2.0</td>\n",
       "      <td>NaN</td>\n",
       "      <td>NaN</td>\n",
       "    </tr>\n",
       "    <tr>\n",
       "      <th>9</th>\n",
       "      <td>NaN</td>\n",
       "      <td>123.0</td>\n",
       "      <td>2</td>\n",
       "      <td>32</td>\n",
       "      <td>18.0</td>\n",
       "      <td>NaN</td>\n",
       "      <td>NaN</td>\n",
       "    </tr>\n",
       "    <tr>\n",
       "      <th>10</th>\n",
       "      <td>NaN</td>\n",
       "      <td>787.0</td>\n",
       "      <td>2</td>\n",
       "      <td>2</td>\n",
       "      <td>1.0</td>\n",
       "      <td>NaN</td>\n",
       "      <td>NaN</td>\n",
       "    </tr>\n",
       "    <tr>\n",
       "      <th>11</th>\n",
       "      <td>NaN</td>\n",
       "      <td>2.0</td>\n",
       "      <td>6</td>\n",
       "      <td>1</td>\n",
       "      <td>2.0</td>\n",
       "      <td>NaN</td>\n",
       "      <td>NaN</td>\n",
       "    </tr>\n",
       "    <tr>\n",
       "      <th>12</th>\n",
       "      <td>NaN</td>\n",
       "      <td>58.0</td>\n",
       "      <td>33</td>\n",
       "      <td>2</td>\n",
       "      <td>1.0</td>\n",
       "      <td>NaN</td>\n",
       "      <td>NaN</td>\n",
       "    </tr>\n",
       "    <tr>\n",
       "      <th>13</th>\n",
       "      <td>NaN</td>\n",
       "      <td>12.0</td>\n",
       "      <td>175</td>\n",
       "      <td>2</td>\n",
       "      <td>2.0</td>\n",
       "      <td>NaN</td>\n",
       "      <td>NaN</td>\n",
       "    </tr>\n",
       "    <tr>\n",
       "      <th>14</th>\n",
       "      <td>NaN</td>\n",
       "      <td>52.0</td>\n",
       "      <td>62</td>\n",
       "      <td>9</td>\n",
       "      <td>1.0</td>\n",
       "      <td>NaN</td>\n",
       "      <td>NaN</td>\n",
       "    </tr>\n",
       "    <tr>\n",
       "      <th>15</th>\n",
       "      <td>NaN</td>\n",
       "      <td>2.0</td>\n",
       "      <td>2</td>\n",
       "      <td>2</td>\n",
       "      <td>1.0</td>\n",
       "      <td>NaN</td>\n",
       "      <td>NaN</td>\n",
       "    </tr>\n",
       "    <tr>\n",
       "      <th>16</th>\n",
       "      <td>NaN</td>\n",
       "      <td>2.0</td>\n",
       "      <td>38</td>\n",
       "      <td>1</td>\n",
       "      <td>2.0</td>\n",
       "      <td>NaN</td>\n",
       "      <td>NaN</td>\n",
       "    </tr>\n",
       "    <tr>\n",
       "      <th>17</th>\n",
       "      <td>NaN</td>\n",
       "      <td>7.0</td>\n",
       "      <td>7</td>\n",
       "      <td>2</td>\n",
       "      <td>1.0</td>\n",
       "      <td>NaN</td>\n",
       "      <td>NaN</td>\n",
       "    </tr>\n",
       "    <tr>\n",
       "      <th>18</th>\n",
       "      <td>NaN</td>\n",
       "      <td>105.0</td>\n",
       "      <td>25</td>\n",
       "      <td>2</td>\n",
       "      <td>5.0</td>\n",
       "      <td>NaN</td>\n",
       "      <td>NaN</td>\n",
       "    </tr>\n",
       "    <tr>\n",
       "      <th>19</th>\n",
       "      <td>NaN</td>\n",
       "      <td>606.0</td>\n",
       "      <td>2</td>\n",
       "      <td>27</td>\n",
       "      <td>1.0</td>\n",
       "      <td>NaN</td>\n",
       "      <td>NaN</td>\n",
       "    </tr>\n",
       "    <tr>\n",
       "      <th>20</th>\n",
       "      <td>NaN</td>\n",
       "      <td>149.0</td>\n",
       "      <td>2</td>\n",
       "      <td>2</td>\n",
       "      <td>1.0</td>\n",
       "      <td>NaN</td>\n",
       "      <td>NaN</td>\n",
       "    </tr>\n",
       "    <tr>\n",
       "      <th>21</th>\n",
       "      <td>NaN</td>\n",
       "      <td>NaN</td>\n",
       "      <td>5</td>\n",
       "      <td>1</td>\n",
       "      <td>NaN</td>\n",
       "      <td>NaN</td>\n",
       "      <td>NaN</td>\n",
       "    </tr>\n",
       "    <tr>\n",
       "      <th>22</th>\n",
       "      <td>NaN</td>\n",
       "      <td>NaN</td>\n",
       "      <td>63</td>\n",
       "      <td>2</td>\n",
       "      <td>NaN</td>\n",
       "      <td>NaN</td>\n",
       "      <td>NaN</td>\n",
       "    </tr>\n",
       "    <tr>\n",
       "      <th>23</th>\n",
       "      <td>NaN</td>\n",
       "      <td>NaN</td>\n",
       "      <td>449</td>\n",
       "      <td>5</td>\n",
       "      <td>NaN</td>\n",
       "      <td>NaN</td>\n",
       "      <td>NaN</td>\n",
       "    </tr>\n",
       "    <tr>\n",
       "      <th>24</th>\n",
       "      <td>NaN</td>\n",
       "      <td>NaN</td>\n",
       "      <td>76</td>\n",
       "      <td>17</td>\n",
       "      <td>NaN</td>\n",
       "      <td>NaN</td>\n",
       "      <td>NaN</td>\n",
       "    </tr>\n",
       "    <tr>\n",
       "      <th>25</th>\n",
       "      <td>NaN</td>\n",
       "      <td>NaN</td>\n",
       "      <td>2</td>\n",
       "      <td>5</td>\n",
       "      <td>NaN</td>\n",
       "      <td>NaN</td>\n",
       "      <td>NaN</td>\n",
       "    </tr>\n",
       "    <tr>\n",
       "      <th>26</th>\n",
       "      <td>NaN</td>\n",
       "      <td>NaN</td>\n",
       "      <td>1</td>\n",
       "      <td>1</td>\n",
       "      <td>NaN</td>\n",
       "      <td>NaN</td>\n",
       "      <td>NaN</td>\n",
       "    </tr>\n",
       "    <tr>\n",
       "      <th>27</th>\n",
       "      <td>NaN</td>\n",
       "      <td>NaN</td>\n",
       "      <td>2</td>\n",
       "      <td>2</td>\n",
       "      <td>NaN</td>\n",
       "      <td>NaN</td>\n",
       "      <td>NaN</td>\n",
       "    </tr>\n",
       "    <tr>\n",
       "      <th>28</th>\n",
       "      <td>NaN</td>\n",
       "      <td>NaN</td>\n",
       "      <td>6</td>\n",
       "      <td>2</td>\n",
       "      <td>NaN</td>\n",
       "      <td>NaN</td>\n",
       "      <td>NaN</td>\n",
       "    </tr>\n",
       "    <tr>\n",
       "      <th>29</th>\n",
       "      <td>NaN</td>\n",
       "      <td>NaN</td>\n",
       "      <td>26</td>\n",
       "      <td>44</td>\n",
       "      <td>NaN</td>\n",
       "      <td>NaN</td>\n",
       "      <td>NaN</td>\n",
       "    </tr>\n",
       "    <tr>\n",
       "      <th>30</th>\n",
       "      <td>NaN</td>\n",
       "      <td>NaN</td>\n",
       "      <td>7</td>\n",
       "      <td>1</td>\n",
       "      <td>NaN</td>\n",
       "      <td>NaN</td>\n",
       "      <td>NaN</td>\n",
       "    </tr>\n",
       "    <tr>\n",
       "      <th>31</th>\n",
       "      <td>NaN</td>\n",
       "      <td>NaN</td>\n",
       "      <td>1</td>\n",
       "      <td>2</td>\n",
       "      <td>NaN</td>\n",
       "      <td>NaN</td>\n",
       "      <td>NaN</td>\n",
       "    </tr>\n",
       "    <tr>\n",
       "      <th>32</th>\n",
       "      <td>NaN</td>\n",
       "      <td>NaN</td>\n",
       "      <td>2</td>\n",
       "      <td>1</td>\n",
       "      <td>NaN</td>\n",
       "      <td>NaN</td>\n",
       "      <td>NaN</td>\n",
       "    </tr>\n",
       "    <tr>\n",
       "      <th>33</th>\n",
       "      <td>NaN</td>\n",
       "      <td>NaN</td>\n",
       "      <td>2</td>\n",
       "      <td>6</td>\n",
       "      <td>NaN</td>\n",
       "      <td>NaN</td>\n",
       "      <td>NaN</td>\n",
       "    </tr>\n",
       "    <tr>\n",
       "      <th>34</th>\n",
       "      <td>NaN</td>\n",
       "      <td>NaN</td>\n",
       "      <td>62</td>\n",
       "      <td>1</td>\n",
       "      <td>NaN</td>\n",
       "      <td>NaN</td>\n",
       "      <td>NaN</td>\n",
       "    </tr>\n",
       "  </tbody>\n",
       "</table>\n",
       "</div>"
      ],
      "text/plain": [
       "         1       2    3    4     5    6    7\n",
       "0   1050.0   386.0   11    2   2.0  1.0  1.0\n",
       "1   2579.0    31.0    5    5   1.0  2.0  NaN\n",
       "2    171.0     7.0  197    3   2.0  1.0  NaN\n",
       "3     16.0   276.0   41    7   2.0  2.0  NaN\n",
       "4   2270.0    88.0  249    2   4.0  1.0  NaN\n",
       "5    363.0   542.0    2    2   2.0  1.0  NaN\n",
       "6   1925.0    57.0   13    5   1.0  1.0  NaN\n",
       "7      NaN     7.0    3   23   2.0  NaN  NaN\n",
       "8      NaN  1346.0   18  130   2.0  NaN  NaN\n",
       "9      NaN   123.0    2   32  18.0  NaN  NaN\n",
       "10     NaN   787.0    2    2   1.0  NaN  NaN\n",
       "11     NaN     2.0    6    1   2.0  NaN  NaN\n",
       "12     NaN    58.0   33    2   1.0  NaN  NaN\n",
       "13     NaN    12.0  175    2   2.0  NaN  NaN\n",
       "14     NaN    52.0   62    9   1.0  NaN  NaN\n",
       "15     NaN     2.0    2    2   1.0  NaN  NaN\n",
       "16     NaN     2.0   38    1   2.0  NaN  NaN\n",
       "17     NaN     7.0    7    2   1.0  NaN  NaN\n",
       "18     NaN   105.0   25    2   5.0  NaN  NaN\n",
       "19     NaN   606.0    2   27   1.0  NaN  NaN\n",
       "20     NaN   149.0    2    2   1.0  NaN  NaN\n",
       "21     NaN     NaN    5    1   NaN  NaN  NaN\n",
       "22     NaN     NaN   63    2   NaN  NaN  NaN\n",
       "23     NaN     NaN  449    5   NaN  NaN  NaN\n",
       "24     NaN     NaN   76   17   NaN  NaN  NaN\n",
       "25     NaN     NaN    2    5   NaN  NaN  NaN\n",
       "26     NaN     NaN    1    1   NaN  NaN  NaN\n",
       "27     NaN     NaN    2    2   NaN  NaN  NaN\n",
       "28     NaN     NaN    6    2   NaN  NaN  NaN\n",
       "29     NaN     NaN   26   44   NaN  NaN  NaN\n",
       "30     NaN     NaN    7    1   NaN  NaN  NaN\n",
       "31     NaN     NaN    1    2   NaN  NaN  NaN\n",
       "32     NaN     NaN    2    1   NaN  NaN  NaN\n",
       "33     NaN     NaN    2    6   NaN  NaN  NaN\n",
       "34     NaN     NaN   62    1   NaN  NaN  NaN"
      ]
     },
     "execution_count": 29,
     "metadata": {},
     "output_type": "execute_result"
    }
   ],
   "source": [
    "df_cdegs"
   ]
  },
  {
   "cell_type": "code",
   "execution_count": 30,
   "metadata": {
    "scrolled": true
   },
   "outputs": [
    {
     "data": {
      "image/png": "[encoded data removed]",
      "text/plain": [
       "<Figure size 720x432 with 1 Axes>"
      ]
     },
     "metadata": {},
     "output_type": "display_data"
    }
   ],
   "source": [
    "sns.set_style(\"whitegrid\")\n",
    "fig, ax = plt.subplots(figsize=(10,6))\n",
    "ax = sns.boxplot(data=df_cdegs, color=\"skyblue\", ax=ax)\n",
    "\n",
    "medians = df_cdegs.median().values\n",
    "median_labels = [str(x) for x in medians]\n",
    "\n",
    "pos = np.arange(len(medians)) \n",
    "for tick,label in zip(pos,ax.get_xticklabels()):\n",
    "    ax.text(pos[tick], \n",
    "            medians[tick] + 40, \n",
    "            median_labels[tick], \n",
    "            horizontalalignment='center', size=12, color='k', weight='semibold')\n",
    "    \n",
    "    \n",
    "plt.title(\"Number of DEGs concordant across all combinations of six ant species\")\n",
    "plt.xlabel(\"Number of species compared\")\n",
    "plt.ylabel(\"Number of concordant DEGs\")\n",
    "plt.xticks(size=14)\n",
    "plt.yticks(size=14)\n",
    "plt.savefig(\"concordant_degs_observed.png\")\n",
    "plt.show()"
   ]
  },
  {
   "cell_type": "markdown",
   "metadata": {},
   "source": [
    "### Calculate average concordance"
   ]
  },
  {
   "cell_type": "code",
   "execution_count": 31,
   "metadata": {},
   "outputs": [
    {
     "name": "stdout",
     "output_type": "stream",
     "text": [
      "4.75% of genes are concordant in all 7 species\n"
     ]
    }
   ],
   "source": [
    "lfc = [ sp + \"_log2FoldChange\" for sp in sp_short ]\n",
    "# convert log fold changes into the direction:\n",
    "df_direction = df_combined[lfc] / abs(df_combined[lfc])\n",
    "\n",
    "# count number of genes concordant across all spp:\n",
    "print(\"{:.2f}% of genes are concordant in all {:d} species\".format(\n",
    "            100 * (abs(df_direction.sum(axis=1)) == len(species)).sum() / len(df_direction),\n",
    "            len(species))\n",
    "     )"
   ]
  },
  {
   "cell_type": "code",
   "execution_count": 32,
   "metadata": {
    "scrolled": false
   },
   "outputs": [
    {
     "name": "stdout",
     "output_type": "stream",
     "text": [
      "Aech|Cpla 60.54%\n",
      "Aech|Dqua 52.41%\n",
      "Aech|Hsal 41.46%\n",
      "Aech|Orug 58.75%\n",
      "Aech|Obir 55.37%\n",
      "Aech|Sinv 66.42%\n",
      "Cpla|Dqua 54.38%\n",
      "Cpla|Hsal 36.95%\n",
      "Cpla|Orug 77.98%\n",
      "Cpla|Obir 56.94%\n",
      "Cpla|Sinv 59.13%\n",
      "Dqua|Hsal 52.95%\n",
      "Dqua|Orug 53.81%\n",
      "Dqua|Obir 50.82%\n",
      "Dqua|Sinv 53.06%\n",
      "Hsal|Orug 37.66%\n",
      "Hsal|Obir 49.27%\n",
      "Hsal|Sinv 46.01%\n",
      "Orug|Obir 56.84%\n",
      "Orug|Sinv 57.55%\n",
      "Obir|Sinv 60.63%\n",
      "54.24% average concordance between any two genes\n"
     ]
    }
   ],
   "source": [
    "conc_list = []\n",
    "for sp1,sp2 in combinations(lfc,2):\n",
    "    conc_list.append((abs(df_direction[[sp1,sp2]].sum(axis=1)) == 2).sum() / len(df_direction))\n",
    "    print(\"{}|{} {:.2f}%\".format(sp1[:4],sp2[:4],100*conc_list[-1]))\n",
    "print(\"{:.2f}% average concordance between any two genes\".format(np.mean(conc_list) * 100))"
   ]
  },
  {
   "cell_type": "markdown",
   "metadata": {},
   "source": [
    "## Generate heatmap of genes that are differentially expressed in any subset of five species\n",
    "To investigate the impact of individual species on the comparative analysis, we can systematically remove two species from our list of seven, and look at the resultant lists of concordant DEGs."
   ]
  },
  {
   "cell_type": "code",
   "execution_count": 33,
   "metadata": {},
   "outputs": [],
   "source": [
    "#set (adjusted) pvalue threshold\n",
    "pthresh = 0.05\n",
    "\n",
    "#set number of species [between 1 and 7]\n",
    "spnum = 5"
   ]
  },
  {
   "cell_type": "code",
   "execution_count": 34,
   "metadata": {},
   "outputs": [],
   "source": [
    "def filter_subset(s, spnum=5, pthresh=0.05):\n",
    "    \"\"\"\n",
    "    This function operates on a series of pvals and log fold changes (in \n",
    "    that order). It     finds all pvals less than the threshold, then \n",
    "    looks to see if there are     at least as many concordant genes as \n",
    "    in the subset number. If so, it returns true - ie, there are at \n",
    "    least spnum species concordant and signficantly differentially \n",
    "    expressed for this gene.\n",
    "    \"\"\"\n",
    "    mask = s[:7]<=0.05\n",
    "    mask.set_axis(lfc_cols, inplace=True)\n",
    "    num_upreg = (s[7:][mask]>0).sum()\n",
    "    num_downreg = (s[7:][mask]<0).sum()\n",
    "    \n",
    "    if num_downreg >= spnum or num_upreg >= spnum:  # can be concordant up or down\n",
    "        return True\n",
    "    else:\n",
    "        return False"
   ]
  },
  {
   "cell_type": "code",
   "execution_count": 35,
   "metadata": {},
   "outputs": [],
   "source": [
    "subset_mask = df_combined[pcols+lfc_cols].apply(filter_subset, args=(spnum,pthresh), axis=1)"
   ]
  },
  {
   "cell_type": "code",
   "execution_count": 36,
   "metadata": {},
   "outputs": [
    {
     "name": "stdout",
     "output_type": "stream",
     "text": [
      "There are 24 unique genes that are differentially expressed among subsets of 5 species\n"
     ]
    }
   ],
   "source": [
    "print(\"There are {} unique genes that are differentially expressed among subsets of {} species\".format(subset_mask.sum(), spnum)) "
   ]
  },
  {
   "cell_type": "code",
   "execution_count": 37,
   "metadata": {},
   "outputs": [
    {
     "data": {
      "image/png": "[encoded data removed]",
      "text/plain": [
       "<Figure size 576x720 with 4 Axes>"
      ]
     },
     "metadata": {},
     "output_type": "display_data"
    }
   ],
   "source": [
    "ax = sns.clustermap(df_combined[subset_mask][lfc_cols], \n",
    "                    figsize=(8,10), \n",
    "                    yticklabels=df_combined[subset_mask]['Obir'].values,\n",
    "                    xticklabels=species,\n",
    "                    cmap='RdBu',\n",
    "                    center=0,\n",
    "                   )"
   ]
  },
  {
   "cell_type": "code",
   "execution_count": 38,
   "metadata": {},
   "outputs": [
    {
     "data": {
      "text/html": [
       "<div>\n",
       "<style scoped>\n",
       "    .dataframe tbody tr th:only-of-type {\n",
       "        vertical-align: middle;\n",
       "    }\n",
       "\n",
       "    .dataframe tbody tr th {\n",
       "        vertical-align: top;\n",
       "    }\n",
       "\n",
       "    .dataframe thead th {\n",
       "        text-align: right;\n",
       "    }\n",
       "</style>\n",
       "<table border=\"1\" class=\"dataframe\">\n",
       "  <thead>\n",
       "    <tr style=\"text-align: right;\">\n",
       "      <th></th>\n",
       "      <th>Aech_padj</th>\n",
       "      <th>Cpla_padj</th>\n",
       "      <th>Dqua_padj</th>\n",
       "      <th>Hsal_padj</th>\n",
       "      <th>Orug_padj</th>\n",
       "      <th>Obir_padj</th>\n",
       "      <th>Sinv_padj</th>\n",
       "    </tr>\n",
       "  </thead>\n",
       "  <tbody>\n",
       "    <tr>\n",
       "      <th>2273</th>\n",
       "      <td>0.000185</td>\n",
       "      <td>0.040483</td>\n",
       "      <td>0.001509</td>\n",
       "      <td>0.947267</td>\n",
       "      <td>1.205808e-12</td>\n",
       "      <td>0.567974</td>\n",
       "      <td>8.383073e-07</td>\n",
       "    </tr>\n",
       "  </tbody>\n",
       "</table>\n",
       "</div>"
      ],
      "text/plain": [
       "      Aech_padj  Cpla_padj  Dqua_padj  Hsal_padj     Orug_padj  Obir_padj  \\\n",
       "2273   0.000185   0.040483   0.001509   0.947267  1.205808e-12   0.567974   \n",
       "\n",
       "         Sinv_padj  \n",
       "2273  8.383073e-07  "
      ]
     },
     "execution_count": 38,
     "metadata": {},
     "output_type": "execute_result"
    }
   ],
   "source": [
    "df_combined[df_combined.Obir == \"Obir|LOC105282526\"][pcols]"
   ]
  },
  {
   "cell_type": "code",
   "execution_count": null,
   "metadata": {},
   "outputs": [],
   "source": []
  }
 ],
 "metadata": {
  "kernelspec": {
   "display_name": "Python 3",
   "language": "python",
   "name": "python3"
  },
  "language_info": {
   "codemirror_mode": {
    "name": "ipython",
    "version": 3
   },
   "file_extension": ".py",
   "mimetype": "text/x-python",
   "name": "python",
   "nbconvert_exporter": "python",
   "pygments_lexer": "ipython3",
   "version": "3.6.2"
  }
 },
 "nbformat": 4,
 "nbformat_minor": 2
}
