{
 "cells": [
  {
   "cell_type": "markdown",
   "metadata": {},
   "source": [
    "# Pipeline to remove Camponotus planatus (Cpla) contamination from Odontomachus ruginodis (Orug) transcriptome\n",
    "This takes single gene phylogenies as input, along with the transcriptomes and other stuff"
   ]
  },
  {
   "cell_type": "markdown",
   "metadata": {},
   "source": [
    "## Table of Contents\n",
    "\n",
    "1. For ~3500 candidate genes that have >90% blast similarity to a gene in Cpla, find their peptide sequences (MAGOT), find their best hit in 11 other Apoidea (BLASTP), align (MAFFT), and build ML phylogenies (RAxML)\n",
    "2. Read in trees and analyse\n",
    "3. Construct dataframe with sequence and phylogenetic features\n",
    "4. Plots showing that these features indicate contamination\n",
    "5. Identify and remove contaminants from the transcriptome"
   ]
  },
  {
   "cell_type": "code",
   "execution_count": 2,
   "metadata": {},
   "outputs": [],
   "source": [
    "import itertools\n",
    "import os"
   ]
  },
  {
   "cell_type": "code",
   "execution_count": 3,
   "metadata": {},
   "outputs": [],
   "source": [
    "from Bio import SeqIO\n",
    "from ete3 import Tree"
   ]
  },
  {
   "cell_type": "code",
   "execution_count": 4,
   "metadata": {},
   "outputs": [],
   "source": [
    "import numpy as np\n",
    "import pandas as pd"
   ]
  },
  {
   "cell_type": "code",
   "execution_count": 12,
   "metadata": {},
   "outputs": [],
   "source": [
    "%matplotlib inline\n",
    "import matplotlib.pyplot as plt\n",
    "import seaborn as sns"
   ]
  },
  {
   "cell_type": "code",
   "execution_count": null,
   "metadata": {},
   "outputs": [],
   "source": []
  },
  {
   "cell_type": "markdown",
   "metadata": {},
   "source": [
    "## 1. For ~3500 candidate genes that have >90% blast similarity to a gene in Cpla, find their peptide sequences (MAGOT), find their best hit in 11 other Apoidea (BLASTP), align (MAFFT), and build ML phylogenies (RAxML)\n",
    "\n",
    "The best BLAST result for each of these resultant Orug candidate genes from a range of Hymenoptera was determined."
   ]
  },
  {
   "cell_type": "code",
   "execution_count": 15,
   "metadata": {},
   "outputs": [
    {
     "name": "stdout",
     "output_type": "stream",
     "text": [
      "3522\n"
     ]
    },
    {
     "data": {
      "text/html": [
       "<div>\n",
       "<style scoped>\n",
       "    .dataframe tbody tr th:only-of-type {\n",
       "        vertical-align: middle;\n",
       "    }\n",
       "\n",
       "    .dataframe tbody tr th {\n",
       "        vertical-align: top;\n",
       "    }\n",
       "\n",
       "    .dataframe thead th {\n",
       "        text-align: right;\n",
       "    }\n",
       "</style>\n",
       "<table border=\"1\" class=\"dataframe\">\n",
       "  <thead>\n",
       "    <tr style=\"text-align: right;\">\n",
       "      <th></th>\n",
       "      <th>0</th>\n",
       "    </tr>\n",
       "  </thead>\n",
       "  <tbody>\n",
       "    <tr>\n",
       "      <th>0</th>\n",
       "      <td>Orug|SGF62645</td>\n",
       "    </tr>\n",
       "    <tr>\n",
       "      <th>1</th>\n",
       "      <td>Orug|SGF62647</td>\n",
       "    </tr>\n",
       "    <tr>\n",
       "      <th>2</th>\n",
       "      <td>Orug|SGF62652</td>\n",
       "    </tr>\n",
       "    <tr>\n",
       "      <th>3</th>\n",
       "      <td>Orug|SGF62674</td>\n",
       "    </tr>\n",
       "    <tr>\n",
       "      <th>4</th>\n",
       "      <td>Orug|SGF62679</td>\n",
       "    </tr>\n",
       "  </tbody>\n",
       "</table>\n",
       "</div>"
      ],
      "text/plain": [
       "               0\n",
       "0  Orug|SGF62645\n",
       "1  Orug|SGF62647\n",
       "2  Orug|SGF62652\n",
       "3  Orug|SGF62674\n",
       "4  Orug|SGF62679"
      ]
     },
     "execution_count": 15,
     "metadata": {},
     "output_type": "execute_result"
    }
   ],
   "source": [
    "#Feed in list of candidate Orug sequences from which to identify contaminated genes. \n",
    "#This list contains 3522 genes that have >90% identity to their best blastp hit in Cpla\n",
    "s_Orug_candidates = pd.read_table('Orug_candidates.txt', header = None)\n",
    "print(len(s_Orug_candidates))\n",
    "s_Orug_candidates.head()"
   ]
  },
  {
   "cell_type": "code",
   "execution_count": 7,
   "metadata": {
    "collapsed": true
   },
   "outputs": [],
   "source": [
    "# create dictionary of blast results\n",
    "blast_cols = ['qseqid', 'sseqid', 'pident', 'length', 'mismatch', 'gapopen', 'qstart', 'qend', 'sstart', 'send', 'evalue', 'bitscore']\n",
    "sp_list = ['Aech', 'Amel', 'Bimp', 'Cpla', 'Cflo', 'Dqua', 'Hsal', 'Lnig', 'Mrot', 'Obir', 'Sinv']\n",
    "fp_list = [\"contam_Orug_vs_{}.bx\".format(x) for x in sp_list ]\n",
    "           \n",
    "sp_blast = { sp:pd.read_csv(os.path.join(\"contamination_assessment\",fp), \n",
    "                            header=None, \n",
    "                            names=blast_cols,\n",
    "                            sep='\\t',\n",
    "                           ) for sp,fp in zip(sp_list, fp_list)}"
   ]
  },
  {
   "cell_type": "code",
   "execution_count": 8,
   "metadata": {},
   "outputs": [
    {
     "data": {
      "text/html": [
       "<div>\n",
       "<style scoped>\n",
       "    .dataframe tbody tr th:only-of-type {\n",
       "        vertical-align: middle;\n",
       "    }\n",
       "\n",
       "    .dataframe tbody tr th {\n",
       "        vertical-align: top;\n",
       "    }\n",
       "\n",
       "    .dataframe thead th {\n",
       "        text-align: right;\n",
       "    }\n",
       "</style>\n",
       "<table border=\"1\" class=\"dataframe\">\n",
       "  <thead>\n",
       "    <tr style=\"text-align: right;\">\n",
       "      <th></th>\n",
       "      <th>qseqid</th>\n",
       "      <th>sseqid</th>\n",
       "      <th>pident</th>\n",
       "      <th>length</th>\n",
       "      <th>mismatch</th>\n",
       "      <th>gapopen</th>\n",
       "      <th>qstart</th>\n",
       "      <th>qend</th>\n",
       "      <th>sstart</th>\n",
       "      <th>send</th>\n",
       "      <th>evalue</th>\n",
       "      <th>bitscore</th>\n",
       "    </tr>\n",
       "  </thead>\n",
       "  <tbody>\n",
       "    <tr>\n",
       "      <th>0</th>\n",
       "      <td>Orug|SGF62645</td>\n",
       "      <td>Amel|LOC411540</td>\n",
       "      <td>98.08</td>\n",
       "      <td>104</td>\n",
       "      <td>2</td>\n",
       "      <td>0</td>\n",
       "      <td>1</td>\n",
       "      <td>104</td>\n",
       "      <td>517</td>\n",
       "      <td>620</td>\n",
       "      <td>8.000000e-67</td>\n",
       "      <td>215.0</td>\n",
       "    </tr>\n",
       "    <tr>\n",
       "      <th>1</th>\n",
       "      <td>Orug|SGF62647</td>\n",
       "      <td>Amel|LOC411273</td>\n",
       "      <td>32.43</td>\n",
       "      <td>37</td>\n",
       "      <td>25</td>\n",
       "      <td>0</td>\n",
       "      <td>47</td>\n",
       "      <td>83</td>\n",
       "      <td>199</td>\n",
       "      <td>235</td>\n",
       "      <td>3.000000e+00</td>\n",
       "      <td>26.9</td>\n",
       "    </tr>\n",
       "    <tr>\n",
       "      <th>2</th>\n",
       "      <td>Orug|SGF62652</td>\n",
       "      <td>Amel|LOC551967</td>\n",
       "      <td>87.42</td>\n",
       "      <td>310</td>\n",
       "      <td>38</td>\n",
       "      <td>1</td>\n",
       "      <td>1</td>\n",
       "      <td>310</td>\n",
       "      <td>1</td>\n",
       "      <td>309</td>\n",
       "      <td>0.000000e+00</td>\n",
       "      <td>571.0</td>\n",
       "    </tr>\n",
       "    <tr>\n",
       "      <th>3</th>\n",
       "      <td>Orug|SGF62674</td>\n",
       "      <td>Amel|Iscu</td>\n",
       "      <td>86.13</td>\n",
       "      <td>137</td>\n",
       "      <td>19</td>\n",
       "      <td>0</td>\n",
       "      <td>14</td>\n",
       "      <td>150</td>\n",
       "      <td>14</td>\n",
       "      <td>150</td>\n",
       "      <td>1.000000e-84</td>\n",
       "      <td>248.0</td>\n",
       "    </tr>\n",
       "    <tr>\n",
       "      <th>4</th>\n",
       "      <td>Orug|SGF62679</td>\n",
       "      <td>Amel|LKR</td>\n",
       "      <td>80.50</td>\n",
       "      <td>200</td>\n",
       "      <td>39</td>\n",
       "      <td>0</td>\n",
       "      <td>1</td>\n",
       "      <td>200</td>\n",
       "      <td>719</td>\n",
       "      <td>918</td>\n",
       "      <td>2.000000e-109</td>\n",
       "      <td>336.0</td>\n",
       "    </tr>\n",
       "  </tbody>\n",
       "</table>\n",
       "</div>"
      ],
      "text/plain": [
       "          qseqid          sseqid  pident  length  mismatch  gapopen  qstart  \\\n",
       "0  Orug|SGF62645  Amel|LOC411540   98.08     104         2        0       1   \n",
       "1  Orug|SGF62647  Amel|LOC411273   32.43      37        25        0      47   \n",
       "2  Orug|SGF62652  Amel|LOC551967   87.42     310        38        1       1   \n",
       "3  Orug|SGF62674       Amel|Iscu   86.13     137        19        0      14   \n",
       "4  Orug|SGF62679        Amel|LKR   80.50     200        39        0       1   \n",
       "\n",
       "   qend  sstart  send         evalue  bitscore  \n",
       "0   104     517   620   8.000000e-67     215.0  \n",
       "1    83     199   235   3.000000e+00      26.9  \n",
       "2   310       1   309   0.000000e+00     571.0  \n",
       "3   150      14   150   1.000000e-84     248.0  \n",
       "4   200     719   918  2.000000e-109     336.0  "
      ]
     },
     "execution_count": 8,
     "metadata": {},
     "output_type": "execute_result"
    }
   ],
   "source": [
    "sp_blast['Amel'].head()"
   ]
  },
  {
   "cell_type": "code",
   "execution_count": 9,
   "metadata": {},
   "outputs": [],
   "source": [
    "# get all genes with an evalue match < 0.01\n",
    "df_concat1 = pd.concat([sp_blast[sp][sp_blast[sp]['evalue'] < 0.01] for sp in sp_list], axis=0)"
   ]
  },
  {
   "cell_type": "code",
   "execution_count": 10,
   "metadata": {},
   "outputs": [],
   "source": [
    "df_orug_hits = df_concat1.pivot_table(values='sseqid', \n",
    "                                       index='qseqid', \n",
    "                                       aggfunc=lambda x: list(x)\n",
    "                                      )"
   ]
  },
  {
   "cell_type": "code",
   "execution_count": 13,
   "metadata": {},
   "outputs": [
    {
     "name": "stderr",
     "output_type": "stream",
     "text": [
      "/Users/vchandra/anaconda/envs/ilp/lib/python3.6/site-packages/matplotlib/axes/_axes.py:6462: UserWarning: The 'normed' kwarg is deprecated, and has been replaced by the 'density' kwarg.\n",
      "  warnings.warn(\"The 'normed' kwarg is deprecated, and has been \"\n"
     ]
    },
    {
     "data": {
      "image/png": "[encoded data removed]",
      "text/plain": [
       "<Figure size 432x288 with 1 Axes>"
      ]
     },
     "metadata": {},
     "output_type": "display_data"
    }
   ],
   "source": [
    "sns.distplot(df_orug_hits.sseqid.apply(lambda s: len(s)+1), kde=False, bins=13)\n",
    "plt.title(\"Number of good matches for {} Orug genes\".format(len(df_orug_hits)))\n",
    "plt.show()"
   ]
  },
  {
   "cell_type": "markdown",
   "metadata": {},
   "source": [
    "The above figure shows that most of the candidate contaminant genes have a good match from all of the reference genomes."
   ]
  },
  {
   "cell_type": "code",
   "execution_count": 12,
   "metadata": {
    "collapsed": true
   },
   "outputs": [],
   "source": [
    "#save lists of Orug orthologue groups; one group per file\n",
    "for ogene in df_orug_hits.index:\n",
    "    handle = open('Orug_gene_lists/{}.out'.format(ogene), 'w')\n",
    "    handle.write('\\n'.join(df_orug_hits.loc[ogene][0]))"
   ]
  },
  {
   "cell_type": "markdown",
   "metadata": {},
   "source": [
    "## Used mafft and raxml on the server to construct phylogenies for each of these orthologue groups (scripts attached below)"
   ]
  },
  {
   "cell_type": "markdown",
   "metadata": {},
   "source": [
    "### MAGOT Script\n",
    "This script takes each species' gene name, searches the corresponding peptidome and returns the peptide sequence for each gene. Install from https://github.com/biorover/MAGOT\n",
    "\n",
    "```\n",
    "#!/usr/bin/bash\n",
    "\n",
    "for SPECIES in Aech Bimp Amel Cflo Cpla Dqua Hsal Lnig Obir Orug Mrot Sinv; \n",
    "do \n",
    "    for i in $(cat ${SPECIES}_candidate_seqs.txt); \n",
    "    do \n",
    "\n",
    "        MAGOT get_seq_from_fasta '${SPECIES}.pep' $i True >> ${i}_seqs.fasta \n",
    "\n",
    "    done\n",
    "done\n",
    "```"
   ]
  },
  {
   "cell_type": "markdown",
   "metadata": {},
   "source": [
    "### MAFFT Script\n",
    "\n",
    "As input, this takes lists of sequences (one sequence from each of roughly 12 species' peptidomes), and performs a multiple sequence alignment. \n",
    "\n",
    "```\n",
    "#!/usr/bin/bash\n",
    "\n",
    "for i in $(ls 'Orug_candidates/Orug_sequences/'); do\n",
    "\n",
    "   mafft --localpair --thread 30 --maxiterate 1000 Orug_candidates/Orug_sequences/$i > $i.aligned\n",
    "\n",
    "done\n",
    "```"
   ]
  },
  {
   "cell_type": "markdown",
   "metadata": {},
   "source": [
    "### RAxML Script\n",
    "\n",
    "This takes multiple sequence alignments as input and generates maximum likelihood phylogenies for each alignment. \n",
    "\n",
    "```\n",
    "#!/usr/bin/bash\n",
    "\n",
    "for i in $(ls 'Orug_candidates/alignments/'); do\n",
    "\n",
    "    raxml -s Orug_candidates/alignments/$i -m PROTGAMMAJTT -p 6666 -T 30 -n $i.out \n",
    "\n",
    "done\n",
    "```"
   ]
  },
  {
   "cell_type": "markdown",
   "metadata": {},
   "source": [
    "## 2. Read in trees and analyse"
   ]
  },
  {
   "cell_type": "code",
   "execution_count": 14,
   "metadata": {},
   "outputs": [
    {
     "name": "stdout",
     "output_type": "stream",
     "text": [
      "3469\n"
     ]
    }
   ],
   "source": [
    "#list all phylogenies for Orug candidate genes in treelist\n",
    "treelist = []\n",
    "for file in os.listdir('contamination_assessment/Orug_trees/'):\n",
    "    if 'bestTree' in file:\n",
    "        treelist.append('contamination_assessment/Orug_trees/' + file)\n",
    "\n",
    "print(len(treelist))"
   ]
  },
  {
   "cell_type": "code",
   "execution_count": 14,
   "metadata": {
    "scrolled": true
   },
   "outputs": [
    {
     "name": "stdout",
     "output_type": "stream",
     "text": [
      "\n",
      "         /-Cbir|LOC105285907\n",
      "        |\n",
      "      /-|      /-Cpla|SGF56824\n",
      "     |  |   /-|\n",
      "     |  |  |   \\-Cflo|XP_011260747.1\n",
      "     |   \\-|\n",
      "   /-|     |   /-Orug|SGF66875\n",
      "  |  |      \\-|\n",
      "  |  |         \\-KMQ93665.1\n",
      "  |  |\n",
      "  |  |   /-Sinv|XP_011159147.1\n",
      "  |   \\-|\n",
      "  |     |   /-Dqua|LOC106746720\n",
      "  |      \\-|\n",
      "--|         \\-Hsal|LOC105187517\n",
      "  |\n",
      "  |   /-Mrot|XP_003706718.1\n",
      "  |--|\n",
      "  |  |   /-Bimp|XP_003487350.1\n",
      "  |   \\-|\n",
      "  |      \\-Amel|LOC408372\n",
      "  |\n",
      "   \\-Aech|XP_011062839.1\n",
      "\n",
      "   /-Sinv|XP_011169572.1\n",
      "  |\n",
      "  |      /-Cbir|LOC105275518\n",
      "  |     |\n",
      "  |   /-|   /-Dqua|LOC106742533\n",
      "  |  |  |  |\n",
      "  |  |   \\-|      /-Orug|SGF64046\n",
      "  |  |     |   /-|\n",
      "  |  |      \\-|   \\-Cpla|SGF48456\n",
      "  |--|        |\n",
      "  |  |         \\-Hsal|LOC105191572\n",
      "--|  |\n",
      "  |  |   /-KMQ96987.1\n",
      "  |  |  |\n",
      "  |  |  |         /-Bimp|XP_003488371.1\n",
      "  |   \\-|      /-|\n",
      "  |     |   /-|   \\-Mrot|XP_003706904.1\n",
      "  |     |  |  |\n",
      "  |      \\-|   \\-Amel|LOC550651\n",
      "  |        |\n",
      "  |         \\-Cflo|XP_011258337.1\n",
      "  |\n",
      "   \\-Aech|XP_011066661.1\n"
     ]
    }
   ],
   "source": [
    "#print examples of these phylogenies\n",
    "\n",
    "#note that genes beginning with 'KM' are from Lasius niger. All other species are \n",
    "#named following the four letter nomenclature: \n",
    "#first letter from the first letter of the genus, and the next three letters from the start of the species name\n",
    "\n",
    "for i in range(0, 2):\n",
    "    x = Tree(treelist[i])\n",
    "    print(x)"
   ]
  },
  {
   "cell_type": "code",
   "execution_count": 15,
   "metadata": {
    "collapsed": true,
    "scrolled": true
   },
   "outputs": [],
   "source": [
    "# for each tree in the list, ask whether Cpla is sister to Orug. \n",
    "# store names of possible contaminant sequences\n",
    "# store distances between Orug and Cpla in separate files; one for good trees and one for possible contaminants\n",
    "# plot distributions of these distances\n",
    "\n",
    "contaminants = {}\n",
    "good_genes = {}\n",
    "s_clade = {}\n",
    "bee_tree_errors = []\n",
    "no_bees = []\n",
    "weird_bees = []\n",
    "s_clade_errors = []\n",
    "bee_seq_errors = []\n",
    "scl1 = 0\n",
    "nobiroi = []\n",
    "fail = []\n",
    "sis_clade_fail = []\n",
    "\n",
    "\n",
    "for tree in treelist:\n",
    "    Cpla = ''\n",
    "    Orug = ''\n",
    "    Cflo = ''\n",
    "    Lnig = ''\n",
    "    Hsal = ''\n",
    "    Dqua = ''\n",
    "    Mrot = ''\n",
    "    Amel = ''\n",
    "    Bimp = ''\n",
    "    x = ''\n",
    "    sis_clade = ''\n",
    "    bee_ancestor = []\n",
    "    bad = False\n",
    "\n",
    "    intree = Tree(tree)\n",
    "    for leaf in intree: \n",
    "        if 'Mrot' in leaf.name:\n",
    "            Mrot = leaf.name\n",
    "        elif 'Amel' in leaf.name:\n",
    "            Amel = leaf.name\n",
    "        elif 'Bimp' in leaf.name:\n",
    "            Bimp = leaf.name\n",
    "        elif 'Cbir' in leaf.name:\n",
    "            Obir = leaf.name\n",
    "    \n",
    "    #find bees\n",
    "    nbees = []\n",
    "    for i in [Mrot, Amel, Bimp]:\n",
    "        if i != '':\n",
    "            nbees.append(i)\n",
    "    \n",
    "    #find ancestor of all bees\n",
    "    try:\n",
    "        if len(nbees) > 1:\n",
    "            bee_ancestor = intree.get_common_ancestor(nbees)\n",
    "        elif len(nbees) == 1:\n",
    "            bee_ancestor = [nbees[0]]\n",
    "        else:\n",
    "            no_bees.append(tree)\n",
    "    except:\n",
    "        bee_seq_errors.append(tree)\n",
    "        continue\n",
    "    \n",
    "    #reroot tree on ancestral bee (allow bee clade to contain up to one non-bee and if not, try rooting on any one bee. \n",
    "    # If this also fails, try rooting on biroi. Catch exceptions in nobiroi and go to next tree)\n",
    "    if len(bee_ancestor) <= 4 and len(bee_ancestor) > 1:\n",
    "        intree.set_outgroup(bee_ancestor)\n",
    "    elif len(bee_ancestor) > 4 or len(bee_ancestor) == 1:\n",
    "        intree.set_outgroup(nbees[0])\n",
    "        weird_bees.append(tree)\n",
    "    elif len(bee_ancestor) == 0:\n",
    "        try:\n",
    "            intree.set_outgroup(Obir)\n",
    "        except:\n",
    "            nobiroi.append(tree)\n",
    "            bad = True\n",
    "    \n",
    "    if not bad:\n",
    "        for leaf in intree:\n",
    "            if 'Cpla' in leaf.name:\n",
    "                Cpla = leaf.name\n",
    "            elif 'Orug' in leaf.name:\n",
    "                Orug = leaf.name\n",
    "            elif 'Hsal' in leaf.name:\n",
    "                Hsal = leaf.name\n",
    "            elif 'KM' in leaf.name:\n",
    "                Lnig = leaf.name\n",
    "            elif 'Dqua' in leaf.name:\n",
    "                Dqua = leaf.name\n",
    "            elif 'Cflo' in leaf.name:\n",
    "                Cflo = leaf.name\n",
    "                \n",
    "                \n",
    "\n",
    "        if len(Cpla) > 0: \n",
    "            x = str(tree)\n",
    "            x = x.split('.')\n",
    "            x = x[1]\n",
    "            cont_check = intree.get_common_ancestor(Cpla, Orug)\n",
    "            if len(cont_check) == 2:\n",
    "                contaminants[x] = intree.get_distance(Cpla, Orug)\n",
    "            elif len(cont_check) > 2:\n",
    "                good_genes[x] = intree.get_distance(Cpla, Orug)\n",
    "            sis_clade = cont_check.get_sisters()\n",
    "            \n",
    "            if sis_clade != '':\n",
    "                if Lnig != '' and Cflo != '' and Dqua != '' and Hsal != '':\n",
    "                    Hmrca = intree.get_common_ancestor(cont_check, Hsal)\n",
    "                    Dmrca = intree.get_common_ancestor(cont_check, Dqua)\n",
    "                    Cmrca = intree.get_common_ancestor(cont_check, Cflo)\n",
    "                    Lmrca = intree.get_common_ancestor(cont_check, Lnig)\n",
    "                    Pav = min(len(Hmrca), len(Dmrca))\n",
    "                    Fav = min(len(Cmrca), len(Lmrca))\n",
    "                \n",
    "                    #check if Orug is in ponerine or formicine clade\n",
    "                    if len(sis_clade) == 1:\n",
    "                        if Pav > Fav:\n",
    "                            s_clade[x] = 'F'\n",
    "                        elif Pav < Fav:\n",
    "                            s_clade[x] = 'P'\n",
    "                        else:\n",
    "                            if len(cont_check) == 2:\n",
    "                                s_clade[x] = 'both'\n",
    "                                sis_clade_fail.append(tree)\n",
    "                        scl1 += 1\n",
    "                else: \n",
    "                    s_clade_errors.append(x)    \n",
    "                \n",
    "            \n",
    "    else: \n",
    "        fail.append(tree)\n",
    "    \n"
   ]
  },
  {
   "cell_type": "code",
   "execution_count": 16,
   "metadata": {},
   "outputs": [
    {
     "name": "stdout",
     "output_type": "stream",
     "text": [
      "3184\n",
      "10\n"
     ]
    },
    {
     "data": {
      "text/plain": [
       "Trees with no bees and no O. biroi sequences:        5\n",
       "failures:                                            5\n",
       "Trees with no bees:                                 43\n",
       "Possible contaminants:                             522\n",
       "Good genes:                                       2940\n",
       "Successful classification of clade:                805\n",
       "Bee sequence errors:                                 0\n",
       "Bee tree errors:                                     0\n",
       "Weird bees:                                        330\n",
       "Clade classification errors:                       253\n",
       "dtype: object"
      ]
     },
     "execution_count": 16,
     "metadata": {},
     "output_type": "execute_result"
    }
   ],
   "source": [
    "df_results = pd.Series({'Trees with no bees and no O. biroi sequences: ' : str(len(nobiroi)),\n",
    "                        'failures: ' : str(len(fail)),\n",
    "                        'Trees with no bees: ' : str(len(no_bees)),\n",
    "                        'Possible contaminants: ' : str(len(contaminants)),\n",
    "                        'Good genes: ' : str(len(good_genes)),\n",
    "                        'Successful classification of clade: ' : str(len(s_clade)),\n",
    "                        'Bee sequence errors: ' : str(len(bee_seq_errors)),\n",
    "                        'Bee tree errors: ' : str(len(bee_tree_errors)),\n",
    "                        'Weird bees: ' : str(len(weird_bees)),\n",
    "                        'Clade classification errors: ' : str(len(s_clade_errors)),\n",
    "                       })\n",
    "\n",
    "print(scl1)\n",
    "print(len(sis_clade_fail))\n",
    "df_results"
   ]
  },
  {
   "cell_type": "code",
   "execution_count": 17,
   "metadata": {
    "collapsed": true
   },
   "outputs": [],
   "source": [
    "#define true species tree\n",
    "truetree = Tree(\"(((Dqua,(Orug, Hsal)),(Obir,((Lnig,(Cflo, Cpla)),(Aech, Sinv)))),(Mrot, (Amel, Bimp)));\")\n",
    "\n",
    "#make dictionary with Robinson-Foulds distances between each tree and the true species tree\n",
    "\n",
    "rfs = {}\n",
    "bee_tree_errors2 = []\n",
    "bee_seq_errors2 = []\n",
    "\n",
    "for tree in treelist:\n",
    "    Cpla = []\n",
    "    Orug = []\n",
    "    Cflo = []\n",
    "    Lnig = []\n",
    "    Hsal = []\n",
    "    Dqua = []\n",
    "    Obir = []\n",
    "    Amel = []\n",
    "    Mrot = []\n",
    "    Bimp = []\n",
    "    Sinv = []\n",
    "    Aech = []\n",
    "\n",
    "    intree = Tree(tree)\n",
    "    for leaf in intree: \n",
    "        if 'Mrot' in leaf.name:\n",
    "            Mrot = leaf.name\n",
    "        elif 'Amel' in leaf.name:\n",
    "            Amel = leaf.name\n",
    "        elif 'Bimp' in leaf.name:\n",
    "            Bimp = leaf.name\n",
    "        elif 'Orug' in leaf.name:\n",
    "            Orug = leaf.name\n",
    "   \n",
    "    nbees = []\n",
    "    for i in [Mrot, Amel, Bimp]:\n",
    "        if i != '':\n",
    "            nbees.append(i)\n",
    "    \n",
    "    try:\n",
    "        bee_ancestor = intree.get_common_ancestor(nbees)\n",
    "    except:\n",
    "        bee_seq_errors2.append(tree)\n",
    "        continue\n",
    "        \n",
    "    if len(bee_ancestor) <= 4 and len(bee_ancestor) > 0:\n",
    "        intree.set_outgroup(bee_ancestor)\n",
    "    else:\n",
    "        bee_tree_errors2.append(tree)\n",
    "    \n",
    "    if len(bee_ancestor) <= 4 and len(bee_ancestor) > 0:\n",
    "        for leaf in intree:\n",
    "            if 'Cpla' in leaf.name:\n",
    "                leaf.name = 'Cpla'\n",
    "            elif 'Orug' in leaf.name:\n",
    "                leaf.name = 'Orug'\n",
    "            elif 'Hsal' in leaf.name:\n",
    "                leaf.name = 'Hsal'\n",
    "            elif 'KM' in leaf.name:\n",
    "                leaf.name = 'Lnig'\n",
    "            elif 'Dqua' in leaf.name:\n",
    "                leaf.name = 'Dqua'\n",
    "            elif 'Cflo' in leaf.name:\n",
    "                leaf.name = 'Cflo'\n",
    "            elif 'Cbir' in leaf.name:\n",
    "                leaf.name = 'Obir'\n",
    "            elif 'Aech' in leaf.name:\n",
    "                leaf.name = 'Aech'\n",
    "            elif 'Sinv' in leaf.name:\n",
    "                leaf.name = 'Sinv'\n",
    "            elif 'Amel' in leaf.name:\n",
    "                leaf.name = 'Amel'\n",
    "            elif 'Bimp' in leaf.name:\n",
    "                leaf.name = 'Bimp'\n",
    "            elif 'Mrot' in leaf.name:\n",
    "                leaf.name = 'Mrot'\n",
    "        \n",
    "        a = truetree.robinson_foulds(intree)\n",
    "        normrf = float(a[0])/float(a[1])\n",
    "        rfs[Orug] = float(normrf)"
   ]
  },
  {
   "cell_type": "code",
   "execution_count": 18,
   "metadata": {},
   "outputs": [
    {
     "name": "stdout",
     "output_type": "stream",
     "text": [
      "2993\n"
     ]
    }
   ],
   "source": [
    "print(len(rfs))"
   ]
  },
  {
   "cell_type": "code",
   "execution_count": 19,
   "metadata": {},
   "outputs": [
    {
     "data": {
      "image/png": "[encoded data removed]",
      "text/plain": [
       "<Figure size 432x288 with 1 Axes>"
      ]
     },
     "metadata": {},
     "output_type": "display_data"
    }
   ],
   "source": [
    "#plot tree distance for good sequences and potential contaminants (i.e. dodgy sequences)\n",
    "sns.set_style('ticks')\n",
    "\n",
    "lgd = [np.log2(x) for x in good_genes.values()]    \n",
    "lbd = [np.log2(x) for x in contaminants.values()]    \n",
    "\n",
    "aa = sns.violinplot(data=[lgd, lbd], scale='area', inner='point')\n",
    "aa.set(ylabel = 'log10 Orug-Cpla genetic distance')\n",
    "aa.set_xticklabels(['Good sequences', 'Dodgy sequences'])\n",
    "\n",
    "plt.show()"
   ]
  },
  {
   "cell_type": "markdown",
   "metadata": {},
   "source": [
    "## 3. Construct dataframe with sequence and phylogenetic features"
   ]
  },
  {
   "cell_type": "code",
   "execution_count": 21,
   "metadata": {
    "collapsed": true
   },
   "outputs": [],
   "source": [
    "#read in outputs for blastp of Orug against Cpla and two formicines\n",
    "Orug_vs_Cpla = pd.read_csv(\"contamination_assessment/Orug_vs_Cpla.txt\", header = None, sep='\\t', names=blast_cols)\n",
    "Orug_vs_Lnig = pd.read_table(\"contamination_assessment/Orug_vs_Lnig.bx\", header = None, sep='\\t', names=blast_cols)\n",
    "Orug_vs_Cflo = pd.read_table(\"contamination_assessment/Orug_vs_Cflo.bx\", header = None, sep='\\t', names=blast_cols)"
   ]
  },
  {
   "cell_type": "code",
   "execution_count": 22,
   "metadata": {},
   "outputs": [
    {
     "data": {
      "text/html": [
       "<div>\n",
       "<style scoped>\n",
       "    .dataframe tbody tr th:only-of-type {\n",
       "        vertical-align: middle;\n",
       "    }\n",
       "\n",
       "    .dataframe tbody tr th {\n",
       "        vertical-align: top;\n",
       "    }\n",
       "\n",
       "    .dataframe thead th {\n",
       "        text-align: right;\n",
       "    }\n",
       "</style>\n",
       "<table border=\"1\" class=\"dataframe\">\n",
       "  <thead>\n",
       "    <tr style=\"text-align: right;\">\n",
       "      <th></th>\n",
       "      <th>qseqid</th>\n",
       "      <th>sseqid</th>\n",
       "      <th>pident</th>\n",
       "      <th>length</th>\n",
       "      <th>mismatch</th>\n",
       "      <th>gapopen</th>\n",
       "      <th>qstart</th>\n",
       "      <th>qend</th>\n",
       "      <th>sstart</th>\n",
       "      <th>send</th>\n",
       "      <th>evalue</th>\n",
       "      <th>bitscore</th>\n",
       "    </tr>\n",
       "  </thead>\n",
       "  <tbody>\n",
       "    <tr>\n",
       "      <th>0</th>\n",
       "      <td>Orug|SGF62645</td>\n",
       "      <td>Cpla|SGF49990</td>\n",
       "      <td>100.00</td>\n",
       "      <td>104</td>\n",
       "      <td>0</td>\n",
       "      <td>0</td>\n",
       "      <td>1</td>\n",
       "      <td>104</td>\n",
       "      <td>517</td>\n",
       "      <td>620</td>\n",
       "      <td>5.000000e-68</td>\n",
       "      <td>219.0</td>\n",
       "    </tr>\n",
       "    <tr>\n",
       "      <th>1</th>\n",
       "      <td>Orug|SGF62647</td>\n",
       "      <td>Cpla|SGF48983</td>\n",
       "      <td>100.00</td>\n",
       "      <td>15</td>\n",
       "      <td>0</td>\n",
       "      <td>0</td>\n",
       "      <td>105</td>\n",
       "      <td>119</td>\n",
       "      <td>22</td>\n",
       "      <td>36</td>\n",
       "      <td>2.000000e-03</td>\n",
       "      <td>35.0</td>\n",
       "    </tr>\n",
       "    <tr>\n",
       "      <th>2</th>\n",
       "      <td>Orug|SGF62648</td>\n",
       "      <td>Cpla|SGF59801</td>\n",
       "      <td>86.18</td>\n",
       "      <td>340</td>\n",
       "      <td>13</td>\n",
       "      <td>3</td>\n",
       "      <td>1</td>\n",
       "      <td>308</td>\n",
       "      <td>23</td>\n",
       "      <td>360</td>\n",
       "      <td>0.000000e+00</td>\n",
       "      <td>545.0</td>\n",
       "    </tr>\n",
       "    <tr>\n",
       "      <th>3</th>\n",
       "      <td>Orug|SGF62649</td>\n",
       "      <td>Cpla|SGF51865</td>\n",
       "      <td>29.41</td>\n",
       "      <td>68</td>\n",
       "      <td>42</td>\n",
       "      <td>1</td>\n",
       "      <td>48</td>\n",
       "      <td>115</td>\n",
       "      <td>96</td>\n",
       "      <td>157</td>\n",
       "      <td>4.700000e+00</td>\n",
       "      <td>25.8</td>\n",
       "    </tr>\n",
       "    <tr>\n",
       "      <th>4</th>\n",
       "      <td>Orug|SGF65438</td>\n",
       "      <td>Cpla|SGF57541</td>\n",
       "      <td>27.63</td>\n",
       "      <td>76</td>\n",
       "      <td>55</td>\n",
       "      <td>0</td>\n",
       "      <td>45</td>\n",
       "      <td>120</td>\n",
       "      <td>2964</td>\n",
       "      <td>3039</td>\n",
       "      <td>2.100000e+00</td>\n",
       "      <td>27.3</td>\n",
       "    </tr>\n",
       "  </tbody>\n",
       "</table>\n",
       "</div>"
      ],
      "text/plain": [
       "          qseqid         sseqid  pident  length  mismatch  gapopen  qstart  \\\n",
       "0  Orug|SGF62645  Cpla|SGF49990  100.00     104         0        0       1   \n",
       "1  Orug|SGF62647  Cpla|SGF48983  100.00      15         0        0     105   \n",
       "2  Orug|SGF62648  Cpla|SGF59801   86.18     340        13        3       1   \n",
       "3  Orug|SGF62649  Cpla|SGF51865   29.41      68        42        1      48   \n",
       "4  Orug|SGF65438  Cpla|SGF57541   27.63      76        55        0      45   \n",
       "\n",
       "   qend  sstart  send        evalue  bitscore  \n",
       "0   104     517   620  5.000000e-68     219.0  \n",
       "1   119      22    36  2.000000e-03      35.0  \n",
       "2   308      23   360  0.000000e+00     545.0  \n",
       "3   115      96   157  4.700000e+00      25.8  \n",
       "4   120    2964  3039  2.100000e+00      27.3  "
      ]
     },
     "execution_count": 22,
     "metadata": {},
     "output_type": "execute_result"
    }
   ],
   "source": [
    "Orug_vs_Cpla.head()"
   ]
  },
  {
   "cell_type": "code",
   "execution_count": 23,
   "metadata": {},
   "outputs": [
    {
     "data": {
      "text/html": [
       "<div>\n",
       "<style scoped>\n",
       "    .dataframe tbody tr th:only-of-type {\n",
       "        vertical-align: middle;\n",
       "    }\n",
       "\n",
       "    .dataframe tbody tr th {\n",
       "        vertical-align: top;\n",
       "    }\n",
       "\n",
       "    .dataframe thead th {\n",
       "        text-align: right;\n",
       "    }\n",
       "</style>\n",
       "<table border=\"1\" class=\"dataframe\">\n",
       "  <thead>\n",
       "    <tr style=\"text-align: right;\">\n",
       "      <th></th>\n",
       "      <th>baseMean</th>\n",
       "      <th>log2FoldChange</th>\n",
       "      <th>lfcSE</th>\n",
       "      <th>stat</th>\n",
       "      <th>pvalue</th>\n",
       "      <th>padj</th>\n",
       "    </tr>\n",
       "  </thead>\n",
       "  <tbody>\n",
       "    <tr>\n",
       "      <th>Orug|SGF82787</th>\n",
       "      <td>2400.887711</td>\n",
       "      <td>-2.557067</td>\n",
       "      <td>0.168923</td>\n",
       "      <td>-15.137451</td>\n",
       "      <td>9.169985e-52</td>\n",
       "      <td>1.387602e-47</td>\n",
       "    </tr>\n",
       "    <tr>\n",
       "      <th>Orug|SGF63944</th>\n",
       "      <td>600.445549</td>\n",
       "      <td>-3.010519</td>\n",
       "      <td>0.215700</td>\n",
       "      <td>-13.956944</td>\n",
       "      <td>2.854124e-44</td>\n",
       "      <td>2.159430e-40</td>\n",
       "    </tr>\n",
       "    <tr>\n",
       "      <th>Orug|SGF61220</th>\n",
       "      <td>2092.490625</td>\n",
       "      <td>-2.957865</td>\n",
       "      <td>0.213546</td>\n",
       "      <td>-13.851192</td>\n",
       "      <td>1.251180e-43</td>\n",
       "      <td>6.310950e-40</td>\n",
       "    </tr>\n",
       "    <tr>\n",
       "      <th>Orug|SGF64259</th>\n",
       "      <td>761.007066</td>\n",
       "      <td>-3.751297</td>\n",
       "      <td>0.274955</td>\n",
       "      <td>-13.643294</td>\n",
       "      <td>2.213327e-42</td>\n",
       "      <td>8.373017e-39</td>\n",
       "    </tr>\n",
       "    <tr>\n",
       "      <th>Orug|SGF68061</th>\n",
       "      <td>194.643827</td>\n",
       "      <td>-2.377130</td>\n",
       "      <td>0.175826</td>\n",
       "      <td>-13.519819</td>\n",
       "      <td>1.194690e-41</td>\n",
       "      <td>3.031041e-38</td>\n",
       "    </tr>\n",
       "  </tbody>\n",
       "</table>\n",
       "</div>"
      ],
      "text/plain": [
       "                  baseMean  log2FoldChange     lfcSE       stat        pvalue  \\\n",
       "Orug|SGF82787  2400.887711       -2.557067  0.168923 -15.137451  9.169985e-52   \n",
       "Orug|SGF63944   600.445549       -3.010519  0.215700 -13.956944  2.854124e-44   \n",
       "Orug|SGF61220  2092.490625       -2.957865  0.213546 -13.851192  1.251180e-43   \n",
       "Orug|SGF64259   761.007066       -3.751297  0.274955 -13.643294  2.213327e-42   \n",
       "Orug|SGF68061   194.643827       -2.377130  0.175826 -13.519819  1.194690e-41   \n",
       "\n",
       "                       padj  \n",
       "Orug|SGF82787  1.387602e-47  \n",
       "Orug|SGF63944  2.159430e-40  \n",
       "Orug|SGF61220  6.310950e-40  \n",
       "Orug|SGF64259  8.373017e-39  \n",
       "Orug|SGF68061  3.031041e-38  "
      ]
     },
     "execution_count": 23,
     "metadata": {},
     "output_type": "execute_result"
    }
   ],
   "source": [
    "colnames = ['baseMean', 'log2FoldChange', 'lfcSE', 'stat', 'pvalue', 'padj']\n",
    "Cpla_deseq = pd.read_csv(\"contamination_assessment/Camp_planatus.genes.QW.pvalues.nohed.out\", \n",
    "                         sep = ' ', header=None,\n",
    "                         names=colnames,\n",
    "                        )\n",
    "\n",
    "Orug_deseq = pd.read_csv(\"contamination_assessment/Odontomachus.genes.QW.pvalues.nohed.out\", \n",
    "                         sep = ' ', header=None,\n",
    "                         names=colnames,\n",
    "                        )\n",
    "Orug_deseq.head()"
   ]
  },
  {
   "cell_type": "markdown",
   "metadata": {},
   "source": [
    "### Create new table"
   ]
  },
  {
   "cell_type": "code",
   "execution_count": 24,
   "metadata": {},
   "outputs": [],
   "source": [
    "df_genes = pd.DataFrame({'Orug_genes':s_Orug_candidates})"
   ]
  },
  {
   "cell_type": "code",
   "execution_count": 25,
   "metadata": {},
   "outputs": [],
   "source": [
    "# join the Cpla blast values to the dataframe\n",
    "df_genes = pd.merge(left=df_genes, right=Orug_vs_Cpla[['qseqid', 'sseqid','pident']], \n",
    "                     left_on='Orug_genes', right_on='qseqid', \n",
    "                     how='left'\n",
    "                   )"
   ]
  },
  {
   "cell_type": "code",
   "execution_count": 26,
   "metadata": {
    "collapsed": true
   },
   "outputs": [],
   "source": [
    "# find lengths of each peptide sequence in the Orug and Cpla transcriptomes; save in dictionaries\n",
    "Cpla_records = list(SeqIO.parse('contamination_assessment/Cpla_trinity.pep', 'fasta'))\n",
    "Orug_records = list(SeqIO.parse('contamination_assessment/Orug_trinity.pep', 'fasta'))\n",
    "\n",
    "s_Cpla_txome = pd.Series({str(record.name):str(record.seq) for record in Cpla_records}, name='Cpla_length')\n",
    "s_Orug_txome = pd.Series({str(record.name):str(record.seq) for record in Orug_records}, name='Orug_length')"
   ]
  },
  {
   "cell_type": "code",
   "execution_count": 27,
   "metadata": {},
   "outputs": [],
   "source": [
    "# append gene lengths\n",
    "df_genes = df_genes.join(s_Cpla_txome.apply(len), on=\"sseqid\")\n",
    "df_genes = df_genes.join(s_Orug_txome.apply(len), on=\"qseqid\")"
   ]
  },
  {
   "cell_type": "code",
   "execution_count": 28,
   "metadata": {},
   "outputs": [],
   "source": [
    "# join the Cflo, Lnig blast values to the dataframe\n",
    "df = Orug_vs_Cflo[['qseqid','pident']].rename({'pident':'pident_vs_Cflo'},axis=1)\n",
    "df_genes = pd.merge(left=df_genes, right=df, \n",
    "                     left_on='qseqid', right_on='qseqid', \n",
    "                     how='left'\n",
    "                   )\n",
    "\n",
    "df = Orug_vs_Lnig[['qseqid','pident']].rename({'pident':'pident_vs_Lnig'},axis=1)\n",
    "df_genes = pd.merge(left=df_genes, right=df, \n",
    "                     left_on='qseqid', right_on='qseqid', \n",
    "                     how='left'\n",
    "                   )\n"
   ]
  },
  {
   "cell_type": "code",
   "execution_count": 29,
   "metadata": {},
   "outputs": [],
   "source": [
    "# add mean expression of Cpla and Orug\n",
    "for df,sp,col in zip([Cpla_deseq, Orug_deseq], [\"Cpla\", \"Orug\"], ['sseqid', 'qseqid']):\n",
    "    df_genes = pd.merge(left=df_genes, right=df[['baseMean']], \n",
    "                         left_on=col, right_index=True, \n",
    "                         how='left'\n",
    "                       ).rename({\"baseMean\":'{}_expressionlevel'.format(sp)}, axis=1)"
   ]
  },
  {
   "cell_type": "code",
   "execution_count": 30,
   "metadata": {},
   "outputs": [
    {
     "name": "stdout",
     "output_type": "stream",
     "text": [
      "0 overlap in contaminant and good gene lists.\n"
     ]
    },
    {
     "name": "stderr",
     "output_type": "stream",
     "text": [
      "/Users/vchandra/anaconda/envs/ilp/lib/python3.6/site-packages/ipykernel_launcher.py:14: FutureWarning: Sorting because non-concatenation axis is not aligned. A future version\n",
      "of pandas will change to not sort by default.\n",
      "\n",
      "To accept the future behavior, pass 'sort=True'.\n",
      "\n",
      "To retain the current behavior and silence the warning, pass sort=False\n",
      "\n",
      "  \n"
     ]
    },
    {
     "data": {
      "text/html": [
       "<div>\n",
       "<style scoped>\n",
       "    .dataframe tbody tr th:only-of-type {\n",
       "        vertical-align: middle;\n",
       "    }\n",
       "\n",
       "    .dataframe tbody tr th {\n",
       "        vertical-align: top;\n",
       "    }\n",
       "\n",
       "    .dataframe thead th {\n",
       "        text-align: right;\n",
       "    }\n",
       "</style>\n",
       "<table border=\"1\" class=\"dataframe\">\n",
       "  <thead>\n",
       "    <tr style=\"text-align: right;\">\n",
       "      <th></th>\n",
       "      <th>class</th>\n",
       "      <th>contaminated</th>\n",
       "      <th>genetic_distance</th>\n",
       "    </tr>\n",
       "  </thead>\n",
       "  <tbody>\n",
       "    <tr>\n",
       "      <th>Orug|SGF64046</th>\n",
       "      <td>NaN</td>\n",
       "      <td>1</td>\n",
       "      <td>0.000002</td>\n",
       "    </tr>\n",
       "    <tr>\n",
       "      <th>Orug|SGF73084</th>\n",
       "      <td>NaN</td>\n",
       "      <td>1</td>\n",
       "      <td>0.000002</td>\n",
       "    </tr>\n",
       "    <tr>\n",
       "      <th>Orug|SGF83253</th>\n",
       "      <td>NaN</td>\n",
       "      <td>1</td>\n",
       "      <td>0.126817</td>\n",
       "    </tr>\n",
       "  </tbody>\n",
       "</table>\n",
       "</div>"
      ],
      "text/plain": [
       "              class  contaminated  genetic_distance\n",
       "Orug|SGF64046   NaN             1          0.000002\n",
       "Orug|SGF73084   NaN             1          0.000002\n",
       "Orug|SGF83253   NaN             1          0.126817"
      ]
     },
     "execution_count": 30,
     "metadata": {},
     "output_type": "execute_result"
    }
   ],
   "source": [
    "# label contaminants and class fields\n",
    "df_contaminants = pd.DataFrame({\"genetic_distance\":pd.Series(contaminants,),\n",
    "                               \"contaminated\":1,\n",
    "                              })\n",
    "\n",
    "df_goodgenes = pd.DataFrame({\"genetic_distance\":pd.Series(good_genes),\n",
    "                               \"contaminated\":0,\n",
    "                               \"class\":\"good\",\n",
    "                              })\n",
    "\n",
    "# check there is no overlap in goodgene and contaminants lists:\n",
    "print(len(df_contaminants.index.intersection(df_goodgenes.index)), \"overlap in contaminant and good gene lists.\")\n",
    "\n",
    "df_concat = pd.concat([df_contaminants, df_goodgenes], axis=0)\n",
    "df_concat.head(3)"
   ]
  },
  {
   "cell_type": "code",
   "execution_count": 31,
   "metadata": {},
   "outputs": [],
   "source": [
    "df_genes = pd.merge(left=df_genes, right=df_concat, \n",
    "                     left_on='Orug_genes', right_index=True, \n",
    "                     how='left'\n",
    "                   )"
   ]
  },
  {
   "cell_type": "code",
   "execution_count": 32,
   "metadata": {},
   "outputs": [],
   "source": [
    "# add RF distance\n",
    "df_genes = df_genes.join(on='Orug_genes', other=pd.Series(rfs, name=\"rfdistance\"), how='left')"
   ]
  },
  {
   "cell_type": "code",
   "execution_count": 33,
   "metadata": {},
   "outputs": [],
   "source": [
    "def get_normpident(s):\n",
    "    \"\"\"\n",
    "    This function calculates ... ### This also is giving slightly different results, but I \n",
    "    can't understand the logic at this point of what it's trying to achieve ###\n",
    "    \"\"\"\n",
    "    if s[[\"pident_vs_Lnig\", \"pident\", \"pident_vs_Cflo\"]].count()==3:\n",
    "        npd = s['pident'] / s[['pident_vs_Cflo','pident_vs_Lnig']].mean() \n",
    "    else: ### WHAT HAPPENS TO GENES WITHOUT A BLAST HIT FOR ONE OF LNIG/CFLO? ###\n",
    "        npd = np.nan\n",
    "    return npd"
   ]
  },
  {
   "cell_type": "code",
   "execution_count": 34,
   "metadata": {},
   "outputs": [],
   "source": [
    "# get the normalized pident for Orug ... ### add details here ###\n",
    "df_genes['normpident'] = df_genes.apply(get_normpident, axis=1)"
   ]
  },
  {
   "cell_type": "code",
   "execution_count": 35,
   "metadata": {},
   "outputs": [],
   "source": [
    "# add distance classification for genes ... ### add details here ###\n",
    "def get_dist_class(x):\n",
    "    if np.log10(x) >= -4:\n",
    "        return 0\n",
    "    elif np.log10(x) < -4:\n",
    "        return 1\n",
    "    else:\n",
    "        return np.nan\n",
    "\n",
    "df_genes['dist_classification'] = df_genes.genetic_distance.apply(get_dist_class)"
   ]
  },
  {
   "cell_type": "code",
   "execution_count": 36,
   "metadata": {},
   "outputs": [],
   "source": [
    "# set Orug expression of 0 to nan: ### WHY? ### \n",
    "df_genes.loc[df_genes.Orug_expressionlevel == 0,'Orug_expressionlevel'] = np.nan"
   ]
  },
  {
   "cell_type": "code",
   "execution_count": 37,
   "metadata": {},
   "outputs": [],
   "source": [
    "# add the coefficient of variance for length and expression\n",
    "def get_coef_vars(s):\n",
    "    if s[['Cpla_length','Orug_length']].count() == 2:\n",
    "        len_cfv = (s['Orug_length'] - s['Cpla_length']) / (s['Cpla_length'] + s['Orug_length'])\n",
    "    else:\n",
    "        len_cfv = np.nan\n",
    "    if s[['Orug_expressionlevel', 'Cpla_expressionlevel']].count() == 2:\n",
    "        exp_cfv = (s['Orug_expressionlevel'] - s['Cpla_expressionlevel']) / (s['Cpla_expressionlevel'] + s['Orug_expressionlevel'])\n",
    "    else:\n",
    "        exp_cfv = np.nan\n",
    "    return pd.Series([len_cfv, exp_cfv])\n",
    "\n",
    "df_genes[['len_coeff','exp_coeff']] = df_genes.apply(get_coef_vars, axis=1)"
   ]
  },
  {
   "cell_type": "code",
   "execution_count": 38,
   "metadata": {},
   "outputs": [],
   "source": [
    "# add the sister taxa if given:\n",
    "df_genes = df_genes.join(pd.Series(s_clade, name='ctd_sis_taxon'), on='Orug_genes', how='left')"
   ]
  },
  {
   "cell_type": "code",
   "execution_count": 39,
   "metadata": {},
   "outputs": [],
   "source": [
    "def refine_verdict(s):\n",
    "    if (s['contaminated'] == 1) and (s['ctd_sis_taxon'] == 'P'):\n",
    "        clss = 'guilty'\n",
    "    elif (s['contaminated'] == 1) and (s['ctd_sis_taxon'] == 'F' or s['ctd_sis_taxon'] == 'both'):\n",
    "        clss = 'bad'\n",
    "    else:\n",
    "        clss = s['class']\n",
    "    \n",
    "    return clss\n",
    "        \n",
    "df_genes['class'] = df_genes.apply(refine_verdict, axis=1)"
   ]
  },
  {
   "cell_type": "code",
   "execution_count": 40,
   "metadata": {},
   "outputs": [],
   "source": [
    "# adjust column names for clarity\n",
    "df_genes = df_genes.rename({'pident':'pident_vs_Cpla',\n",
    "                             'sseqid':'Cpla_genes',\n",
    "                            },\n",
    "                            axis=1,\n",
    "                           )"
   ]
  },
  {
   "cell_type": "code",
   "execution_count": 41,
   "metadata": {},
   "outputs": [
    {
     "data": {
      "text/html": [
       "<div>\n",
       "<style scoped>\n",
       "    .dataframe tbody tr th:only-of-type {\n",
       "        vertical-align: middle;\n",
       "    }\n",
       "\n",
       "    .dataframe tbody tr th {\n",
       "        vertical-align: top;\n",
       "    }\n",
       "\n",
       "    .dataframe thead th {\n",
       "        text-align: right;\n",
       "    }\n",
       "</style>\n",
       "<table border=\"1\" class=\"dataframe\">\n",
       "  <thead>\n",
       "    <tr style=\"text-align: right;\">\n",
       "      <th></th>\n",
       "      <th>Orug_genes</th>\n",
       "      <th>qseqid</th>\n",
       "      <th>Cpla_genes</th>\n",
       "      <th>pident_vs_Cpla</th>\n",
       "      <th>Cpla_length</th>\n",
       "      <th>Orug_length</th>\n",
       "      <th>pident_vs_Cflo</th>\n",
       "      <th>pident_vs_Lnig</th>\n",
       "      <th>Cpla_expressionlevel</th>\n",
       "      <th>Orug_expressionlevel</th>\n",
       "      <th>class</th>\n",
       "      <th>contaminated</th>\n",
       "      <th>genetic_distance</th>\n",
       "      <th>rfdistance</th>\n",
       "      <th>normpident</th>\n",
       "      <th>dist_classification</th>\n",
       "      <th>len_coeff</th>\n",
       "      <th>exp_coeff</th>\n",
       "      <th>ctd_sis_taxon</th>\n",
       "    </tr>\n",
       "  </thead>\n",
       "  <tbody>\n",
       "    <tr>\n",
       "      <th>0</th>\n",
       "      <td>Orug|SGF62645</td>\n",
       "      <td>Orug|SGF62645</td>\n",
       "      <td>Cpla|SGF49990</td>\n",
       "      <td>100.00</td>\n",
       "      <td>795</td>\n",
       "      <td>104</td>\n",
       "      <td>99.04</td>\n",
       "      <td>87.07</td>\n",
       "      <td>1477.909318</td>\n",
       "      <td>0.243665</td>\n",
       "      <td>bad</td>\n",
       "      <td>1.0</td>\n",
       "      <td>0.000002</td>\n",
       "      <td>0.7</td>\n",
       "      <td>1.074633</td>\n",
       "      <td>1.0</td>\n",
       "      <td>-0.768632</td>\n",
       "      <td>-0.999670</td>\n",
       "      <td>F</td>\n",
       "    </tr>\n",
       "    <tr>\n",
       "      <th>1</th>\n",
       "      <td>Orug|SGF62647</td>\n",
       "      <td>Orug|SGF62647</td>\n",
       "      <td>Cpla|SGF48983</td>\n",
       "      <td>100.00</td>\n",
       "      <td>108</td>\n",
       "      <td>143</td>\n",
       "      <td>34.09</td>\n",
       "      <td>34.38</td>\n",
       "      <td>0.752753</td>\n",
       "      <td>62.445599</td>\n",
       "      <td>NaN</td>\n",
       "      <td>NaN</td>\n",
       "      <td>NaN</td>\n",
       "      <td>NaN</td>\n",
       "      <td>2.920987</td>\n",
       "      <td>NaN</td>\n",
       "      <td>0.139442</td>\n",
       "      <td>0.976178</td>\n",
       "      <td>NaN</td>\n",
       "    </tr>\n",
       "    <tr>\n",
       "      <th>2</th>\n",
       "      <td>Orug|SGF62652</td>\n",
       "      <td>Orug|SGF62652</td>\n",
       "      <td>Cpla|SGF65473</td>\n",
       "      <td>96.36</td>\n",
       "      <td>220</td>\n",
       "      <td>313</td>\n",
       "      <td>95.81</td>\n",
       "      <td>40.08</td>\n",
       "      <td>0.745316</td>\n",
       "      <td>5.277055</td>\n",
       "      <td>good</td>\n",
       "      <td>0.0</td>\n",
       "      <td>0.132791</td>\n",
       "      <td>0.7</td>\n",
       "      <td>1.418206</td>\n",
       "      <td>0.0</td>\n",
       "      <td>0.174484</td>\n",
       "      <td>0.752484</td>\n",
       "      <td>NaN</td>\n",
       "    </tr>\n",
       "    <tr>\n",
       "      <th>3</th>\n",
       "      <td>Orug|SGF62674</td>\n",
       "      <td>Orug|SGF62674</td>\n",
       "      <td>Cpla|SGF48204</td>\n",
       "      <td>100.00</td>\n",
       "      <td>154</td>\n",
       "      <td>161</td>\n",
       "      <td>87.50</td>\n",
       "      <td>88.54</td>\n",
       "      <td>2.934701</td>\n",
       "      <td>6506.625398</td>\n",
       "      <td>guilty</td>\n",
       "      <td>1.0</td>\n",
       "      <td>0.000002</td>\n",
       "      <td>0.7</td>\n",
       "      <td>1.136105</td>\n",
       "      <td>1.0</td>\n",
       "      <td>0.022222</td>\n",
       "      <td>0.999098</td>\n",
       "      <td>P</td>\n",
       "    </tr>\n",
       "    <tr>\n",
       "      <th>4</th>\n",
       "      <td>Orug|SGF62679</td>\n",
       "      <td>Orug|SGF62679</td>\n",
       "      <td>Cpla|SGF63546</td>\n",
       "      <td>90.55</td>\n",
       "      <td>939</td>\n",
       "      <td>201</td>\n",
       "      <td>89.50</td>\n",
       "      <td>90.00</td>\n",
       "      <td>10.304242</td>\n",
       "      <td>0.163538</td>\n",
       "      <td>good</td>\n",
       "      <td>0.0</td>\n",
       "      <td>0.107483</td>\n",
       "      <td>0.2</td>\n",
       "      <td>1.008914</td>\n",
       "      <td>0.0</td>\n",
       "      <td>-0.647368</td>\n",
       "      <td>-0.968754</td>\n",
       "      <td>NaN</td>\n",
       "    </tr>\n",
       "  </tbody>\n",
       "</table>\n",
       "</div>"
      ],
      "text/plain": [
       "      Orug_genes         qseqid     Cpla_genes  pident_vs_Cpla  Cpla_length  \\\n",
       "0  Orug|SGF62645  Orug|SGF62645  Cpla|SGF49990          100.00          795   \n",
       "1  Orug|SGF62647  Orug|SGF62647  Cpla|SGF48983          100.00          108   \n",
       "2  Orug|SGF62652  Orug|SGF62652  Cpla|SGF65473           96.36          220   \n",
       "3  Orug|SGF62674  Orug|SGF62674  Cpla|SGF48204          100.00          154   \n",
       "4  Orug|SGF62679  Orug|SGF62679  Cpla|SGF63546           90.55          939   \n",
       "\n",
       "   Orug_length  pident_vs_Cflo  pident_vs_Lnig  Cpla_expressionlevel  \\\n",
       "0          104           99.04           87.07           1477.909318   \n",
       "1          143           34.09           34.38              0.752753   \n",
       "2          313           95.81           40.08              0.745316   \n",
       "3          161           87.50           88.54              2.934701   \n",
       "4          201           89.50           90.00             10.304242   \n",
       "\n",
       "   Orug_expressionlevel   class  contaminated  genetic_distance  rfdistance  \\\n",
       "0              0.243665     bad           1.0          0.000002         0.7   \n",
       "1             62.445599     NaN           NaN               NaN         NaN   \n",
       "2              5.277055    good           0.0          0.132791         0.7   \n",
       "3           6506.625398  guilty           1.0          0.000002         0.7   \n",
       "4              0.163538    good           0.0          0.107483         0.2   \n",
       "\n",
       "   normpident  dist_classification  len_coeff  exp_coeff ctd_sis_taxon  \n",
       "0    1.074633                  1.0  -0.768632  -0.999670             F  \n",
       "1    2.920987                  NaN   0.139442   0.976178           NaN  \n",
       "2    1.418206                  0.0   0.174484   0.752484           NaN  \n",
       "3    1.136105                  1.0   0.022222   0.999098             P  \n",
       "4    1.008914                  0.0  -0.647368  -0.968754           NaN  "
      ]
     },
     "execution_count": 41,
     "metadata": {},
     "output_type": "execute_result"
    }
   ],
   "source": [
    "df_genes.head()"
   ]
  },
  {
   "cell_type": "code",
   "execution_count": 42,
   "metadata": {},
   "outputs": [
    {
     "data": {
      "text/plain": [
       "3522"
      ]
     },
     "execution_count": 42,
     "metadata": {},
     "output_type": "execute_result"
    }
   ],
   "source": [
    "len(df_genes)"
   ]
  },
  {
   "cell_type": "markdown",
   "metadata": {},
   "source": [
    "## 4. Plots showing that these features indicate contamination\n",
    "The plots below show clearly that the phylogenetic classification identifies genes in Orug that have low expression, are very short, and have very low genetic distance to their best hit in Cpla. \n",
    "Moreover, the phylogenetic classification of the parent/sister clade of these likely contaminants adds confidence to this classification. "
   ]
  },
  {
   "cell_type": "code",
   "execution_count": 43,
   "metadata": {},
   "outputs": [
    {
     "data": {
      "image/png": "[encoded data removed]",
      "text/plain": [
       "<Figure size 432x288 with 1 Axes>"
      ]
     },
     "metadata": {},
     "output_type": "display_data"
    }
   ],
   "source": [
    "g = sns.violinplot(data=pd.DataFrame(df_genes[[ 'Cpla_expressionlevel',\n",
    "                                           'Orug_expressionlevel',]].stack().apply(np.log2)\n",
    "                                ).reset_index(1\n",
    "                                ).join(df_genes[['contaminated']]\n",
    "                                ),\n",
    "               y=0,\n",
    "               x='level_1',\n",
    "               hue='contaminated',\n",
    "               scale='area' # I think area is more appropriate than count, since we want to compare \n",
    "                            # the distribution, not the number of genes here.\n",
    "              )\n",
    "plt.xlabel(\"\")\n",
    "plt.ylabel(\"log2(mean expression)\")\n",
    "plt.show()"
   ]
  },
  {
   "cell_type": "code",
   "execution_count": 44,
   "metadata": {},
   "outputs": [
    {
     "data": {
      "image/png": "[encoded data removed]",
      "text/plain": [
       "<Figure size 432x288 with 1 Axes>"
      ]
     },
     "metadata": {},
     "output_type": "display_data"
    }
   ],
   "source": [
    "g = sns.violinplot(data=pd.DataFrame(df_genes[[ 'pident_vs_Cpla',\n",
    "                                           'contaminated',]]\n",
    "                                ),\n",
    "                   y='pident_vs_Cpla',\n",
    "                   x='contaminated',\n",
    "                   scale='area' \n",
    "                  )\n",
    "plt.xlabel(\"\")\n",
    "plt.ylabel(\"% identity cf C.planatus\")\n",
    "plt.xticks([0,1],['\"Good\" sequences', '\"Dodgy\" sequences'])\n",
    "plt.show()"
   ]
  },
  {
   "cell_type": "code",
   "execution_count": 45,
   "metadata": {},
   "outputs": [
    {
     "data": {
      "image/png": "[encoded data removed]",
      "text/plain": [
       "<Figure size 432x288 with 1 Axes>"
      ]
     },
     "metadata": {},
     "output_type": "display_data"
    }
   ],
   "source": [
    "g = sns.violinplot(data=pd.DataFrame(df_genes[[ 'len_coeff',\n",
    "                                           'contaminated',]]\n",
    "                                ),\n",
    "                   y='len_coeff',\n",
    "                   x='contaminated',\n",
    "                   scale='area' \n",
    "                  )\n",
    "plt.xlabel(\"\")\n",
    "plt.ylabel(\"Orug - Cpla length coefficient of variance\")\n",
    "plt.xticks([0,1],['\"Good\" sequences', '\"Dodgy\" sequences'])\n",
    "plt.show()"
   ]
  },
  {
   "cell_type": "code",
   "execution_count": 46,
   "metadata": {},
   "outputs": [
    {
     "data": {
      "image/png": "[encoded data removed]",
      "text/plain": [
       "<Figure size 432x288 with 1 Axes>"
      ]
     },
     "metadata": {},
     "output_type": "display_data"
    }
   ],
   "source": [
    "g = sns.violinplot(data=pd.DataFrame(df_genes[[ 'exp_coeff',\n",
    "                                           'contaminated',]]\n",
    "                                ),\n",
    "                   y='exp_coeff',\n",
    "                   x='contaminated',\n",
    "                   scale='area' \n",
    "                  )\n",
    "plt.xlabel(\"\")\n",
    "plt.ylabel(\"Orug - Cpla expression coefficient of variance\")\n",
    "plt.xticks([0,1],['\"Good\" sequences', '\"Dodgy\" sequences'])\n",
    "plt.show()"
   ]
  },
  {
   "cell_type": "code",
   "execution_count": 47,
   "metadata": {
    "collapsed": true
   },
   "outputs": [],
   "source": [
    "#which gene is contaminated?\n",
    "O_con_ldiff = []\n",
    "O_con_ediff = []\n",
    "C_con_ldiff = []\n",
    "C_con_ediff = []\n",
    "\n",
    "for ind, row in df_genes.iterrows():\n",
    "    if row['ctd_sis_taxon'] == 'P' or row['ctd_sis_taxon'] == 'both':\n",
    "        O_con_ldiff.append(row['len_coeff'])\n",
    "        O_con_ediff.append(row['exp_coeff'])\n",
    "    elif row['ctd_sis_taxon'] == 'F' or row['ctd_sis_taxon'] == 'both':\n",
    "        C_con_ldiff.append(row['len_coeff'])\n",
    "        C_con_ediff.append(row['exp_coeff'])"
   ]
  },
  {
   "cell_type": "code",
   "execution_count": 48,
   "metadata": {},
   "outputs": [
    {
     "data": {
      "image/png": "[encoded data removed]",
      "text/plain": [
       "<Figure size 432x288 with 1 Axes>"
      ]
     },
     "metadata": {},
     "output_type": "display_data"
    }
   ],
   "source": [
    "ax9 = sns.violinplot(data = [O_con_ldiff, C_con_ldiff], scale = 'count', inner = 'point')\n",
    "ax9.set(ylabel = 'Orug - Cpla normalised length diff')\n",
    "ax9.set_xticklabels(['Ponerine', 'Formicine'])\n",
    "ax9.set_xlabel('Sister taxon to Orug-Cpla clade')\n",
    "ax9 = sns.set_style('ticks')"
   ]
  },
  {
   "cell_type": "code",
   "execution_count": 49,
   "metadata": {},
   "outputs": [
    {
     "data": {
      "image/png": "[encoded data removed]",
      "text/plain": [
       "<Figure size 432x288 with 1 Axes>"
      ]
     },
     "metadata": {},
     "output_type": "display_data"
    }
   ],
   "source": [
    "ax10 = sns.violinplot(data = [O_con_ediff, C_con_ediff], scale = 'count', inner = 'point')\n",
    "ax10.set(ylabel = 'Orug - Cpla expression')\n",
    "ax10.set_xticklabels(['Ponerine', 'Formicine'])\n",
    "ax10.set_xlabel('Sister taxon to Orug-Cpla clade')\n",
    "ax10 = sns.set_style('ticks')"
   ]
  },
  {
   "cell_type": "markdown",
   "metadata": {},
   "source": [
    "## 5. Identify and remove contaminants from the transcriptome"
   ]
  },
  {
   "cell_type": "code",
   "execution_count": 50,
   "metadata": {},
   "outputs": [
    {
     "name": "stdout",
     "output_type": "stream",
     "text": [
      "703 332 91\n"
     ]
    }
   ],
   "source": [
    "#make list of contaminant genes that should be removed from the Orug transcriptome\n",
    "#include genes if contaminated says 1 and if rfdist >= 0.6\n",
    "genes_for_removal = []\n",
    "count = 0\n",
    "c2 = []\n",
    "\n",
    "for ind, row in df_genes.iterrows():\n",
    "    if row['class'] == 'bad':\n",
    "        genes_for_removal.append(row['Orug_genes'])\n",
    "    elif row['ctd_sis_taxon'] != 'P' \\\n",
    "        and (row['rfdistance'] >= 0.6 or \n",
    "              pd.isnull(row['rfdistance'])\n",
    "             ) \\\n",
    "        and (row['dist_classification'] == 1 or \n",
    "             (row['exp_coeff'] < -0.2 and \n",
    "              row['len_coeff'] < -0.2)\n",
    "             ):\n",
    "        genes_for_removal.append(row['Orug_genes'])\n",
    "        count += 1\n",
    "    elif row['ctd_sis_taxon'] == 'F' and \\\n",
    "         row['exp_coeff'] < -0.2      and  \\\n",
    "         row['len_coeff'] < -0.2:\n",
    "        genes_for_removal.append(row['Orug_genes'])\n",
    "        c2.append(row['Orug_genes'])\n",
    "print(len(genes_for_removal), count, len(c2))"
   ]
  },
  {
   "cell_type": "code",
   "execution_count": 52,
   "metadata": {},
   "outputs": [],
   "source": [
    "# filter Orug txome to remove contaminants:\n",
    "s_clean_Orug_txome = s_Orug_txome[~s_Orug_txome.index.isin(genes_for_removal)]"
   ]
  },
  {
   "cell_type": "code",
   "execution_count": 53,
   "metadata": {},
   "outputs": [
    {
     "name": "stdout",
     "output_type": "stream",
     "text": [
      "26161\n",
      "25458\n"
     ]
    }
   ],
   "source": [
    "print(len(s_Orug_txome))\n",
    "print(len(s_clean_Orug_txome))"
   ]
  },
  {
   "cell_type": "code",
   "execution_count": 1,
   "metadata": {
    "collapsed": true
   },
   "outputs": [
    {
     "ename": "NameError",
     "evalue": "name 's_clean_Orug_txome' is not defined",
     "output_type": "error",
     "traceback": [
      "\u001b[0;31m---------------------------------------------------------------------------\u001b[0m",
      "\u001b[0;31mNameError\u001b[0m                                 Traceback (most recent call last)",
      "\u001b[0;32m<ipython-input-1-91543edbd71a>\u001b[0m in \u001b[0;36m<module>\u001b[0;34m()\u001b[0m\n\u001b[1;32m      1\u001b[0m \u001b[0;31m#WRITE NEW ORUG TRANSCRIPTOME\u001b[0m\u001b[0;34m\u001b[0m\u001b[0;34m\u001b[0m\u001b[0m\n\u001b[1;32m      2\u001b[0m \u001b[0;32mwith\u001b[0m \u001b[0mopen\u001b[0m\u001b[0;34m(\u001b[0m\u001b[0;34m'clean_Orug_txome.fasta'\u001b[0m\u001b[0;34m,\u001b[0m \u001b[0;34m'a'\u001b[0m\u001b[0;34m)\u001b[0m \u001b[0;32mas\u001b[0m \u001b[0mf\u001b[0m\u001b[0;34m:\u001b[0m\u001b[0;34m\u001b[0m\u001b[0m\n\u001b[0;32m----> 3\u001b[0;31m     \u001b[0;32mfor\u001b[0m \u001b[0mgeneid\u001b[0m \u001b[0;32min\u001b[0m \u001b[0ms_clean_Orug_txome\u001b[0m\u001b[0;34m.\u001b[0m\u001b[0mindex\u001b[0m\u001b[0;34m:\u001b[0m\u001b[0;34m\u001b[0m\u001b[0m\n\u001b[0m\u001b[1;32m      4\u001b[0m         \u001b[0mf\u001b[0m\u001b[0;34m.\u001b[0m\u001b[0mwrite\u001b[0m\u001b[0;34m(\u001b[0m\u001b[0;34m'>{}\\n{}\\n'\u001b[0m\u001b[0;34m.\u001b[0m\u001b[0mformat\u001b[0m\u001b[0;34m(\u001b[0m\u001b[0mgeneid\u001b[0m\u001b[0;34m,\u001b[0m \u001b[0ms_clean_Orug_txome\u001b[0m\u001b[0;34m.\u001b[0m\u001b[0mloc\u001b[0m\u001b[0;34m[\u001b[0m\u001b[0mgeneid\u001b[0m\u001b[0;34m]\u001b[0m\u001b[0;34m)\u001b[0m\u001b[0;34m)\u001b[0m\u001b[0;34m\u001b[0m\u001b[0m\n\u001b[1;32m      5\u001b[0m     \u001b[0mf\u001b[0m\u001b[0;34m.\u001b[0m\u001b[0mclose\u001b[0m\u001b[0;34m(\u001b[0m\u001b[0;34m)\u001b[0m\u001b[0;34m\u001b[0m\u001b[0m\n",
      "\u001b[0;31mNameError\u001b[0m: name 's_clean_Orug_txome' is not defined"
     ]
    }
   ],
   "source": [
    "#WRITE NEW ORUG TRANSCRIPTOME\n",
    "with open('clean_Orug_txome.fasta', 'a') as f:\n",
    "    for geneid in s_clean_Orug_txome.index:\n",
    "        f.write('>{}\\n{}\\n'.format(geneid, s_clean_Orug_txome.loc[geneid]))\n",
    "    f.close()"
   ]
  },
  {
   "cell_type": "code",
   "execution_count": null,
   "metadata": {},
   "outputs": [],
   "source": []
  }
 ],
 "metadata": {
  "kernelspec": {
   "display_name": "Python 3",
   "language": "python",
   "name": "python3"
  },
  "language_info": {
   "codemirror_mode": {
    "name": "ipython",
    "version": 3
   },
   "file_extension": ".py",
   "mimetype": "text/x-python",
   "name": "python",
   "nbconvert_exporter": "python",
   "pygments_lexer": "ipython3",
   "version": "3.6.5"
  }
 },
 "nbformat": 4,
 "nbformat_minor": 2
}
